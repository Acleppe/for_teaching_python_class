{
 "cells": [
  {
   "cell_type": "markdown",
   "metadata": {},
   "source": [
    "# Python Data Science Prep Class - Intro to Pandas \n",
    "#### (JPW Lecture)"
   ]
  },
  {
   "cell_type": "code",
   "execution_count": 14,
   "metadata": {
    "collapsed": true
   },
   "outputs": [],
   "source": [
    "# import Numpy with name as 'np' by convention.\n",
    "# import Pandas with name as 'pd' by convention.  \n",
    "# We can now use 'np' and 'pd' to access all Numpy and Pandas methods and attributes, respectively.\n",
    "import numpy as np\n",
    "import pandas as pd"
   ]
  },
  {
   "cell_type": "markdown",
   "metadata": {},
   "source": [
    "## Creating a New DataFrame\n",
    "***\n",
    "There are many ways we can create a DataFrame.\n",
    "\n",
    "### 1. We can just pass a list. \n",
    "Note the columns and rows (index) are not labeled but are simply given a number. This is just a demonstration to show how DataFrames parse incoming data and would likely never be done.  "
   ]
  },
  {
   "cell_type": "code",
   "execution_count": 15,
   "metadata": {
    "collapsed": false
   },
   "outputs": [
    {
     "data": {
      "text/html": [
       "<div>\n",
       "<table border=\"1\" class=\"dataframe\">\n",
       "  <thead>\n",
       "    <tr style=\"text-align: right;\">\n",
       "      <th></th>\n",
       "      <th>0</th>\n",
       "    </tr>\n",
       "  </thead>\n",
       "  <tbody>\n",
       "    <tr>\n",
       "      <th>0</th>\n",
       "      <td>10</td>\n",
       "    </tr>\n",
       "    <tr>\n",
       "      <th>1</th>\n",
       "      <td>20</td>\n",
       "    </tr>\n",
       "    <tr>\n",
       "      <th>2</th>\n",
       "      <td>30</td>\n",
       "    </tr>\n",
       "    <tr>\n",
       "      <th>3</th>\n",
       "      <td>40</td>\n",
       "    </tr>\n",
       "    <tr>\n",
       "      <th>4</th>\n",
       "      <td>50</td>\n",
       "    </tr>\n",
       "  </tbody>\n",
       "</table>\n",
       "</div>"
      ],
      "text/plain": [
       "    0\n",
       "0  10\n",
       "1  20\n",
       "2  30\n",
       "3  40\n",
       "4  50"
      ]
     },
     "execution_count": 15,
     "metadata": {},
     "output_type": "execute_result"
    }
   ],
   "source": [
    "# Passing in a single list creates a single column.\n",
    "one_col = [10, 20, 30, 40, 50]\n",
    "pd.DataFrame(data=one_col)"
   ]
  },
  {
   "cell_type": "code",
   "execution_count": 16,
   "metadata": {
    "collapsed": false
   },
   "outputs": [
    {
     "data": {
      "text/html": [
       "<div>\n",
       "<table border=\"1\" class=\"dataframe\">\n",
       "  <thead>\n",
       "    <tr style=\"text-align: right;\">\n",
       "      <th></th>\n",
       "      <th>0</th>\n",
       "      <th>1</th>\n",
       "      <th>2</th>\n",
       "      <th>3</th>\n",
       "      <th>4</th>\n",
       "    </tr>\n",
       "  </thead>\n",
       "  <tbody>\n",
       "    <tr>\n",
       "      <th>0</th>\n",
       "      <td>10</td>\n",
       "      <td>20</td>\n",
       "      <td>30</td>\n",
       "      <td>40</td>\n",
       "      <td>50</td>\n",
       "    </tr>\n",
       "  </tbody>\n",
       "</table>\n",
       "</div>"
      ],
      "text/plain": [
       "    0   1   2   3   4\n",
       "0  10  20  30  40  50"
      ]
     },
     "execution_count": 16,
     "metadata": {},
     "output_type": "execute_result"
    }
   ],
   "source": [
    "# Passing in a nested list (note double brackets) creates a single row\n",
    "one_row = [[10, 20, 30, 40, 50]]\n",
    "pd.DataFrame(data=one_row)"
   ]
  },
  {
   "cell_type": "code",
   "execution_count": 17,
   "metadata": {
    "collapsed": false
   },
   "outputs": [
    {
     "data": {
      "text/html": [
       "<div>\n",
       "<table border=\"1\" class=\"dataframe\">\n",
       "  <thead>\n",
       "    <tr style=\"text-align: right;\">\n",
       "      <th></th>\n",
       "      <th>0</th>\n",
       "      <th>1</th>\n",
       "      <th>2</th>\n",
       "      <th>3</th>\n",
       "      <th>4</th>\n",
       "    </tr>\n",
       "  </thead>\n",
       "  <tbody>\n",
       "    <tr>\n",
       "      <th>0</th>\n",
       "      <td>10</td>\n",
       "      <td>20</td>\n",
       "      <td>30</td>\n",
       "      <td>40</td>\n",
       "      <td>50</td>\n",
       "    </tr>\n",
       "    <tr>\n",
       "      <th>1</th>\n",
       "      <td>11</td>\n",
       "      <td>21</td>\n",
       "      <td>31</td>\n",
       "      <td>41</td>\n",
       "      <td>51</td>\n",
       "    </tr>\n",
       "    <tr>\n",
       "      <th>2</th>\n",
       "      <td>12</td>\n",
       "      <td>22</td>\n",
       "      <td>32</td>\n",
       "      <td>42</td>\n",
       "      <td>52</td>\n",
       "    </tr>\n",
       "  </tbody>\n",
       "</table>\n",
       "</div>"
      ],
      "text/plain": [
       "    0   1   2   3   4\n",
       "0  10  20  30  40  50\n",
       "1  11  21  31  41  51\n",
       "2  12  22  32  42  52"
      ]
     },
     "execution_count": 17,
     "metadata": {},
     "output_type": "execute_result"
    }
   ],
   "source": [
    "# Passing in a list of nested lists creates as many rows as there are nested lists\n",
    "three_rows = [[10, 20, 30, 40, 50], [11, 21, 31, 41, 51], [12, 22, 32, 42, 52]]\n",
    "pd.DataFrame(data=three_rows)"
   ]
  },
  {
   "cell_type": "markdown",
   "metadata": {},
   "source": [
    "### 2. We can create a _skeleton_ DataFrame by specifying the column and/or row names and dimensions at creation.  \n",
    "Note we don't have to actually pass in any data to create a DataFrame.  We can just specify the structure of its rows (index) x columns and it will be created blank."
   ]
  },
  {
   "cell_type": "code",
   "execution_count": 18,
   "metadata": {
    "collapsed": false
   },
   "outputs": [
    {
     "data": {
      "text/html": [
       "<div>\n",
       "<table border=\"1\" class=\"dataframe\">\n",
       "  <thead>\n",
       "    <tr style=\"text-align: right;\">\n",
       "      <th></th>\n",
       "      <th>col_1</th>\n",
       "      <th>col_2</th>\n",
       "      <th>col_3</th>\n",
       "    </tr>\n",
       "  </thead>\n",
       "  <tbody>\n",
       "    <tr>\n",
       "      <th>row_1</th>\n",
       "      <td>NaN</td>\n",
       "      <td>NaN</td>\n",
       "      <td>NaN</td>\n",
       "    </tr>\n",
       "    <tr>\n",
       "      <th>row_2</th>\n",
       "      <td>NaN</td>\n",
       "      <td>NaN</td>\n",
       "      <td>NaN</td>\n",
       "    </tr>\n",
       "    <tr>\n",
       "      <th>row_3</th>\n",
       "      <td>NaN</td>\n",
       "      <td>NaN</td>\n",
       "      <td>NaN</td>\n",
       "    </tr>\n",
       "  </tbody>\n",
       "</table>\n",
       "</div>"
      ],
      "text/plain": [
       "      col_1 col_2 col_3\n",
       "row_1   NaN   NaN   NaN\n",
       "row_2   NaN   NaN   NaN\n",
       "row_3   NaN   NaN   NaN"
      ]
     },
     "execution_count": 18,
     "metadata": {},
     "output_type": "execute_result"
    }
   ],
   "source": [
    "# Create skeleton DF\n",
    "pd.DataFrame(index=['row_1', 'row_2', 'row_3'], columns=['col_1', 'col_2', 'col_3'])"
   ]
  },
  {
   "cell_type": "markdown",
   "metadata": {},
   "source": [
    "When we run this, we get a 3x3 DataFrame as expected, but since we passed no actual data in we get __`NaN`__ values.  \n",
    "NaN stands for \"__Not a Number__\", and is equivalent to a null value.  \n",
    "\n",
    "__Dense v. Sparse data__: To keep things simple here, a matrix that has NaNs for a given row or column is called \"sparse\" (it can be more technical than this, but that's the gist you need to take home).  If the DataFrame is mostly full,  it is called \"dense.\"  In general, we will want to ideally work with \"dense\" data as most machine learning algorithms either perform better with it or actually require it.  The creation of a skeleton DF has uses for memory efficiency in certain use cases, but we will not encounter those today.  I only mention it here so you will be familiar with the terms and their meanings.  We will see how to deal with such \"missing\" data further below.\n",
    "\n",
    "Normally we won't want an empty DataFrame, however.  So one way to fill it with data is to use the __`data=`__ argument when we create it, like so:\n",
    "### 3. We can create filled DF with same skeleton as \\#2"
   ]
  },
  {
   "cell_type": "code",
   "execution_count": 19,
   "metadata": {
    "collapsed": false
   },
   "outputs": [
    {
     "data": {
      "text/html": [
       "<div>\n",
       "<table border=\"1\" class=\"dataframe\">\n",
       "  <thead>\n",
       "    <tr style=\"text-align: right;\">\n",
       "      <th></th>\n",
       "      <th>col_1</th>\n",
       "      <th>col_2</th>\n",
       "      <th>col_3</th>\n",
       "    </tr>\n",
       "  </thead>\n",
       "  <tbody>\n",
       "    <tr>\n",
       "      <th>row_1</th>\n",
       "      <td>1</td>\n",
       "      <td>2</td>\n",
       "      <td>3</td>\n",
       "    </tr>\n",
       "    <tr>\n",
       "      <th>row_2</th>\n",
       "      <td>4</td>\n",
       "      <td>5</td>\n",
       "      <td>6</td>\n",
       "    </tr>\n",
       "    <tr>\n",
       "      <th>row_3</th>\n",
       "      <td>7</td>\n",
       "      <td>8</td>\n",
       "      <td>9</td>\n",
       "    </tr>\n",
       "  </tbody>\n",
       "</table>\n",
       "</div>"
      ],
      "text/plain": [
       "       col_1  col_2  col_3\n",
       "row_1      1      2      3\n",
       "row_2      4      5      6\n",
       "row_3      7      8      9"
      ]
     },
     "execution_count": 19,
     "metadata": {},
     "output_type": "execute_result"
    }
   ],
   "source": [
    "# Use same skeleton as above, but also give data to fill the DF with\n",
    "data = np.arange(1, 10).reshape(3,3)\n",
    "pd.DataFrame(data=data, index=['row_1', 'row_2', 'row_3'], columns=['col_1', 'col_2', 'col_3'])"
   ]
  },
  {
   "cell_type": "markdown",
   "metadata": {},
   "source": [
    "Here we use Numpy to create a list using __`np.arange`__, which stands for \"array range\", and will create an _array_ (Numpy's advaned version of a list) from the range you specify.  Functionally it is equivalent to __`list(range(1, 10))`__. "
   ]
  },
  {
   "cell_type": "code",
   "execution_count": 20,
   "metadata": {
    "collapsed": false
   },
   "outputs": [
    {
     "data": {
      "text/plain": [
       "array([1, 2, 3, 4, 5, 6, 7, 8, 9])"
      ]
     },
     "execution_count": 20,
     "metadata": {},
     "output_type": "execute_result"
    }
   ],
   "source": [
    "np.arange(1, 10)    # returns a 1-dimensional array (list)"
   ]
  },
  {
   "cell_type": "code",
   "execution_count": 21,
   "metadata": {
    "collapsed": false
   },
   "outputs": [
    {
     "data": {
      "text/plain": [
       "[1, 2, 3, 4, 5, 6, 7, 8, 9]"
      ]
     },
     "execution_count": 21,
     "metadata": {},
     "output_type": "execute_result"
    }
   ],
   "source": [
    "list(range(1, 10))   # also returns a 1-dimensional list\n",
    "# Note if you are on Python 2.x instead of 3.x, you don't have to use the enclosing 'list()' func."
   ]
  },
  {
   "cell_type": "markdown",
   "metadata": {},
   "source": [
    "There are two primary differences between Numpy's advanced __`arange()`__ function (and its cousin the __`linspace()`__ function) and the standard __`list()`__.\n",
    "\n",
    "1. __`np.arange()`__ can take any value for a number (not just an `int`) and use any increment between them.  \n",
    "    + `np.arange(.5, 1, .1)` will return `[.5, .6, .7, .8, .9]`, for example.  \n",
    "    \n",
    "2. __`np.arange()`__ can be reshaped using Numpy's __`.reshape()`__ method for the array class.\n",
    "    + `.reshape(r, c)`, where `r` = rows, `c` = cols.  \n",
    "    \n",
    "We need \\#2 here to make our data fit the DF structure we have just created.  Let's see what happens when we try to pass in the exact same data, a list from 1 to 9, without changing its shape first."
   ]
  },
  {
   "cell_type": "code",
   "execution_count": 22,
   "metadata": {
    "collapsed": false
   },
   "outputs": [
    {
     "ename": "ValueError",
     "evalue": "Shape of passed values is (1, 9), indices imply (3, 3)",
     "output_type": "error",
     "traceback": [
      "\u001b[0;31m---------------------------------------------------------------------------\u001b[0m",
      "\u001b[0;31mValueError\u001b[0m                                Traceback (most recent call last)",
      "\u001b[0;32m/Users/jpw/anaconda/lib/python3.6/site-packages/pandas/core/internals.py\u001b[0m in \u001b[0;36mcreate_block_manager_from_blocks\u001b[0;34m(blocks, axes)\u001b[0m\n\u001b[1;32m   4246\u001b[0m                 blocks = [make_block(values=blocks[0],\n\u001b[0;32m-> 4247\u001b[0;31m                                      placement=slice(0, len(axes[0])))]\n\u001b[0m\u001b[1;32m   4248\u001b[0m \u001b[0;34m\u001b[0m\u001b[0m\n",
      "\u001b[0;32m/Users/jpw/anaconda/lib/python3.6/site-packages/pandas/core/internals.py\u001b[0m in \u001b[0;36mmake_block\u001b[0;34m(values, placement, klass, ndim, dtype, fastpath)\u001b[0m\n\u001b[1;32m   2684\u001b[0m \u001b[0;34m\u001b[0m\u001b[0m\n\u001b[0;32m-> 2685\u001b[0;31m     \u001b[0;32mreturn\u001b[0m \u001b[0mklass\u001b[0m\u001b[0;34m(\u001b[0m\u001b[0mvalues\u001b[0m\u001b[0;34m,\u001b[0m \u001b[0mndim\u001b[0m\u001b[0;34m=\u001b[0m\u001b[0mndim\u001b[0m\u001b[0;34m,\u001b[0m \u001b[0mfastpath\u001b[0m\u001b[0;34m=\u001b[0m\u001b[0mfastpath\u001b[0m\u001b[0;34m,\u001b[0m \u001b[0mplacement\u001b[0m\u001b[0;34m=\u001b[0m\u001b[0mplacement\u001b[0m\u001b[0;34m)\u001b[0m\u001b[0;34m\u001b[0m\u001b[0m\n\u001b[0m\u001b[1;32m   2686\u001b[0m \u001b[0;34m\u001b[0m\u001b[0m\n",
      "\u001b[0;32m/Users/jpw/anaconda/lib/python3.6/site-packages/pandas/core/internals.py\u001b[0m in \u001b[0;36m__init__\u001b[0;34m(self, values, placement, ndim, fastpath)\u001b[0m\n\u001b[1;32m    108\u001b[0m                              'implies %d' % (len(self.values),\n\u001b[0;32m--> 109\u001b[0;31m                                              len(self.mgr_locs)))\n\u001b[0m\u001b[1;32m    110\u001b[0m \u001b[0;34m\u001b[0m\u001b[0m\n",
      "\u001b[0;31mValueError\u001b[0m: Wrong number of items passed 1, placement implies 3",
      "\nDuring handling of the above exception, another exception occurred:\n",
      "\u001b[0;31mValueError\u001b[0m                                Traceback (most recent call last)",
      "\u001b[0;32m<ipython-input-22-ba2968c9ee5a>\u001b[0m in \u001b[0;36m<module>\u001b[0;34m()\u001b[0m\n\u001b[1;32m      1\u001b[0m \u001b[0;31m# No reshaping of the data this time....\u001b[0m\u001b[0;34m\u001b[0m\u001b[0;34m\u001b[0m\u001b[0m\n\u001b[1;32m      2\u001b[0m \u001b[0mdata\u001b[0m \u001b[0;34m=\u001b[0m \u001b[0mnp\u001b[0m\u001b[0;34m.\u001b[0m\u001b[0marange\u001b[0m\u001b[0;34m(\u001b[0m\u001b[0;36m1\u001b[0m\u001b[0;34m,\u001b[0m \u001b[0;36m10\u001b[0m\u001b[0;34m)\u001b[0m\u001b[0;34m\u001b[0m\u001b[0m\n\u001b[0;32m----> 3\u001b[0;31m \u001b[0mpd\u001b[0m\u001b[0;34m.\u001b[0m\u001b[0mDataFrame\u001b[0m\u001b[0;34m(\u001b[0m\u001b[0mdata\u001b[0m\u001b[0;34m=\u001b[0m\u001b[0mdata\u001b[0m\u001b[0;34m,\u001b[0m \u001b[0mindex\u001b[0m\u001b[0;34m=\u001b[0m\u001b[0;34m[\u001b[0m\u001b[0;34m'row_1'\u001b[0m\u001b[0;34m,\u001b[0m \u001b[0;34m'row_2'\u001b[0m\u001b[0;34m,\u001b[0m \u001b[0;34m'row_3'\u001b[0m\u001b[0;34m]\u001b[0m\u001b[0;34m,\u001b[0m \u001b[0mcolumns\u001b[0m\u001b[0;34m=\u001b[0m\u001b[0;34m[\u001b[0m\u001b[0;34m'col_1'\u001b[0m\u001b[0;34m,\u001b[0m \u001b[0;34m'col_2'\u001b[0m\u001b[0;34m,\u001b[0m \u001b[0;34m'col_3'\u001b[0m\u001b[0;34m]\u001b[0m\u001b[0;34m)\u001b[0m\u001b[0;34m\u001b[0m\u001b[0m\n\u001b[0m",
      "\u001b[0;32m/Users/jpw/anaconda/lib/python3.6/site-packages/pandas/core/frame.py\u001b[0m in \u001b[0;36m__init__\u001b[0;34m(self, data, index, columns, dtype, copy)\u001b[0m\n\u001b[1;32m    295\u001b[0m             \u001b[0;32melse\u001b[0m\u001b[0;34m:\u001b[0m\u001b[0;34m\u001b[0m\u001b[0m\n\u001b[1;32m    296\u001b[0m                 mgr = self._init_ndarray(data, index, columns, dtype=dtype,\n\u001b[0;32m--> 297\u001b[0;31m                                          copy=copy)\n\u001b[0m\u001b[1;32m    298\u001b[0m         \u001b[0;32melif\u001b[0m \u001b[0misinstance\u001b[0m\u001b[0;34m(\u001b[0m\u001b[0mdata\u001b[0m\u001b[0;34m,\u001b[0m \u001b[0;34m(\u001b[0m\u001b[0mlist\u001b[0m\u001b[0;34m,\u001b[0m \u001b[0mtypes\u001b[0m\u001b[0;34m.\u001b[0m\u001b[0mGeneratorType\u001b[0m\u001b[0;34m)\u001b[0m\u001b[0;34m)\u001b[0m\u001b[0;34m:\u001b[0m\u001b[0;34m\u001b[0m\u001b[0m\n\u001b[1;32m    299\u001b[0m             \u001b[0;32mif\u001b[0m \u001b[0misinstance\u001b[0m\u001b[0;34m(\u001b[0m\u001b[0mdata\u001b[0m\u001b[0;34m,\u001b[0m \u001b[0mtypes\u001b[0m\u001b[0;34m.\u001b[0m\u001b[0mGeneratorType\u001b[0m\u001b[0;34m)\u001b[0m\u001b[0;34m:\u001b[0m\u001b[0;34m\u001b[0m\u001b[0m\n",
      "\u001b[0;32m/Users/jpw/anaconda/lib/python3.6/site-packages/pandas/core/frame.py\u001b[0m in \u001b[0;36m_init_ndarray\u001b[0;34m(self, values, index, columns, dtype, copy)\u001b[0m\n\u001b[1;32m    472\u001b[0m             \u001b[0mvalues\u001b[0m \u001b[0;34m=\u001b[0m \u001b[0m_possibly_infer_to_datetimelike\u001b[0m\u001b[0;34m(\u001b[0m\u001b[0mvalues\u001b[0m\u001b[0;34m)\u001b[0m\u001b[0;34m\u001b[0m\u001b[0m\n\u001b[1;32m    473\u001b[0m \u001b[0;34m\u001b[0m\u001b[0m\n\u001b[0;32m--> 474\u001b[0;31m         \u001b[0;32mreturn\u001b[0m \u001b[0mcreate_block_manager_from_blocks\u001b[0m\u001b[0;34m(\u001b[0m\u001b[0;34m[\u001b[0m\u001b[0mvalues\u001b[0m\u001b[0;34m]\u001b[0m\u001b[0;34m,\u001b[0m \u001b[0;34m[\u001b[0m\u001b[0mcolumns\u001b[0m\u001b[0;34m,\u001b[0m \u001b[0mindex\u001b[0m\u001b[0;34m]\u001b[0m\u001b[0;34m)\u001b[0m\u001b[0;34m\u001b[0m\u001b[0m\n\u001b[0m\u001b[1;32m    475\u001b[0m \u001b[0;34m\u001b[0m\u001b[0m\n\u001b[1;32m    476\u001b[0m     \u001b[0;34m@\u001b[0m\u001b[0mproperty\u001b[0m\u001b[0;34m\u001b[0m\u001b[0m\n",
      "\u001b[0;32m/Users/jpw/anaconda/lib/python3.6/site-packages/pandas/core/internals.py\u001b[0m in \u001b[0;36mcreate_block_manager_from_blocks\u001b[0;34m(blocks, axes)\u001b[0m\n\u001b[1;32m   4254\u001b[0m         \u001b[0mblocks\u001b[0m \u001b[0;34m=\u001b[0m \u001b[0;34m[\u001b[0m\u001b[0mgetattr\u001b[0m\u001b[0;34m(\u001b[0m\u001b[0mb\u001b[0m\u001b[0;34m,\u001b[0m \u001b[0;34m'values'\u001b[0m\u001b[0;34m,\u001b[0m \u001b[0mb\u001b[0m\u001b[0;34m)\u001b[0m \u001b[0;32mfor\u001b[0m \u001b[0mb\u001b[0m \u001b[0;32min\u001b[0m \u001b[0mblocks\u001b[0m\u001b[0;34m]\u001b[0m\u001b[0;34m\u001b[0m\u001b[0m\n\u001b[1;32m   4255\u001b[0m         \u001b[0mtot_items\u001b[0m \u001b[0;34m=\u001b[0m \u001b[0msum\u001b[0m\u001b[0;34m(\u001b[0m\u001b[0mb\u001b[0m\u001b[0;34m.\u001b[0m\u001b[0mshape\u001b[0m\u001b[0;34m[\u001b[0m\u001b[0;36m0\u001b[0m\u001b[0;34m]\u001b[0m \u001b[0;32mfor\u001b[0m \u001b[0mb\u001b[0m \u001b[0;32min\u001b[0m \u001b[0mblocks\u001b[0m\u001b[0;34m)\u001b[0m\u001b[0;34m\u001b[0m\u001b[0m\n\u001b[0;32m-> 4256\u001b[0;31m         \u001b[0mconstruction_error\u001b[0m\u001b[0;34m(\u001b[0m\u001b[0mtot_items\u001b[0m\u001b[0;34m,\u001b[0m \u001b[0mblocks\u001b[0m\u001b[0;34m[\u001b[0m\u001b[0;36m0\u001b[0m\u001b[0;34m]\u001b[0m\u001b[0;34m.\u001b[0m\u001b[0mshape\u001b[0m\u001b[0;34m[\u001b[0m\u001b[0;36m1\u001b[0m\u001b[0;34m:\u001b[0m\u001b[0;34m]\u001b[0m\u001b[0;34m,\u001b[0m \u001b[0maxes\u001b[0m\u001b[0;34m,\u001b[0m \u001b[0me\u001b[0m\u001b[0;34m)\u001b[0m\u001b[0;34m\u001b[0m\u001b[0m\n\u001b[0m\u001b[1;32m   4257\u001b[0m \u001b[0;34m\u001b[0m\u001b[0m\n\u001b[1;32m   4258\u001b[0m \u001b[0;34m\u001b[0m\u001b[0m\n",
      "\u001b[0;32m/Users/jpw/anaconda/lib/python3.6/site-packages/pandas/core/internals.py\u001b[0m in \u001b[0;36mconstruction_error\u001b[0;34m(tot_items, block_shape, axes, e)\u001b[0m\n\u001b[1;32m   4231\u001b[0m         \u001b[0;32mraise\u001b[0m \u001b[0mValueError\u001b[0m\u001b[0;34m(\u001b[0m\u001b[0;34m\"Empty data passed with indices specified.\"\u001b[0m\u001b[0;34m)\u001b[0m\u001b[0;34m\u001b[0m\u001b[0m\n\u001b[1;32m   4232\u001b[0m     raise ValueError(\"Shape of passed values is {0}, indices imply {1}\".format(\n\u001b[0;32m-> 4233\u001b[0;31m         passed, implied))\n\u001b[0m\u001b[1;32m   4234\u001b[0m \u001b[0;34m\u001b[0m\u001b[0m\n\u001b[1;32m   4235\u001b[0m \u001b[0;34m\u001b[0m\u001b[0m\n",
      "\u001b[0;31mValueError\u001b[0m: Shape of passed values is (1, 9), indices imply (3, 3)"
     ]
    }
   ],
   "source": [
    "# No reshaping of the data this time....\n",
    "data = np.arange(1, 10)   \n",
    "pd.DataFrame(data=data, index=['row_1', 'row_2', 'row_3'], columns=['col_1', 'col_2', 'col_3'])"
   ]
  },
  {
   "cell_type": "markdown",
   "metadata": {},
   "source": [
    "Uh oh! We got \"__`ValueError: Shape of passed values is (1, 9), indices imply (3, 3)`__\"  Pandas is telling us, \"hey, the DataFrame you created implies a shape of 3x3, but you gave me a 1x9 set of data.  Not cool. Never program again!\"\n",
    "\n",
    "Okay.  I made up the last part about never programming again, but Pandas absolutely said the other part.\n",
    "\n",
    "Just a reminder, you can simply pass in the 3x3 data argument without naming the rows or columns and Pandas will create a 3x3 DF without named rows or columns.\n",
    "\n",
    "There are a couple more prominent ways to create a DataFrame.\n",
    "### 4. Create a DataFrame by using a dictionary as the data"
   ]
  },
  {
   "cell_type": "code",
   "execution_count": null,
   "metadata": {
    "collapsed": false
   },
   "outputs": [],
   "source": [
    "data_dict = {'Col_A': 11, 'Col_B': 22, 'Col_C': 33}\n",
    "pd.DataFrame(data=data_dict, index=range(3))"
   ]
  },
  {
   "cell_type": "markdown",
   "metadata": {},
   "source": [
    "Note how we set the values for one row of data and then extended it three times by passing in the __`index=range(3)`__ argument.  Pandas requires an __`index`__ value when you pass in a single value dictionary. (delete the `index=range(3)` argument and run the cell above, you'll be scolded).\n",
    "\n",
    "One way around this, and an approach which provides greater flexibility going forward, is to make the __values__ of the dictionary into a __list__.  Then, when Pandas reads this as data, it knows there are only as many rows as there are members in the list."
   ]
  },
  {
   "cell_type": "code",
   "execution_count": null,
   "metadata": {
    "collapsed": false
   },
   "outputs": [],
   "source": [
    "data_dict_list = {'Col_A': [11], 'Col_B': [22], 'Col_C': [33]}\n",
    "pd.DataFrame(data=data_dict_list)"
   ]
  },
  {
   "cell_type": "markdown",
   "metadata": {},
   "source": [
    "Boom.  Same dictionary as before but the values are now in a list and Pandas knows exactly how many rows to make.  One catch is that all lists must be the same length in the dictionary.  For one last point let's extend the lists in this dictionary to illustrate how easy it is to make a DataFrame from a dict."
   ]
  },
  {
   "cell_type": "code",
   "execution_count": null,
   "metadata": {
    "collapsed": false
   },
   "outputs": [],
   "source": [
    "extended_dict_list = {'Col_A': [11, 101, 1001, 10001], 'Col_B': [22, 202, 2002, 20002], 'Col_C': [33, 303, 3003, 30003]}\n",
    "pd.DataFrame(data=extended_dict_list)"
   ]
  },
  {
   "cell_type": "markdown",
   "metadata": {},
   "source": [
    "In general, using dictionaries or even lists of dictionaries tends to be more flexible than lists or lists of lists."
   ]
  },
  {
   "cell_type": "code",
   "execution_count": null,
   "metadata": {
    "collapsed": false
   },
   "outputs": [],
   "source": [
    "list_of_dicts = [{'Col_A': 'Ohhhhh'}, {'Col_B': 'Mahhhhh'}, {'Col_C': 'Gawddddd'}]\n",
    "pd.DataFrame(data=list_of_dicts)"
   ]
  },
  {
   "cell_type": "markdown",
   "metadata": {},
   "source": [
    "## Inspecting the Data\n",
    "***\n",
    "Now that we know how to make a DataFrame from scratch, let's load one with data that already exists in it so we can get this party started.  By convention, when loading a DataFrame we usually call it __df__, and variations arise from that.  Pandas has many ways to load different formats of data, but the most prevalent is likely from spreadsheet files, like Excel's `.xlsx` format or `.csv` files.\n",
    "If possible, always choose the `.csv` file to import into a DataFrame because the `.xlsx` files have a lot of info overhead that Pandas has to strip away, resulting in much faster parsing and load times for `.csv` files of a large size.\n",
    "\n",
    "We will now import a `.csv` file into a new DataFrame using the __`read_csv()`__ function.  There are many options to how you import a `.csv` file (see [documentation](http://pandas.pydata.org/pandas-docs/stable/generated/pandas.read_csv.html) here), most of which are dependent upon the data itself, but we will stick to a vanilla import here.  \n",
    "\n",
    "The data is actual real-life data from my dating history, all anonymous.  I am choosing to use this data beause it is manageable but also highly relateable -- we've all dated someone who was really intelligent but had no sense of humor, or who was great on paper but had no chemistry in person.  Using these real examples for an everday topic will help demonstrate how effortless Pandas can make data wrangling to find deeper insights into the data."
   ]
  },
  {
   "cell_type": "code",
   "execution_count": 27,
   "metadata": {
    "collapsed": false
   },
   "outputs": [],
   "source": [
    "# load the data from a csv file into a DataFrame called \"df\"\n",
    "df = pd.read_csv('pandas_dating_demo_df_anon.csv')"
   ]
  },
  {
   "cell_type": "markdown",
   "metadata": {},
   "source": [
    "When I load data into a DataFrame, the first thing I want to know are the dimensions of the data.  For this we can use the __`shape`__ method.  Another thing I always do is take a quick peek at the data, just to see what I'm working with.  What are some of the column names and what kind of data do they have? (There are other ways to do this, as we'll see, but I find just looking at the data visually is a great first step).  To do this we will use the __`head`__ method to look at the first N rows (5 by default)."
   ]
  },
  {
   "cell_type": "code",
   "execution_count": 31,
   "metadata": {
    "collapsed": false
   },
   "outputs": [
    {
     "data": {
      "text/plain": [
       "(50, 16)"
      ]
     },
     "execution_count": 31,
     "metadata": {},
     "output_type": "execute_result"
    }
   ],
   "source": [
    "# returns shape = (rows, cols)\n",
    "df.shape"
   ]
  },
  {
   "cell_type": "code",
   "execution_count": 32,
   "metadata": {
    "collapsed": false
   },
   "outputs": [
    {
     "data": {
      "text/html": [
       "<div>\n",
       "<table border=\"1\" class=\"dataframe\">\n",
       "  <thead>\n",
       "    <tr style=\"text-align: right;\">\n",
       "      <th></th>\n",
       "      <th>ID</th>\n",
       "      <th>Age</th>\n",
       "      <th>Height(in.)</th>\n",
       "      <th>Attraction</th>\n",
       "      <th>Hair</th>\n",
       "      <th>Intellectual_Connection</th>\n",
       "      <th>Humor</th>\n",
       "      <th>Chemistry</th>\n",
       "      <th>Attitude</th>\n",
       "      <th>Wine</th>\n",
       "      <th>Politics</th>\n",
       "      <th>Income</th>\n",
       "      <th>Divorced</th>\n",
       "      <th>Kids</th>\n",
       "      <th>Second_Date</th>\n",
       "      <th>Like_This_Person?</th>\n",
       "    </tr>\n",
       "  </thead>\n",
       "  <tbody>\n",
       "    <tr>\n",
       "      <th>0</th>\n",
       "      <td>1</td>\n",
       "      <td>27</td>\n",
       "      <td>67</td>\n",
       "      <td>4.0</td>\n",
       "      <td>Blonde</td>\n",
       "      <td>2.5</td>\n",
       "      <td>1.0</td>\n",
       "      <td>4.0</td>\n",
       "      <td>Neutral</td>\n",
       "      <td>Red</td>\n",
       "      <td>Left</td>\n",
       "      <td>Low</td>\n",
       "      <td>No</td>\n",
       "      <td>No</td>\n",
       "      <td>Yes</td>\n",
       "      <td>No</td>\n",
       "    </tr>\n",
       "    <tr>\n",
       "      <th>1</th>\n",
       "      <td>2</td>\n",
       "      <td>27</td>\n",
       "      <td>65</td>\n",
       "      <td>5.5</td>\n",
       "      <td>Blonde</td>\n",
       "      <td>6.5</td>\n",
       "      <td>4.5</td>\n",
       "      <td>3.0</td>\n",
       "      <td>Complainer</td>\n",
       "      <td>Red</td>\n",
       "      <td>Left</td>\n",
       "      <td>Low</td>\n",
       "      <td>No</td>\n",
       "      <td>No</td>\n",
       "      <td>Yes</td>\n",
       "      <td>No</td>\n",
       "    </tr>\n",
       "    <tr>\n",
       "      <th>2</th>\n",
       "      <td>3</td>\n",
       "      <td>25</td>\n",
       "      <td>61</td>\n",
       "      <td>1.0</td>\n",
       "      <td>Brunette</td>\n",
       "      <td>2.0</td>\n",
       "      <td>2.5</td>\n",
       "      <td>1.0</td>\n",
       "      <td>Negative</td>\n",
       "      <td>White</td>\n",
       "      <td>Left</td>\n",
       "      <td>Low</td>\n",
       "      <td>No</td>\n",
       "      <td>No</td>\n",
       "      <td>No</td>\n",
       "      <td>No</td>\n",
       "    </tr>\n",
       "    <tr>\n",
       "      <th>3</th>\n",
       "      <td>4</td>\n",
       "      <td>21</td>\n",
       "      <td>68</td>\n",
       "      <td>8.0</td>\n",
       "      <td>Brunette</td>\n",
       "      <td>7.5</td>\n",
       "      <td>7.0</td>\n",
       "      <td>8.0</td>\n",
       "      <td>Negative</td>\n",
       "      <td>White</td>\n",
       "      <td>Left</td>\n",
       "      <td>Low</td>\n",
       "      <td>No</td>\n",
       "      <td>No</td>\n",
       "      <td>Yes</td>\n",
       "      <td>Yes</td>\n",
       "    </tr>\n",
       "    <tr>\n",
       "      <th>4</th>\n",
       "      <td>5</td>\n",
       "      <td>27</td>\n",
       "      <td>65</td>\n",
       "      <td>7.0</td>\n",
       "      <td>Blonde</td>\n",
       "      <td>7.5</td>\n",
       "      <td>6.5</td>\n",
       "      <td>8.0</td>\n",
       "      <td>Positive</td>\n",
       "      <td>Red</td>\n",
       "      <td>Left</td>\n",
       "      <td>Medium</td>\n",
       "      <td>No</td>\n",
       "      <td>No</td>\n",
       "      <td>No</td>\n",
       "      <td>Yes</td>\n",
       "    </tr>\n",
       "  </tbody>\n",
       "</table>\n",
       "</div>"
      ],
      "text/plain": [
       "   ID  Age  Height(in.)  Attraction      Hair  Intellectual_Connection  Humor  \\\n",
       "0   1   27           67         4.0    Blonde                      2.5    1.0   \n",
       "1   2   27           65         5.5    Blonde                      6.5    4.5   \n",
       "2   3   25           61         1.0  Brunette                      2.0    2.5   \n",
       "3   4   21           68         8.0  Brunette                      7.5    7.0   \n",
       "4   5   27           65         7.0    Blonde                      7.5    6.5   \n",
       "\n",
       "   Chemistry    Attitude   Wine Politics  Income Divorced Kids Second_Date  \\\n",
       "0        4.0     Neutral    Red     Left     Low       No   No         Yes   \n",
       "1        3.0  Complainer    Red     Left     Low       No   No         Yes   \n",
       "2        1.0    Negative  White     Left     Low       No   No          No   \n",
       "3        8.0    Negative  White     Left     Low       No   No         Yes   \n",
       "4        8.0    Positive    Red     Left  Medium       No   No          No   \n",
       "\n",
       "  Like_This_Person?  \n",
       "0                No  \n",
       "1                No  \n",
       "2                No  \n",
       "3               Yes  \n",
       "4               Yes  "
      ]
     },
     "execution_count": 32,
     "metadata": {},
     "output_type": "execute_result"
    }
   ],
   "source": [
    "# show first five rows\n",
    "df.head()"
   ]
  },
  {
   "cell_type": "markdown",
   "metadata": {},
   "source": [
    "We can also use __`df.tail()`__ to see the bottom N rows."
   ]
  },
  {
   "cell_type": "code",
   "execution_count": 33,
   "metadata": {
    "collapsed": false
   },
   "outputs": [
    {
     "data": {
      "text/html": [
       "<div>\n",
       "<table border=\"1\" class=\"dataframe\">\n",
       "  <thead>\n",
       "    <tr style=\"text-align: right;\">\n",
       "      <th></th>\n",
       "      <th>ID</th>\n",
       "      <th>Age</th>\n",
       "      <th>Height(in.)</th>\n",
       "      <th>Attraction</th>\n",
       "      <th>Hair</th>\n",
       "      <th>Intellectual_Connection</th>\n",
       "      <th>Humor</th>\n",
       "      <th>Chemistry</th>\n",
       "      <th>Attitude</th>\n",
       "      <th>Wine</th>\n",
       "      <th>Politics</th>\n",
       "      <th>Income</th>\n",
       "      <th>Divorced</th>\n",
       "      <th>Kids</th>\n",
       "      <th>Second_Date</th>\n",
       "      <th>Like_This_Person?</th>\n",
       "    </tr>\n",
       "  </thead>\n",
       "  <tbody>\n",
       "    <tr>\n",
       "      <th>42</th>\n",
       "      <td>43</td>\n",
       "      <td>27</td>\n",
       "      <td>67</td>\n",
       "      <td>8.0</td>\n",
       "      <td>Brunette</td>\n",
       "      <td>3.5</td>\n",
       "      <td>4.0</td>\n",
       "      <td>6.5</td>\n",
       "      <td>Positive</td>\n",
       "      <td>Red</td>\n",
       "      <td>Right</td>\n",
       "      <td>Medium</td>\n",
       "      <td>No</td>\n",
       "      <td>No</td>\n",
       "      <td>Yes</td>\n",
       "      <td>No</td>\n",
       "    </tr>\n",
       "    <tr>\n",
       "      <th>43</th>\n",
       "      <td>44</td>\n",
       "      <td>40</td>\n",
       "      <td>70</td>\n",
       "      <td>9.0</td>\n",
       "      <td>Blonde</td>\n",
       "      <td>6.5</td>\n",
       "      <td>9.0</td>\n",
       "      <td>9.0</td>\n",
       "      <td>Positive</td>\n",
       "      <td>Red</td>\n",
       "      <td>Left</td>\n",
       "      <td>Medium</td>\n",
       "      <td>Yes</td>\n",
       "      <td>Yes</td>\n",
       "      <td>Yes</td>\n",
       "      <td>Yes</td>\n",
       "    </tr>\n",
       "    <tr>\n",
       "      <th>44</th>\n",
       "      <td>45</td>\n",
       "      <td>30</td>\n",
       "      <td>71</td>\n",
       "      <td>5.0</td>\n",
       "      <td>Blonde</td>\n",
       "      <td>9.0</td>\n",
       "      <td>7.0</td>\n",
       "      <td>3.5</td>\n",
       "      <td>Negative</td>\n",
       "      <td>Red</td>\n",
       "      <td>Independent</td>\n",
       "      <td>Low</td>\n",
       "      <td>No</td>\n",
       "      <td>No</td>\n",
       "      <td>Yes</td>\n",
       "      <td>Yes</td>\n",
       "    </tr>\n",
       "    <tr>\n",
       "      <th>45</th>\n",
       "      <td>46</td>\n",
       "      <td>32</td>\n",
       "      <td>65</td>\n",
       "      <td>9.5</td>\n",
       "      <td>Blonde</td>\n",
       "      <td>5.0</td>\n",
       "      <td>5.0</td>\n",
       "      <td>7.0</td>\n",
       "      <td>Negative</td>\n",
       "      <td>Red</td>\n",
       "      <td>Left</td>\n",
       "      <td>High</td>\n",
       "      <td>Yes</td>\n",
       "      <td>No</td>\n",
       "      <td>No</td>\n",
       "      <td>Yes</td>\n",
       "    </tr>\n",
       "    <tr>\n",
       "      <th>46</th>\n",
       "      <td>47</td>\n",
       "      <td>36</td>\n",
       "      <td>66</td>\n",
       "      <td>4.5</td>\n",
       "      <td>Blonde</td>\n",
       "      <td>4.0</td>\n",
       "      <td>7.5</td>\n",
       "      <td>2.5</td>\n",
       "      <td>Complainer</td>\n",
       "      <td>Red</td>\n",
       "      <td>Left</td>\n",
       "      <td>Low</td>\n",
       "      <td>Yes</td>\n",
       "      <td>Yes</td>\n",
       "      <td>No</td>\n",
       "      <td>No</td>\n",
       "    </tr>\n",
       "    <tr>\n",
       "      <th>47</th>\n",
       "      <td>48</td>\n",
       "      <td>33</td>\n",
       "      <td>63</td>\n",
       "      <td>8.0</td>\n",
       "      <td>Brunette</td>\n",
       "      <td>5.0</td>\n",
       "      <td>6.0</td>\n",
       "      <td>9.5</td>\n",
       "      <td>Positive</td>\n",
       "      <td>Red</td>\n",
       "      <td>Left</td>\n",
       "      <td>Low</td>\n",
       "      <td>No</td>\n",
       "      <td>No</td>\n",
       "      <td>Yes</td>\n",
       "      <td>Yes</td>\n",
       "    </tr>\n",
       "    <tr>\n",
       "      <th>48</th>\n",
       "      <td>49</td>\n",
       "      <td>40</td>\n",
       "      <td>68</td>\n",
       "      <td>7.0</td>\n",
       "      <td>Brunette</td>\n",
       "      <td>4.0</td>\n",
       "      <td>0.0</td>\n",
       "      <td>2.5</td>\n",
       "      <td>Negative</td>\n",
       "      <td>Red</td>\n",
       "      <td>Left</td>\n",
       "      <td>Medium</td>\n",
       "      <td>Yes</td>\n",
       "      <td>Yes</td>\n",
       "      <td>Yes</td>\n",
       "      <td>No</td>\n",
       "    </tr>\n",
       "    <tr>\n",
       "      <th>49</th>\n",
       "      <td>50</td>\n",
       "      <td>33</td>\n",
       "      <td>64</td>\n",
       "      <td>4.5</td>\n",
       "      <td>Brunette</td>\n",
       "      <td>6.0</td>\n",
       "      <td>5.0</td>\n",
       "      <td>2.5</td>\n",
       "      <td>Neutral</td>\n",
       "      <td>Red</td>\n",
       "      <td>Left</td>\n",
       "      <td>Low</td>\n",
       "      <td>Yes</td>\n",
       "      <td>Yes</td>\n",
       "      <td>No</td>\n",
       "      <td>No</td>\n",
       "    </tr>\n",
       "  </tbody>\n",
       "</table>\n",
       "</div>"
      ],
      "text/plain": [
       "    ID  Age  Height(in.)  Attraction      Hair  Intellectual_Connection  \\\n",
       "42  43   27           67         8.0  Brunette                      3.5   \n",
       "43  44   40           70         9.0    Blonde                      6.5   \n",
       "44  45   30           71         5.0    Blonde                      9.0   \n",
       "45  46   32           65         9.5    Blonde                      5.0   \n",
       "46  47   36           66         4.5    Blonde                      4.0   \n",
       "47  48   33           63         8.0  Brunette                      5.0   \n",
       "48  49   40           68         7.0  Brunette                      4.0   \n",
       "49  50   33           64         4.5  Brunette                      6.0   \n",
       "\n",
       "    Humor  Chemistry    Attitude Wine     Politics  Income Divorced Kids  \\\n",
       "42    4.0        6.5    Positive  Red        Right  Medium       No   No   \n",
       "43    9.0        9.0    Positive  Red         Left  Medium      Yes  Yes   \n",
       "44    7.0        3.5    Negative  Red  Independent     Low       No   No   \n",
       "45    5.0        7.0    Negative  Red         Left    High      Yes   No   \n",
       "46    7.5        2.5  Complainer  Red         Left     Low      Yes  Yes   \n",
       "47    6.0        9.5    Positive  Red         Left     Low       No   No   \n",
       "48    0.0        2.5    Negative  Red         Left  Medium      Yes  Yes   \n",
       "49    5.0        2.5     Neutral  Red         Left     Low      Yes  Yes   \n",
       "\n",
       "   Second_Date Like_This_Person?  \n",
       "42         Yes                No  \n",
       "43         Yes               Yes  \n",
       "44         Yes               Yes  \n",
       "45          No               Yes  \n",
       "46          No                No  \n",
       "47         Yes               Yes  \n",
       "48         Yes                No  \n",
       "49          No                No  "
      ]
     },
     "execution_count": 33,
     "metadata": {},
     "output_type": "execute_result"
    }
   ],
   "source": [
    "# Show bottom 8 rows\n",
    "df.tail(8)"
   ]
  },
  {
   "cell_type": "markdown",
   "metadata": {},
   "source": [
    "One thing we will want to do frequently is perform different calculations or operations on parts of the DataFrame.  To do this, we will need to know the __type__ of data that's in each column.  For example, just because we see a written number in a column does not me that the number is _actually_ an `int` or a `float`.  It could very well be a string, which will cause problems for us when we try to divide it by another column later.  So we use __`df.info()`__ to see the __`dtype`__ of every column.  \n",
    "\n",
    "For DataFrames that are over 60 rows long, when you try to print out the DataFrame you will see the top 30 and bottom 30 rows with the remaining middle rows represented by an ellipsis, showing you more data is there but is not being printed.  Use __`df.info(verbose=True)`__ when you want to see the info for more than 60 columns."
   ]
  },
  {
   "cell_type": "code",
   "execution_count": 34,
   "metadata": {
    "collapsed": false
   },
   "outputs": [
    {
     "name": "stdout",
     "output_type": "stream",
     "text": [
      "<class 'pandas.core.frame.DataFrame'>\n",
      "RangeIndex: 50 entries, 0 to 49\n",
      "Data columns (total 16 columns):\n",
      "ID                         50 non-null int64\n",
      "Age                        50 non-null int64\n",
      "Height(in.)                50 non-null int64\n",
      "Attraction                 50 non-null float64\n",
      "Hair                       50 non-null object\n",
      "Intellectual_Connection    50 non-null float64\n",
      "Humor                      50 non-null float64\n",
      "Chemistry                  50 non-null float64\n",
      "Attitude                   50 non-null object\n",
      "Wine                       50 non-null object\n",
      "Politics                   50 non-null object\n",
      "Income                     50 non-null object\n",
      "Divorced                   50 non-null object\n",
      "Kids                       50 non-null object\n",
      "Second_Date                50 non-null object\n",
      "Like_This_Person?          50 non-null object\n",
      "dtypes: float64(4), int64(3), object(9)\n",
      "memory usage: 6.3+ KB\n"
     ]
    }
   ],
   "source": [
    "# show counts and dtypes for all columns - \"object\" means \"string\", for practical purposes.\n",
    "df.info()"
   ]
  },
  {
   "cell_type": "markdown",
   "metadata": {},
   "source": [
    "For numeric columns we will often also like to get a lay of the land by using __`df.describe()`__ for a quick view of summary statistics.  This helps gives us a bird's-eye-view understanding of the numeric data we are working with.  If a DataFrame has mixed dtypes, with some columns being numeric and others being `object`, only the numeric columns will be reported in the `describe()` summary.  However, if a DataFrame is _entirely_ made of `object` columns, the `describe` method will give you the counts for now categorical data.  "
   ]
  },
  {
   "cell_type": "code",
   "execution_count": 35,
   "metadata": {
    "collapsed": false
   },
   "outputs": [
    {
     "data": {
      "text/html": [
       "<div>\n",
       "<table border=\"1\" class=\"dataframe\">\n",
       "  <thead>\n",
       "    <tr style=\"text-align: right;\">\n",
       "      <th></th>\n",
       "      <th>ID</th>\n",
       "      <th>Age</th>\n",
       "      <th>Height(in.)</th>\n",
       "      <th>Attraction</th>\n",
       "      <th>Intellectual_Connection</th>\n",
       "      <th>Humor</th>\n",
       "      <th>Chemistry</th>\n",
       "    </tr>\n",
       "  </thead>\n",
       "  <tbody>\n",
       "    <tr>\n",
       "      <th>count</th>\n",
       "      <td>50.00000</td>\n",
       "      <td>50.000000</td>\n",
       "      <td>50.000000</td>\n",
       "      <td>50.000000</td>\n",
       "      <td>50.000000</td>\n",
       "      <td>50.000000</td>\n",
       "      <td>50.000000</td>\n",
       "    </tr>\n",
       "    <tr>\n",
       "      <th>mean</th>\n",
       "      <td>25.50000</td>\n",
       "      <td>30.160000</td>\n",
       "      <td>65.240000</td>\n",
       "      <td>5.940000</td>\n",
       "      <td>5.120000</td>\n",
       "      <td>5.220000</td>\n",
       "      <td>5.450000</td>\n",
       "    </tr>\n",
       "    <tr>\n",
       "      <th>std</th>\n",
       "      <td>14.57738</td>\n",
       "      <td>5.946565</td>\n",
       "      <td>2.938554</td>\n",
       "      <td>2.335703</td>\n",
       "      <td>2.282498</td>\n",
       "      <td>2.513555</td>\n",
       "      <td>2.659695</td>\n",
       "    </tr>\n",
       "    <tr>\n",
       "      <th>min</th>\n",
       "      <td>1.00000</td>\n",
       "      <td>21.000000</td>\n",
       "      <td>60.000000</td>\n",
       "      <td>1.000000</td>\n",
       "      <td>1.000000</td>\n",
       "      <td>0.000000</td>\n",
       "      <td>0.000000</td>\n",
       "    </tr>\n",
       "    <tr>\n",
       "      <th>25%</th>\n",
       "      <td>13.25000</td>\n",
       "      <td>25.250000</td>\n",
       "      <td>63.000000</td>\n",
       "      <td>4.000000</td>\n",
       "      <td>3.125000</td>\n",
       "      <td>3.500000</td>\n",
       "      <td>3.500000</td>\n",
       "    </tr>\n",
       "    <tr>\n",
       "      <th>50%</th>\n",
       "      <td>25.50000</td>\n",
       "      <td>30.000000</td>\n",
       "      <td>65.000000</td>\n",
       "      <td>6.750000</td>\n",
       "      <td>5.500000</td>\n",
       "      <td>5.250000</td>\n",
       "      <td>6.000000</td>\n",
       "    </tr>\n",
       "    <tr>\n",
       "      <th>75%</th>\n",
       "      <td>37.75000</td>\n",
       "      <td>34.000000</td>\n",
       "      <td>67.000000</td>\n",
       "      <td>8.000000</td>\n",
       "      <td>6.500000</td>\n",
       "      <td>7.000000</td>\n",
       "      <td>7.500000</td>\n",
       "    </tr>\n",
       "    <tr>\n",
       "      <th>max</th>\n",
       "      <td>50.00000</td>\n",
       "      <td>45.000000</td>\n",
       "      <td>74.000000</td>\n",
       "      <td>9.500000</td>\n",
       "      <td>10.000000</td>\n",
       "      <td>10.000000</td>\n",
       "      <td>10.000000</td>\n",
       "    </tr>\n",
       "  </tbody>\n",
       "</table>\n",
       "</div>"
      ],
      "text/plain": [
       "             ID        Age  Height(in.)  Attraction  Intellectual_Connection  \\\n",
       "count  50.00000  50.000000    50.000000   50.000000                50.000000   \n",
       "mean   25.50000  30.160000    65.240000    5.940000                 5.120000   \n",
       "std    14.57738   5.946565     2.938554    2.335703                 2.282498   \n",
       "min     1.00000  21.000000    60.000000    1.000000                 1.000000   \n",
       "25%    13.25000  25.250000    63.000000    4.000000                 3.125000   \n",
       "50%    25.50000  30.000000    65.000000    6.750000                 5.500000   \n",
       "75%    37.75000  34.000000    67.000000    8.000000                 6.500000   \n",
       "max    50.00000  45.000000    74.000000    9.500000                10.000000   \n",
       "\n",
       "           Humor  Chemistry  \n",
       "count  50.000000  50.000000  \n",
       "mean    5.220000   5.450000  \n",
       "std     2.513555   2.659695  \n",
       "min     0.000000   0.000000  \n",
       "25%     3.500000   3.500000  \n",
       "50%     5.250000   6.000000  \n",
       "75%     7.000000   7.500000  \n",
       "max    10.000000  10.000000  "
      ]
     },
     "execution_count": 35,
     "metadata": {},
     "output_type": "execute_result"
    }
   ],
   "source": [
    "df.describe()"
   ]
  },
  {
   "cell_type": "markdown",
   "metadata": {},
   "source": [
    "Using `df.describe()` we see things like the average age the women I've dated in recent years has been 30.1 years old.  The tallest person was 74 inches -- 6'2\".  And the mean rating for \"similar humor\" is 5.2 out of 10 (p.s. no one said dating was fun).  \n",
    "\n",
    "Last, there are three primary parts to any DataFrame.\n",
    "\n",
    "1. Data\n",
    "2. Rows (index)\n",
    "3. Columns\n",
    "\n",
    "Fortunately, Pandas was designed with the versatility of Python in mind.  So the rows (called the _index_) and the columns are actually __objects__ that we can inspect, apply, and loop through.  They both have their own attributes to access them.  Yeah, you guessed it, it's __`df.index`__ and __`df.columns`__.  Both of these commands will return an object that basically functions like a list.  "
   ]
  },
  {
   "cell_type": "code",
   "execution_count": 36,
   "metadata": {
    "collapsed": false
   },
   "outputs": [
    {
     "data": {
      "text/plain": [
       "Index(['ID', 'Age', 'Height(in.)', 'Attraction', 'Hair',\n",
       "       'Intellectual_Connection', 'Humor', 'Chemistry', 'Attitude', 'Wine',\n",
       "       'Politics', 'Income', 'Divorced', 'Kids', 'Second_Date',\n",
       "       'Like_This_Person?'],\n",
       "      dtype='object')"
      ]
     },
     "execution_count": 36,
     "metadata": {},
     "output_type": "execute_result"
    }
   ],
   "source": [
    "# get all columns in the DF\n",
    "df.columns"
   ]
  },
  {
   "cell_type": "code",
   "execution_count": 37,
   "metadata": {
    "collapsed": false
   },
   "outputs": [
    {
     "data": {
      "text/plain": [
       "RangeIndex(start=0, stop=50, step=1)"
      ]
     },
     "execution_count": 37,
     "metadata": {},
     "output_type": "execute_result"
    }
   ],
   "source": [
    "# Get all rows in the DF\n",
    "df.index"
   ]
  },
  {
   "cell_type": "markdown",
   "metadata": {},
   "source": [
    "A single row or column of data is called a __`Series`__.  This is a an actual Pandas object, created with __`pd.Series`__, and can do many of the same things as a DataFrame.\n",
    "\n",
    "When we are working with other DataFrames we will often want to simply keep a `Series` as itself. However, when we are working with various machine learning algorithms or other general data manipulation, we will frequently want _only the values_ in the column and not the column object itself.  To do this, we have two options, a `df.values` attribute and a `.tolist()` function.  \n",
    "\n",
    "I will show an example of each below."
   ]
  },
  {
   "cell_type": "code",
   "execution_count": null,
   "metadata": {
    "collapsed": true
   },
   "outputs": [],
   "source": [
    "df.values, df.tolist()  #tomorrow"
   ]
  },
  {
   "cell_type": "code",
   "execution_count": null,
   "metadata": {
    "collapsed": true
   },
   "outputs": [],
   "source": []
  },
  {
   "cell_type": "code",
   "execution_count": null,
   "metadata": {
    "collapsed": true
   },
   "outputs": [],
   "source": []
  }
 ],
 "metadata": {
  "kernelspec": {
   "display_name": "Python 3",
   "language": "python",
   "name": "python3"
  },
  "language_info": {
   "codemirror_mode": {
    "name": "ipython",
    "version": 3
   },
   "file_extension": ".py",
   "mimetype": "text/x-python",
   "name": "python",
   "nbconvert_exporter": "python",
   "pygments_lexer": "ipython3",
   "version": "3.6.0"
  }
 },
 "nbformat": 4,
 "nbformat_minor": 2
}
