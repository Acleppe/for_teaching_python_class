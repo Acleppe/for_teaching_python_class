{
 "cells": [
  {
   "cell_type": "markdown",
   "metadata": {},
   "source": [
    "# Python Data Science Prep Class - Intro to Pandas \n",
    "#### (JPW Lecture)"
   ]
  },
  {
   "cell_type": "code",
   "execution_count": 179,
   "metadata": {
    "collapsed": true
   },
   "outputs": [],
   "source": [
    "# import Numpy with name as 'np' by convention.\n",
    "# import Pandas with name as 'pd' by convention.  \n",
    "# We can now use 'np' and 'pd' to access all Numpy and Pandas methods and attributes, respectively.\n",
    "import numpy as np\n",
    "import pandas as pd\n",
    "\n",
    "# import Plotting stuff\n",
    "%matplotlib inline\n",
    "import matplotlib\n",
    "import matplotlib.pyplot as plt"
   ]
  },
  {
   "cell_type": "markdown",
   "metadata": {},
   "source": [
    "## Creating a New DataFrame\n",
    "***\n",
    "There are many ways we can create a DataFrame.\n",
    "\n",
    "#### 1. We can just pass a list. \n",
    "Note the columns and rows (index) are not labeled but are simply given a number. This is just a demonstration to show how DataFrames parse incoming data and would likely never be done.  "
   ]
  },
  {
   "cell_type": "code",
   "execution_count": 15,
   "metadata": {
    "collapsed": false
   },
   "outputs": [
    {
     "data": {
      "text/html": [
       "<div>\n",
       "<table border=\"1\" class=\"dataframe\">\n",
       "  <thead>\n",
       "    <tr style=\"text-align: right;\">\n",
       "      <th></th>\n",
       "      <th>0</th>\n",
       "    </tr>\n",
       "  </thead>\n",
       "  <tbody>\n",
       "    <tr>\n",
       "      <th>0</th>\n",
       "      <td>10</td>\n",
       "    </tr>\n",
       "    <tr>\n",
       "      <th>1</th>\n",
       "      <td>20</td>\n",
       "    </tr>\n",
       "    <tr>\n",
       "      <th>2</th>\n",
       "      <td>30</td>\n",
       "    </tr>\n",
       "    <tr>\n",
       "      <th>3</th>\n",
       "      <td>40</td>\n",
       "    </tr>\n",
       "    <tr>\n",
       "      <th>4</th>\n",
       "      <td>50</td>\n",
       "    </tr>\n",
       "  </tbody>\n",
       "</table>\n",
       "</div>"
      ],
      "text/plain": [
       "    0\n",
       "0  10\n",
       "1  20\n",
       "2  30\n",
       "3  40\n",
       "4  50"
      ]
     },
     "execution_count": 15,
     "metadata": {},
     "output_type": "execute_result"
    }
   ],
   "source": [
    "# Passing in a single list creates a single column.\n",
    "one_col = [10, 20, 30, 40, 50]\n",
    "pd.DataFrame(data=one_col)"
   ]
  },
  {
   "cell_type": "code",
   "execution_count": 16,
   "metadata": {
    "collapsed": false
   },
   "outputs": [
    {
     "data": {
      "text/html": [
       "<div>\n",
       "<table border=\"1\" class=\"dataframe\">\n",
       "  <thead>\n",
       "    <tr style=\"text-align: right;\">\n",
       "      <th></th>\n",
       "      <th>0</th>\n",
       "      <th>1</th>\n",
       "      <th>2</th>\n",
       "      <th>3</th>\n",
       "      <th>4</th>\n",
       "    </tr>\n",
       "  </thead>\n",
       "  <tbody>\n",
       "    <tr>\n",
       "      <th>0</th>\n",
       "      <td>10</td>\n",
       "      <td>20</td>\n",
       "      <td>30</td>\n",
       "      <td>40</td>\n",
       "      <td>50</td>\n",
       "    </tr>\n",
       "  </tbody>\n",
       "</table>\n",
       "</div>"
      ],
      "text/plain": [
       "    0   1   2   3   4\n",
       "0  10  20  30  40  50"
      ]
     },
     "execution_count": 16,
     "metadata": {},
     "output_type": "execute_result"
    }
   ],
   "source": [
    "# Passing in a nested list (note double brackets) creates a single row\n",
    "one_row = [[10, 20, 30, 40, 50]]\n",
    "pd.DataFrame(data=one_row)"
   ]
  },
  {
   "cell_type": "code",
   "execution_count": 17,
   "metadata": {
    "collapsed": false
   },
   "outputs": [
    {
     "data": {
      "text/html": [
       "<div>\n",
       "<table border=\"1\" class=\"dataframe\">\n",
       "  <thead>\n",
       "    <tr style=\"text-align: right;\">\n",
       "      <th></th>\n",
       "      <th>0</th>\n",
       "      <th>1</th>\n",
       "      <th>2</th>\n",
       "      <th>3</th>\n",
       "      <th>4</th>\n",
       "    </tr>\n",
       "  </thead>\n",
       "  <tbody>\n",
       "    <tr>\n",
       "      <th>0</th>\n",
       "      <td>10</td>\n",
       "      <td>20</td>\n",
       "      <td>30</td>\n",
       "      <td>40</td>\n",
       "      <td>50</td>\n",
       "    </tr>\n",
       "    <tr>\n",
       "      <th>1</th>\n",
       "      <td>11</td>\n",
       "      <td>21</td>\n",
       "      <td>31</td>\n",
       "      <td>41</td>\n",
       "      <td>51</td>\n",
       "    </tr>\n",
       "    <tr>\n",
       "      <th>2</th>\n",
       "      <td>12</td>\n",
       "      <td>22</td>\n",
       "      <td>32</td>\n",
       "      <td>42</td>\n",
       "      <td>52</td>\n",
       "    </tr>\n",
       "  </tbody>\n",
       "</table>\n",
       "</div>"
      ],
      "text/plain": [
       "    0   1   2   3   4\n",
       "0  10  20  30  40  50\n",
       "1  11  21  31  41  51\n",
       "2  12  22  32  42  52"
      ]
     },
     "execution_count": 17,
     "metadata": {},
     "output_type": "execute_result"
    }
   ],
   "source": [
    "# Passing in a list of nested lists creates as many rows as there are nested lists\n",
    "three_rows = [[10, 20, 30, 40, 50], [11, 21, 31, 41, 51], [12, 22, 32, 42, 52]]\n",
    "pd.DataFrame(data=three_rows)"
   ]
  },
  {
   "cell_type": "markdown",
   "metadata": {},
   "source": [
    "#### 2. We can create a _skeleton_ DataFrame by specifying the column and/or row names and dimensions at creation.  \n",
    "Note we don't have to actually pass in any data to create a DataFrame.  We can just specify the structure of its rows (index) x columns and it will be created blank."
   ]
  },
  {
   "cell_type": "code",
   "execution_count": 18,
   "metadata": {
    "collapsed": false
   },
   "outputs": [
    {
     "data": {
      "text/html": [
       "<div>\n",
       "<table border=\"1\" class=\"dataframe\">\n",
       "  <thead>\n",
       "    <tr style=\"text-align: right;\">\n",
       "      <th></th>\n",
       "      <th>col_1</th>\n",
       "      <th>col_2</th>\n",
       "      <th>col_3</th>\n",
       "    </tr>\n",
       "  </thead>\n",
       "  <tbody>\n",
       "    <tr>\n",
       "      <th>row_1</th>\n",
       "      <td>NaN</td>\n",
       "      <td>NaN</td>\n",
       "      <td>NaN</td>\n",
       "    </tr>\n",
       "    <tr>\n",
       "      <th>row_2</th>\n",
       "      <td>NaN</td>\n",
       "      <td>NaN</td>\n",
       "      <td>NaN</td>\n",
       "    </tr>\n",
       "    <tr>\n",
       "      <th>row_3</th>\n",
       "      <td>NaN</td>\n",
       "      <td>NaN</td>\n",
       "      <td>NaN</td>\n",
       "    </tr>\n",
       "  </tbody>\n",
       "</table>\n",
       "</div>"
      ],
      "text/plain": [
       "      col_1 col_2 col_3\n",
       "row_1   NaN   NaN   NaN\n",
       "row_2   NaN   NaN   NaN\n",
       "row_3   NaN   NaN   NaN"
      ]
     },
     "execution_count": 18,
     "metadata": {},
     "output_type": "execute_result"
    }
   ],
   "source": [
    "# Create skeleton DF\n",
    "pd.DataFrame(index=['row_1', 'row_2', 'row_3'], columns=['col_1', 'col_2', 'col_3'])"
   ]
  },
  {
   "cell_type": "markdown",
   "metadata": {},
   "source": [
    "When we run this, we get a 3x3 DataFrame as expected, but since we passed no actual data in we get __`NaN`__ values.  \n",
    "NaN stands for \"__Not a Number__\", and is equivalent to a null value.  \n",
    "\n",
    "__Dense v. Sparse data__: To keep things simple here, a matrix that has NaNs for a given row or column is called \"sparse\" (it can be more technical than this, but that's the gist you need to take home).  If the DataFrame is mostly full,  it is called \"dense.\"  In general, we will want to ideally work with \"dense\" data as most machine learning algorithms either perform better with it or actually require it.  The creation of a skeleton DF has uses for memory efficiency in certain use cases, but we will not encounter those today.  I only mention it here so you will be familiar with the terms and their meanings.  We will see how to deal with such \"missing\" data further below.\n",
    "\n",
    "Normally we won't want an empty DataFrame, however.  So one way to fill it with data is to use the __`data=`__ argument when we create it, like so:\n",
    "#### 3. We can create filled DF with same skeleton as \\#2"
   ]
  },
  {
   "cell_type": "code",
   "execution_count": 19,
   "metadata": {
    "collapsed": false
   },
   "outputs": [
    {
     "data": {
      "text/html": [
       "<div>\n",
       "<table border=\"1\" class=\"dataframe\">\n",
       "  <thead>\n",
       "    <tr style=\"text-align: right;\">\n",
       "      <th></th>\n",
       "      <th>col_1</th>\n",
       "      <th>col_2</th>\n",
       "      <th>col_3</th>\n",
       "    </tr>\n",
       "  </thead>\n",
       "  <tbody>\n",
       "    <tr>\n",
       "      <th>row_1</th>\n",
       "      <td>1</td>\n",
       "      <td>2</td>\n",
       "      <td>3</td>\n",
       "    </tr>\n",
       "    <tr>\n",
       "      <th>row_2</th>\n",
       "      <td>4</td>\n",
       "      <td>5</td>\n",
       "      <td>6</td>\n",
       "    </tr>\n",
       "    <tr>\n",
       "      <th>row_3</th>\n",
       "      <td>7</td>\n",
       "      <td>8</td>\n",
       "      <td>9</td>\n",
       "    </tr>\n",
       "  </tbody>\n",
       "</table>\n",
       "</div>"
      ],
      "text/plain": [
       "       col_1  col_2  col_3\n",
       "row_1      1      2      3\n",
       "row_2      4      5      6\n",
       "row_3      7      8      9"
      ]
     },
     "execution_count": 19,
     "metadata": {},
     "output_type": "execute_result"
    }
   ],
   "source": [
    "# Use same skeleton as above, but also give data to fill the DF with\n",
    "data = np.arange(1, 10).reshape(3,3)\n",
    "pd.DataFrame(data=data, index=['row_1', 'row_2', 'row_3'], columns=['col_1', 'col_2', 'col_3'])"
   ]
  },
  {
   "cell_type": "markdown",
   "metadata": {},
   "source": [
    "Here we use Numpy to create a list using __`np.arange`__, which stands for \"array range\", and will create an _array_ (Numpy's advaned version of a list) from the range you specify.  Functionally it is equivalent to __`list(range(1, 10))`__. "
   ]
  },
  {
   "cell_type": "code",
   "execution_count": 20,
   "metadata": {
    "collapsed": false
   },
   "outputs": [
    {
     "data": {
      "text/plain": [
       "array([1, 2, 3, 4, 5, 6, 7, 8, 9])"
      ]
     },
     "execution_count": 20,
     "metadata": {},
     "output_type": "execute_result"
    }
   ],
   "source": [
    "np.arange(1, 10)    # returns a 1-dimensional array (list)"
   ]
  },
  {
   "cell_type": "code",
   "execution_count": 21,
   "metadata": {
    "collapsed": false
   },
   "outputs": [
    {
     "data": {
      "text/plain": [
       "[1, 2, 3, 4, 5, 6, 7, 8, 9]"
      ]
     },
     "execution_count": 21,
     "metadata": {},
     "output_type": "execute_result"
    }
   ],
   "source": [
    "list(range(1, 10))   # also returns a 1-dimensional list\n",
    "# Note if you are on Python 2.x instead of 3.x, you don't have to use the enclosing 'list()' func."
   ]
  },
  {
   "cell_type": "markdown",
   "metadata": {},
   "source": [
    "There are two primary differences between Numpy's advanced __`arange()`__ function (and its cousin the __`linspace()`__ function) and the standard __`list()`__.\n",
    "\n",
    "1. __`np.arange()`__ can take any value for a number (not just an `int`) and use any increment between them.  \n",
    "    + `np.arange(.5, 1, .1)` will return `[.5, .6, .7, .8, .9]`, for example.  \n",
    "    \n",
    "2. __`np.arange()`__ can be reshaped using Numpy's __`.reshape()`__ method for the array class.\n",
    "    + `.reshape(r, c)`, where `r` = rows, `c` = cols.  \n",
    "    \n",
    "We need \\#2 here to make our data fit the DF structure we have just created.  Let's see what happens when we try to pass in the exact same data, a list from 1 to 9, without changing its shape first."
   ]
  },
  {
   "cell_type": "code",
   "execution_count": 22,
   "metadata": {
    "collapsed": false
   },
   "outputs": [
    {
     "ename": "ValueError",
     "evalue": "Shape of passed values is (1, 9), indices imply (3, 3)",
     "output_type": "error",
     "traceback": [
      "\u001b[0;31m---------------------------------------------------------------------------\u001b[0m",
      "\u001b[0;31mValueError\u001b[0m                                Traceback (most recent call last)",
      "\u001b[0;32m/Users/jpw/anaconda/lib/python3.6/site-packages/pandas/core/internals.py\u001b[0m in \u001b[0;36mcreate_block_manager_from_blocks\u001b[0;34m(blocks, axes)\u001b[0m\n\u001b[1;32m   4246\u001b[0m                 blocks = [make_block(values=blocks[0],\n\u001b[0;32m-> 4247\u001b[0;31m                                      placement=slice(0, len(axes[0])))]\n\u001b[0m\u001b[1;32m   4248\u001b[0m \u001b[0;34m\u001b[0m\u001b[0m\n",
      "\u001b[0;32m/Users/jpw/anaconda/lib/python3.6/site-packages/pandas/core/internals.py\u001b[0m in \u001b[0;36mmake_block\u001b[0;34m(values, placement, klass, ndim, dtype, fastpath)\u001b[0m\n\u001b[1;32m   2684\u001b[0m \u001b[0;34m\u001b[0m\u001b[0m\n\u001b[0;32m-> 2685\u001b[0;31m     \u001b[0;32mreturn\u001b[0m \u001b[0mklass\u001b[0m\u001b[0;34m(\u001b[0m\u001b[0mvalues\u001b[0m\u001b[0;34m,\u001b[0m \u001b[0mndim\u001b[0m\u001b[0;34m=\u001b[0m\u001b[0mndim\u001b[0m\u001b[0;34m,\u001b[0m \u001b[0mfastpath\u001b[0m\u001b[0;34m=\u001b[0m\u001b[0mfastpath\u001b[0m\u001b[0;34m,\u001b[0m \u001b[0mplacement\u001b[0m\u001b[0;34m=\u001b[0m\u001b[0mplacement\u001b[0m\u001b[0;34m)\u001b[0m\u001b[0;34m\u001b[0m\u001b[0m\n\u001b[0m\u001b[1;32m   2686\u001b[0m \u001b[0;34m\u001b[0m\u001b[0m\n",
      "\u001b[0;32m/Users/jpw/anaconda/lib/python3.6/site-packages/pandas/core/internals.py\u001b[0m in \u001b[0;36m__init__\u001b[0;34m(self, values, placement, ndim, fastpath)\u001b[0m\n\u001b[1;32m    108\u001b[0m                              'implies %d' % (len(self.values),\n\u001b[0;32m--> 109\u001b[0;31m                                              len(self.mgr_locs)))\n\u001b[0m\u001b[1;32m    110\u001b[0m \u001b[0;34m\u001b[0m\u001b[0m\n",
      "\u001b[0;31mValueError\u001b[0m: Wrong number of items passed 1, placement implies 3",
      "\nDuring handling of the above exception, another exception occurred:\n",
      "\u001b[0;31mValueError\u001b[0m                                Traceback (most recent call last)",
      "\u001b[0;32m<ipython-input-22-ba2968c9ee5a>\u001b[0m in \u001b[0;36m<module>\u001b[0;34m()\u001b[0m\n\u001b[1;32m      1\u001b[0m \u001b[0;31m# No reshaping of the data this time....\u001b[0m\u001b[0;34m\u001b[0m\u001b[0;34m\u001b[0m\u001b[0m\n\u001b[1;32m      2\u001b[0m \u001b[0mdata\u001b[0m \u001b[0;34m=\u001b[0m \u001b[0mnp\u001b[0m\u001b[0;34m.\u001b[0m\u001b[0marange\u001b[0m\u001b[0;34m(\u001b[0m\u001b[0;36m1\u001b[0m\u001b[0;34m,\u001b[0m \u001b[0;36m10\u001b[0m\u001b[0;34m)\u001b[0m\u001b[0;34m\u001b[0m\u001b[0m\n\u001b[0;32m----> 3\u001b[0;31m \u001b[0mpd\u001b[0m\u001b[0;34m.\u001b[0m\u001b[0mDataFrame\u001b[0m\u001b[0;34m(\u001b[0m\u001b[0mdata\u001b[0m\u001b[0;34m=\u001b[0m\u001b[0mdata\u001b[0m\u001b[0;34m,\u001b[0m \u001b[0mindex\u001b[0m\u001b[0;34m=\u001b[0m\u001b[0;34m[\u001b[0m\u001b[0;34m'row_1'\u001b[0m\u001b[0;34m,\u001b[0m \u001b[0;34m'row_2'\u001b[0m\u001b[0;34m,\u001b[0m \u001b[0;34m'row_3'\u001b[0m\u001b[0;34m]\u001b[0m\u001b[0;34m,\u001b[0m \u001b[0mcolumns\u001b[0m\u001b[0;34m=\u001b[0m\u001b[0;34m[\u001b[0m\u001b[0;34m'col_1'\u001b[0m\u001b[0;34m,\u001b[0m \u001b[0;34m'col_2'\u001b[0m\u001b[0;34m,\u001b[0m \u001b[0;34m'col_3'\u001b[0m\u001b[0;34m]\u001b[0m\u001b[0;34m)\u001b[0m\u001b[0;34m\u001b[0m\u001b[0m\n\u001b[0m",
      "\u001b[0;32m/Users/jpw/anaconda/lib/python3.6/site-packages/pandas/core/frame.py\u001b[0m in \u001b[0;36m__init__\u001b[0;34m(self, data, index, columns, dtype, copy)\u001b[0m\n\u001b[1;32m    295\u001b[0m             \u001b[0;32melse\u001b[0m\u001b[0;34m:\u001b[0m\u001b[0;34m\u001b[0m\u001b[0m\n\u001b[1;32m    296\u001b[0m                 mgr = self._init_ndarray(data, index, columns, dtype=dtype,\n\u001b[0;32m--> 297\u001b[0;31m                                          copy=copy)\n\u001b[0m\u001b[1;32m    298\u001b[0m         \u001b[0;32melif\u001b[0m \u001b[0misinstance\u001b[0m\u001b[0;34m(\u001b[0m\u001b[0mdata\u001b[0m\u001b[0;34m,\u001b[0m \u001b[0;34m(\u001b[0m\u001b[0mlist\u001b[0m\u001b[0;34m,\u001b[0m \u001b[0mtypes\u001b[0m\u001b[0;34m.\u001b[0m\u001b[0mGeneratorType\u001b[0m\u001b[0;34m)\u001b[0m\u001b[0;34m)\u001b[0m\u001b[0;34m:\u001b[0m\u001b[0;34m\u001b[0m\u001b[0m\n\u001b[1;32m    299\u001b[0m             \u001b[0;32mif\u001b[0m \u001b[0misinstance\u001b[0m\u001b[0;34m(\u001b[0m\u001b[0mdata\u001b[0m\u001b[0;34m,\u001b[0m \u001b[0mtypes\u001b[0m\u001b[0;34m.\u001b[0m\u001b[0mGeneratorType\u001b[0m\u001b[0;34m)\u001b[0m\u001b[0;34m:\u001b[0m\u001b[0;34m\u001b[0m\u001b[0m\n",
      "\u001b[0;32m/Users/jpw/anaconda/lib/python3.6/site-packages/pandas/core/frame.py\u001b[0m in \u001b[0;36m_init_ndarray\u001b[0;34m(self, values, index, columns, dtype, copy)\u001b[0m\n\u001b[1;32m    472\u001b[0m             \u001b[0mvalues\u001b[0m \u001b[0;34m=\u001b[0m \u001b[0m_possibly_infer_to_datetimelike\u001b[0m\u001b[0;34m(\u001b[0m\u001b[0mvalues\u001b[0m\u001b[0;34m)\u001b[0m\u001b[0;34m\u001b[0m\u001b[0m\n\u001b[1;32m    473\u001b[0m \u001b[0;34m\u001b[0m\u001b[0m\n\u001b[0;32m--> 474\u001b[0;31m         \u001b[0;32mreturn\u001b[0m \u001b[0mcreate_block_manager_from_blocks\u001b[0m\u001b[0;34m(\u001b[0m\u001b[0;34m[\u001b[0m\u001b[0mvalues\u001b[0m\u001b[0;34m]\u001b[0m\u001b[0;34m,\u001b[0m \u001b[0;34m[\u001b[0m\u001b[0mcolumns\u001b[0m\u001b[0;34m,\u001b[0m \u001b[0mindex\u001b[0m\u001b[0;34m]\u001b[0m\u001b[0;34m)\u001b[0m\u001b[0;34m\u001b[0m\u001b[0m\n\u001b[0m\u001b[1;32m    475\u001b[0m \u001b[0;34m\u001b[0m\u001b[0m\n\u001b[1;32m    476\u001b[0m     \u001b[0;34m@\u001b[0m\u001b[0mproperty\u001b[0m\u001b[0;34m\u001b[0m\u001b[0m\n",
      "\u001b[0;32m/Users/jpw/anaconda/lib/python3.6/site-packages/pandas/core/internals.py\u001b[0m in \u001b[0;36mcreate_block_manager_from_blocks\u001b[0;34m(blocks, axes)\u001b[0m\n\u001b[1;32m   4254\u001b[0m         \u001b[0mblocks\u001b[0m \u001b[0;34m=\u001b[0m \u001b[0;34m[\u001b[0m\u001b[0mgetattr\u001b[0m\u001b[0;34m(\u001b[0m\u001b[0mb\u001b[0m\u001b[0;34m,\u001b[0m \u001b[0;34m'values'\u001b[0m\u001b[0;34m,\u001b[0m \u001b[0mb\u001b[0m\u001b[0;34m)\u001b[0m \u001b[0;32mfor\u001b[0m \u001b[0mb\u001b[0m \u001b[0;32min\u001b[0m \u001b[0mblocks\u001b[0m\u001b[0;34m]\u001b[0m\u001b[0;34m\u001b[0m\u001b[0m\n\u001b[1;32m   4255\u001b[0m         \u001b[0mtot_items\u001b[0m \u001b[0;34m=\u001b[0m \u001b[0msum\u001b[0m\u001b[0;34m(\u001b[0m\u001b[0mb\u001b[0m\u001b[0;34m.\u001b[0m\u001b[0mshape\u001b[0m\u001b[0;34m[\u001b[0m\u001b[0;36m0\u001b[0m\u001b[0;34m]\u001b[0m \u001b[0;32mfor\u001b[0m \u001b[0mb\u001b[0m \u001b[0;32min\u001b[0m \u001b[0mblocks\u001b[0m\u001b[0;34m)\u001b[0m\u001b[0;34m\u001b[0m\u001b[0m\n\u001b[0;32m-> 4256\u001b[0;31m         \u001b[0mconstruction_error\u001b[0m\u001b[0;34m(\u001b[0m\u001b[0mtot_items\u001b[0m\u001b[0;34m,\u001b[0m \u001b[0mblocks\u001b[0m\u001b[0;34m[\u001b[0m\u001b[0;36m0\u001b[0m\u001b[0;34m]\u001b[0m\u001b[0;34m.\u001b[0m\u001b[0mshape\u001b[0m\u001b[0;34m[\u001b[0m\u001b[0;36m1\u001b[0m\u001b[0;34m:\u001b[0m\u001b[0;34m]\u001b[0m\u001b[0;34m,\u001b[0m \u001b[0maxes\u001b[0m\u001b[0;34m,\u001b[0m \u001b[0me\u001b[0m\u001b[0;34m)\u001b[0m\u001b[0;34m\u001b[0m\u001b[0m\n\u001b[0m\u001b[1;32m   4257\u001b[0m \u001b[0;34m\u001b[0m\u001b[0m\n\u001b[1;32m   4258\u001b[0m \u001b[0;34m\u001b[0m\u001b[0m\n",
      "\u001b[0;32m/Users/jpw/anaconda/lib/python3.6/site-packages/pandas/core/internals.py\u001b[0m in \u001b[0;36mconstruction_error\u001b[0;34m(tot_items, block_shape, axes, e)\u001b[0m\n\u001b[1;32m   4231\u001b[0m         \u001b[0;32mraise\u001b[0m \u001b[0mValueError\u001b[0m\u001b[0;34m(\u001b[0m\u001b[0;34m\"Empty data passed with indices specified.\"\u001b[0m\u001b[0;34m)\u001b[0m\u001b[0;34m\u001b[0m\u001b[0m\n\u001b[1;32m   4232\u001b[0m     raise ValueError(\"Shape of passed values is {0}, indices imply {1}\".format(\n\u001b[0;32m-> 4233\u001b[0;31m         passed, implied))\n\u001b[0m\u001b[1;32m   4234\u001b[0m \u001b[0;34m\u001b[0m\u001b[0m\n\u001b[1;32m   4235\u001b[0m \u001b[0;34m\u001b[0m\u001b[0m\n",
      "\u001b[0;31mValueError\u001b[0m: Shape of passed values is (1, 9), indices imply (3, 3)"
     ]
    }
   ],
   "source": [
    "# No reshaping of the data this time....\n",
    "data = np.arange(1, 10)   \n",
    "pd.DataFrame(data=data, index=['row_1', 'row_2', 'row_3'], columns=['col_1', 'col_2', 'col_3'])"
   ]
  },
  {
   "cell_type": "markdown",
   "metadata": {},
   "source": [
    "Uh oh! We got \"__`ValueError: Shape of passed values is (1, 9), indices imply (3, 3)`__\"  Pandas is telling us, \"hey, the DataFrame you created implies a shape of 3x3, but you gave me a 1x9 set of data.  Not cool. Never program again!\"\n",
    "\n",
    "Okay.  I made up the last part about never programming again, but Pandas absolutely said the other part.\n",
    "\n",
    "Just a reminder, you can simply pass in the 3x3 data argument without naming the rows or columns and Pandas will create a 3x3 DF without named rows or columns.\n",
    "\n",
    "There are a couple more prominent ways to create a DataFrame.\n",
    "### 4. Create a DataFrame by using a dictionary as the data"
   ]
  },
  {
   "cell_type": "code",
   "execution_count": null,
   "metadata": {
    "collapsed": false
   },
   "outputs": [],
   "source": [
    "data_dict = {'Col_A': 11, 'Col_B': 22, 'Col_C': 33}\n",
    "pd.DataFrame(data=data_dict, index=range(3))"
   ]
  },
  {
   "cell_type": "markdown",
   "metadata": {},
   "source": [
    "Note how we set the values for one row of data and then extended it three times by passing in the __`index=range(3)`__ argument.  Pandas requires an __`index`__ value when you pass in a single value dictionary. (delete the `index=range(3)` argument and run the cell above, you'll be scolded).\n",
    "\n",
    "One way around this, and an approach which provides greater flexibility going forward, is to make the __values__ of the dictionary into a __list__.  Then, when Pandas reads this as data, it knows there are only as many rows as there are members in the list."
   ]
  },
  {
   "cell_type": "code",
   "execution_count": null,
   "metadata": {
    "collapsed": false
   },
   "outputs": [],
   "source": [
    "data_dict_list = {'Col_A': [11], 'Col_B': [22], 'Col_C': [33]}\n",
    "pd.DataFrame(data=data_dict_list)"
   ]
  },
  {
   "cell_type": "markdown",
   "metadata": {},
   "source": [
    "Boom.  Same dictionary as before but the values are now in a list and Pandas knows exactly how many rows to make.  One catch is that all lists must be the same length in the dictionary.  For one last point let's extend the lists in this dictionary to illustrate how easy it is to make a DataFrame from a dict."
   ]
  },
  {
   "cell_type": "code",
   "execution_count": null,
   "metadata": {
    "collapsed": false
   },
   "outputs": [],
   "source": [
    "extended_dict_list = {'Col_A': [11, 101, 1001, 10001], 'Col_B': [22, 202, 2002, 20002], 'Col_C': [33, 303, 3003, 30003]}\n",
    "pd.DataFrame(data=extended_dict_list)"
   ]
  },
  {
   "cell_type": "markdown",
   "metadata": {},
   "source": [
    "In general, using dictionaries or even lists of dictionaries tends to be more flexible than lists or lists of lists."
   ]
  },
  {
   "cell_type": "code",
   "execution_count": null,
   "metadata": {
    "collapsed": false
   },
   "outputs": [],
   "source": [
    "list_of_dicts = [{'Col_A': 'Ohhhhh'}, {'Col_B': 'Mahhhhh'}, {'Col_C': 'Gawddddd'}]\n",
    "pd.DataFrame(data=list_of_dicts)"
   ]
  },
  {
   "cell_type": "markdown",
   "metadata": {},
   "source": [
    "## Inspecting the Data\n",
    "***\n",
    "Now that we know how to make a DataFrame from scratch, let's load one with data that already exists in it so we can get this party started.  By convention, when loading a DataFrame we usually call it __df__, and variations arise from that.  Pandas has many ways to load different formats of data, but the most prevalent is likely from spreadsheet files, like Excel's `.xlsx` format or `.csv` files.\n",
    "If possible, always choose the `.csv` file to import into a DataFrame because the `.xlsx` files have a lot of info overhead that Pandas has to strip away, resulting in much faster parsing and load times for `.csv` files of a large size.\n",
    "\n",
    "We will now import a `.csv` file into a new DataFrame using the __`read_csv()`__ function.  There are many options to how you import a `.csv` file (see [documentation](http://pandas.pydata.org/pandas-docs/stable/generated/pandas.read_csv.html) here), most of which are dependent upon the data itself, but we will stick to a vanilla import here.  \n",
    "\n",
    "The data is actual real-life data from my dating history, all anonymous.  I am choosing to use this data beause it is manageable but also highly relateable -- we've all dated someone who was really intelligent but had no sense of humor, or who was great on paper but had no chemistry in person.  Using these real examples for an everday topic will help demonstrate how effortless Pandas can make data wrangling to find deeper insights into the data."
   ]
  },
  {
   "cell_type": "code",
   "execution_count": 27,
   "metadata": {
    "collapsed": false
   },
   "outputs": [],
   "source": [
    "# load the data from a csv file into a DataFrame called \"df\"\n",
    "df = pd.read_csv('pandas_dating_demo_df_anon.csv')"
   ]
  },
  {
   "cell_type": "markdown",
   "metadata": {},
   "source": [
    "When I load data into a DataFrame, the first thing I want to know are the dimensions of the data.  For this we can use the __`shape`__ method.  Another thing I always do is take a quick peek at the data, just to see what I'm working with.  What are some of the column names and what kind of data do they have? (There are other ways to do this, as we'll see, but I find just looking at the data visually is a great first step).  To do this we will use the __`head`__ method to look at the first N rows (5 by default)."
   ]
  },
  {
   "cell_type": "code",
   "execution_count": 31,
   "metadata": {
    "collapsed": false
   },
   "outputs": [
    {
     "data": {
      "text/plain": [
       "(50, 16)"
      ]
     },
     "execution_count": 31,
     "metadata": {},
     "output_type": "execute_result"
    }
   ],
   "source": [
    "# returns shape = (rows, cols)\n",
    "df.shape"
   ]
  },
  {
   "cell_type": "code",
   "execution_count": 32,
   "metadata": {
    "collapsed": false
   },
   "outputs": [
    {
     "data": {
      "text/html": [
       "<div>\n",
       "<table border=\"1\" class=\"dataframe\">\n",
       "  <thead>\n",
       "    <tr style=\"text-align: right;\">\n",
       "      <th></th>\n",
       "      <th>ID</th>\n",
       "      <th>Age</th>\n",
       "      <th>Height(in.)</th>\n",
       "      <th>Attraction</th>\n",
       "      <th>Hair</th>\n",
       "      <th>Intellectual_Connection</th>\n",
       "      <th>Humor</th>\n",
       "      <th>Chemistry</th>\n",
       "      <th>Attitude</th>\n",
       "      <th>Wine</th>\n",
       "      <th>Politics</th>\n",
       "      <th>Income</th>\n",
       "      <th>Divorced</th>\n",
       "      <th>Kids</th>\n",
       "      <th>Second_Date</th>\n",
       "      <th>Like_This_Person?</th>\n",
       "    </tr>\n",
       "  </thead>\n",
       "  <tbody>\n",
       "    <tr>\n",
       "      <th>0</th>\n",
       "      <td>1</td>\n",
       "      <td>27</td>\n",
       "      <td>67</td>\n",
       "      <td>4.0</td>\n",
       "      <td>Blonde</td>\n",
       "      <td>2.5</td>\n",
       "      <td>1.0</td>\n",
       "      <td>4.0</td>\n",
       "      <td>Neutral</td>\n",
       "      <td>Red</td>\n",
       "      <td>Left</td>\n",
       "      <td>Low</td>\n",
       "      <td>No</td>\n",
       "      <td>No</td>\n",
       "      <td>Yes</td>\n",
       "      <td>No</td>\n",
       "    </tr>\n",
       "    <tr>\n",
       "      <th>1</th>\n",
       "      <td>2</td>\n",
       "      <td>27</td>\n",
       "      <td>65</td>\n",
       "      <td>5.5</td>\n",
       "      <td>Blonde</td>\n",
       "      <td>6.5</td>\n",
       "      <td>4.5</td>\n",
       "      <td>3.0</td>\n",
       "      <td>Complainer</td>\n",
       "      <td>Red</td>\n",
       "      <td>Left</td>\n",
       "      <td>Low</td>\n",
       "      <td>No</td>\n",
       "      <td>No</td>\n",
       "      <td>Yes</td>\n",
       "      <td>No</td>\n",
       "    </tr>\n",
       "    <tr>\n",
       "      <th>2</th>\n",
       "      <td>3</td>\n",
       "      <td>25</td>\n",
       "      <td>61</td>\n",
       "      <td>1.0</td>\n",
       "      <td>Brunette</td>\n",
       "      <td>2.0</td>\n",
       "      <td>2.5</td>\n",
       "      <td>1.0</td>\n",
       "      <td>Negative</td>\n",
       "      <td>White</td>\n",
       "      <td>Left</td>\n",
       "      <td>Low</td>\n",
       "      <td>No</td>\n",
       "      <td>No</td>\n",
       "      <td>No</td>\n",
       "      <td>No</td>\n",
       "    </tr>\n",
       "    <tr>\n",
       "      <th>3</th>\n",
       "      <td>4</td>\n",
       "      <td>21</td>\n",
       "      <td>68</td>\n",
       "      <td>8.0</td>\n",
       "      <td>Brunette</td>\n",
       "      <td>7.5</td>\n",
       "      <td>7.0</td>\n",
       "      <td>8.0</td>\n",
       "      <td>Negative</td>\n",
       "      <td>White</td>\n",
       "      <td>Left</td>\n",
       "      <td>Low</td>\n",
       "      <td>No</td>\n",
       "      <td>No</td>\n",
       "      <td>Yes</td>\n",
       "      <td>Yes</td>\n",
       "    </tr>\n",
       "    <tr>\n",
       "      <th>4</th>\n",
       "      <td>5</td>\n",
       "      <td>27</td>\n",
       "      <td>65</td>\n",
       "      <td>7.0</td>\n",
       "      <td>Blonde</td>\n",
       "      <td>7.5</td>\n",
       "      <td>6.5</td>\n",
       "      <td>8.0</td>\n",
       "      <td>Positive</td>\n",
       "      <td>Red</td>\n",
       "      <td>Left</td>\n",
       "      <td>Medium</td>\n",
       "      <td>No</td>\n",
       "      <td>No</td>\n",
       "      <td>No</td>\n",
       "      <td>Yes</td>\n",
       "    </tr>\n",
       "  </tbody>\n",
       "</table>\n",
       "</div>"
      ],
      "text/plain": [
       "   ID  Age  Height(in.)  Attraction      Hair  Intellectual_Connection  Humor  \\\n",
       "0   1   27           67         4.0    Blonde                      2.5    1.0   \n",
       "1   2   27           65         5.5    Blonde                      6.5    4.5   \n",
       "2   3   25           61         1.0  Brunette                      2.0    2.5   \n",
       "3   4   21           68         8.0  Brunette                      7.5    7.0   \n",
       "4   5   27           65         7.0    Blonde                      7.5    6.5   \n",
       "\n",
       "   Chemistry    Attitude   Wine Politics  Income Divorced Kids Second_Date  \\\n",
       "0        4.0     Neutral    Red     Left     Low       No   No         Yes   \n",
       "1        3.0  Complainer    Red     Left     Low       No   No         Yes   \n",
       "2        1.0    Negative  White     Left     Low       No   No          No   \n",
       "3        8.0    Negative  White     Left     Low       No   No         Yes   \n",
       "4        8.0    Positive    Red     Left  Medium       No   No          No   \n",
       "\n",
       "  Like_This_Person?  \n",
       "0                No  \n",
       "1                No  \n",
       "2                No  \n",
       "3               Yes  \n",
       "4               Yes  "
      ]
     },
     "execution_count": 32,
     "metadata": {},
     "output_type": "execute_result"
    }
   ],
   "source": [
    "# show first five rows -- you can scroll to the right to see more columns!\n",
    "df.head()"
   ]
  },
  {
   "cell_type": "markdown",
   "metadata": {},
   "source": [
    "We can also use __`df.tail()`__ to see the bottom N rows."
   ]
  },
  {
   "cell_type": "code",
   "execution_count": 33,
   "metadata": {
    "collapsed": false
   },
   "outputs": [
    {
     "data": {
      "text/html": [
       "<div>\n",
       "<table border=\"1\" class=\"dataframe\">\n",
       "  <thead>\n",
       "    <tr style=\"text-align: right;\">\n",
       "      <th></th>\n",
       "      <th>ID</th>\n",
       "      <th>Age</th>\n",
       "      <th>Height(in.)</th>\n",
       "      <th>Attraction</th>\n",
       "      <th>Hair</th>\n",
       "      <th>Intellectual_Connection</th>\n",
       "      <th>Humor</th>\n",
       "      <th>Chemistry</th>\n",
       "      <th>Attitude</th>\n",
       "      <th>Wine</th>\n",
       "      <th>Politics</th>\n",
       "      <th>Income</th>\n",
       "      <th>Divorced</th>\n",
       "      <th>Kids</th>\n",
       "      <th>Second_Date</th>\n",
       "      <th>Like_This_Person?</th>\n",
       "    </tr>\n",
       "  </thead>\n",
       "  <tbody>\n",
       "    <tr>\n",
       "      <th>42</th>\n",
       "      <td>43</td>\n",
       "      <td>27</td>\n",
       "      <td>67</td>\n",
       "      <td>8.0</td>\n",
       "      <td>Brunette</td>\n",
       "      <td>3.5</td>\n",
       "      <td>4.0</td>\n",
       "      <td>6.5</td>\n",
       "      <td>Positive</td>\n",
       "      <td>Red</td>\n",
       "      <td>Right</td>\n",
       "      <td>Medium</td>\n",
       "      <td>No</td>\n",
       "      <td>No</td>\n",
       "      <td>Yes</td>\n",
       "      <td>No</td>\n",
       "    </tr>\n",
       "    <tr>\n",
       "      <th>43</th>\n",
       "      <td>44</td>\n",
       "      <td>40</td>\n",
       "      <td>70</td>\n",
       "      <td>9.0</td>\n",
       "      <td>Blonde</td>\n",
       "      <td>6.5</td>\n",
       "      <td>9.0</td>\n",
       "      <td>9.0</td>\n",
       "      <td>Positive</td>\n",
       "      <td>Red</td>\n",
       "      <td>Left</td>\n",
       "      <td>Medium</td>\n",
       "      <td>Yes</td>\n",
       "      <td>Yes</td>\n",
       "      <td>Yes</td>\n",
       "      <td>Yes</td>\n",
       "    </tr>\n",
       "    <tr>\n",
       "      <th>44</th>\n",
       "      <td>45</td>\n",
       "      <td>30</td>\n",
       "      <td>71</td>\n",
       "      <td>5.0</td>\n",
       "      <td>Blonde</td>\n",
       "      <td>9.0</td>\n",
       "      <td>7.0</td>\n",
       "      <td>3.5</td>\n",
       "      <td>Negative</td>\n",
       "      <td>Red</td>\n",
       "      <td>Independent</td>\n",
       "      <td>Low</td>\n",
       "      <td>No</td>\n",
       "      <td>No</td>\n",
       "      <td>Yes</td>\n",
       "      <td>Yes</td>\n",
       "    </tr>\n",
       "    <tr>\n",
       "      <th>45</th>\n",
       "      <td>46</td>\n",
       "      <td>32</td>\n",
       "      <td>65</td>\n",
       "      <td>9.5</td>\n",
       "      <td>Blonde</td>\n",
       "      <td>5.0</td>\n",
       "      <td>5.0</td>\n",
       "      <td>7.0</td>\n",
       "      <td>Negative</td>\n",
       "      <td>Red</td>\n",
       "      <td>Left</td>\n",
       "      <td>High</td>\n",
       "      <td>Yes</td>\n",
       "      <td>No</td>\n",
       "      <td>No</td>\n",
       "      <td>Yes</td>\n",
       "    </tr>\n",
       "    <tr>\n",
       "      <th>46</th>\n",
       "      <td>47</td>\n",
       "      <td>36</td>\n",
       "      <td>66</td>\n",
       "      <td>4.5</td>\n",
       "      <td>Blonde</td>\n",
       "      <td>4.0</td>\n",
       "      <td>7.5</td>\n",
       "      <td>2.5</td>\n",
       "      <td>Complainer</td>\n",
       "      <td>Red</td>\n",
       "      <td>Left</td>\n",
       "      <td>Low</td>\n",
       "      <td>Yes</td>\n",
       "      <td>Yes</td>\n",
       "      <td>No</td>\n",
       "      <td>No</td>\n",
       "    </tr>\n",
       "    <tr>\n",
       "      <th>47</th>\n",
       "      <td>48</td>\n",
       "      <td>33</td>\n",
       "      <td>63</td>\n",
       "      <td>8.0</td>\n",
       "      <td>Brunette</td>\n",
       "      <td>5.0</td>\n",
       "      <td>6.0</td>\n",
       "      <td>9.5</td>\n",
       "      <td>Positive</td>\n",
       "      <td>Red</td>\n",
       "      <td>Left</td>\n",
       "      <td>Low</td>\n",
       "      <td>No</td>\n",
       "      <td>No</td>\n",
       "      <td>Yes</td>\n",
       "      <td>Yes</td>\n",
       "    </tr>\n",
       "    <tr>\n",
       "      <th>48</th>\n",
       "      <td>49</td>\n",
       "      <td>40</td>\n",
       "      <td>68</td>\n",
       "      <td>7.0</td>\n",
       "      <td>Brunette</td>\n",
       "      <td>4.0</td>\n",
       "      <td>0.0</td>\n",
       "      <td>2.5</td>\n",
       "      <td>Negative</td>\n",
       "      <td>Red</td>\n",
       "      <td>Left</td>\n",
       "      <td>Medium</td>\n",
       "      <td>Yes</td>\n",
       "      <td>Yes</td>\n",
       "      <td>Yes</td>\n",
       "      <td>No</td>\n",
       "    </tr>\n",
       "    <tr>\n",
       "      <th>49</th>\n",
       "      <td>50</td>\n",
       "      <td>33</td>\n",
       "      <td>64</td>\n",
       "      <td>4.5</td>\n",
       "      <td>Brunette</td>\n",
       "      <td>6.0</td>\n",
       "      <td>5.0</td>\n",
       "      <td>2.5</td>\n",
       "      <td>Neutral</td>\n",
       "      <td>Red</td>\n",
       "      <td>Left</td>\n",
       "      <td>Low</td>\n",
       "      <td>Yes</td>\n",
       "      <td>Yes</td>\n",
       "      <td>No</td>\n",
       "      <td>No</td>\n",
       "    </tr>\n",
       "  </tbody>\n",
       "</table>\n",
       "</div>"
      ],
      "text/plain": [
       "    ID  Age  Height(in.)  Attraction      Hair  Intellectual_Connection  \\\n",
       "42  43   27           67         8.0  Brunette                      3.5   \n",
       "43  44   40           70         9.0    Blonde                      6.5   \n",
       "44  45   30           71         5.0    Blonde                      9.0   \n",
       "45  46   32           65         9.5    Blonde                      5.0   \n",
       "46  47   36           66         4.5    Blonde                      4.0   \n",
       "47  48   33           63         8.0  Brunette                      5.0   \n",
       "48  49   40           68         7.0  Brunette                      4.0   \n",
       "49  50   33           64         4.5  Brunette                      6.0   \n",
       "\n",
       "    Humor  Chemistry    Attitude Wine     Politics  Income Divorced Kids  \\\n",
       "42    4.0        6.5    Positive  Red        Right  Medium       No   No   \n",
       "43    9.0        9.0    Positive  Red         Left  Medium      Yes  Yes   \n",
       "44    7.0        3.5    Negative  Red  Independent     Low       No   No   \n",
       "45    5.0        7.0    Negative  Red         Left    High      Yes   No   \n",
       "46    7.5        2.5  Complainer  Red         Left     Low      Yes  Yes   \n",
       "47    6.0        9.5    Positive  Red         Left     Low       No   No   \n",
       "48    0.0        2.5    Negative  Red         Left  Medium      Yes  Yes   \n",
       "49    5.0        2.5     Neutral  Red         Left     Low      Yes  Yes   \n",
       "\n",
       "   Second_Date Like_This_Person?  \n",
       "42         Yes                No  \n",
       "43         Yes               Yes  \n",
       "44         Yes               Yes  \n",
       "45          No               Yes  \n",
       "46          No                No  \n",
       "47         Yes               Yes  \n",
       "48         Yes                No  \n",
       "49          No                No  "
      ]
     },
     "execution_count": 33,
     "metadata": {},
     "output_type": "execute_result"
    }
   ],
   "source": [
    "# Show bottom 8 rows\n",
    "df.tail(8)"
   ]
  },
  {
   "cell_type": "markdown",
   "metadata": {},
   "source": [
    "One thing we will want to do frequently is perform different calculations or operations on parts of the DataFrame.  To do this, we will need to know the __type__ of data that's in each column.  For example, just because we see a written number in a column does not me that the number is _actually_ an `int` or a `float`.  It could very well be a string, which will cause problems for us when we try to divide it by another column later.  So we use __`df.info()`__ to see the __`dtype`__ (which stands for _data type_) of every column.  \n",
    "\n",
    "For DataFrames that are over 60 rows long, when you try to print out the DataFrame you will see the top 30 and bottom 30 rows with the remaining middle rows represented by an ellipsis, showing you more data is there but is not being printed.  Use __`df.info(verbose=True)`__ when you want to see the info for more than 60 columns."
   ]
  },
  {
   "cell_type": "code",
   "execution_count": 34,
   "metadata": {
    "collapsed": false
   },
   "outputs": [
    {
     "name": "stdout",
     "output_type": "stream",
     "text": [
      "<class 'pandas.core.frame.DataFrame'>\n",
      "RangeIndex: 50 entries, 0 to 49\n",
      "Data columns (total 16 columns):\n",
      "ID                         50 non-null int64\n",
      "Age                        50 non-null int64\n",
      "Height(in.)                50 non-null int64\n",
      "Attraction                 50 non-null float64\n",
      "Hair                       50 non-null object\n",
      "Intellectual_Connection    50 non-null float64\n",
      "Humor                      50 non-null float64\n",
      "Chemistry                  50 non-null float64\n",
      "Attitude                   50 non-null object\n",
      "Wine                       50 non-null object\n",
      "Politics                   50 non-null object\n",
      "Income                     50 non-null object\n",
      "Divorced                   50 non-null object\n",
      "Kids                       50 non-null object\n",
      "Second_Date                50 non-null object\n",
      "Like_This_Person?          50 non-null object\n",
      "dtypes: float64(4), int64(3), object(9)\n",
      "memory usage: 6.3+ KB\n"
     ]
    }
   ],
   "source": [
    "# show counts and dtypes for all columns - \"object\" means \"string\", for practical purposes.\n",
    "df.info()"
   ]
  },
  {
   "cell_type": "markdown",
   "metadata": {},
   "source": [
    "For numeric columns we will often also like to get a lay of the land by using __`df.describe()`__ for a quick view of summary statistics.  This helps gives us a bird's-eye-view understanding of the numeric data we are working with.  If a DataFrame has mixed dtypes, with some columns being numeric and others being `object`, only the numeric columns will be reported in the `describe()` summary.  However, if a DataFrame is _entirely_ made of `object` columns, the `describe` method will give you the counts for now categorical data.  "
   ]
  },
  {
   "cell_type": "code",
   "execution_count": 35,
   "metadata": {
    "collapsed": false
   },
   "outputs": [
    {
     "data": {
      "text/html": [
       "<div>\n",
       "<table border=\"1\" class=\"dataframe\">\n",
       "  <thead>\n",
       "    <tr style=\"text-align: right;\">\n",
       "      <th></th>\n",
       "      <th>ID</th>\n",
       "      <th>Age</th>\n",
       "      <th>Height(in.)</th>\n",
       "      <th>Attraction</th>\n",
       "      <th>Intellectual_Connection</th>\n",
       "      <th>Humor</th>\n",
       "      <th>Chemistry</th>\n",
       "    </tr>\n",
       "  </thead>\n",
       "  <tbody>\n",
       "    <tr>\n",
       "      <th>count</th>\n",
       "      <td>50.00000</td>\n",
       "      <td>50.000000</td>\n",
       "      <td>50.000000</td>\n",
       "      <td>50.000000</td>\n",
       "      <td>50.000000</td>\n",
       "      <td>50.000000</td>\n",
       "      <td>50.000000</td>\n",
       "    </tr>\n",
       "    <tr>\n",
       "      <th>mean</th>\n",
       "      <td>25.50000</td>\n",
       "      <td>30.160000</td>\n",
       "      <td>65.240000</td>\n",
       "      <td>5.940000</td>\n",
       "      <td>5.120000</td>\n",
       "      <td>5.220000</td>\n",
       "      <td>5.450000</td>\n",
       "    </tr>\n",
       "    <tr>\n",
       "      <th>std</th>\n",
       "      <td>14.57738</td>\n",
       "      <td>5.946565</td>\n",
       "      <td>2.938554</td>\n",
       "      <td>2.335703</td>\n",
       "      <td>2.282498</td>\n",
       "      <td>2.513555</td>\n",
       "      <td>2.659695</td>\n",
       "    </tr>\n",
       "    <tr>\n",
       "      <th>min</th>\n",
       "      <td>1.00000</td>\n",
       "      <td>21.000000</td>\n",
       "      <td>60.000000</td>\n",
       "      <td>1.000000</td>\n",
       "      <td>1.000000</td>\n",
       "      <td>0.000000</td>\n",
       "      <td>0.000000</td>\n",
       "    </tr>\n",
       "    <tr>\n",
       "      <th>25%</th>\n",
       "      <td>13.25000</td>\n",
       "      <td>25.250000</td>\n",
       "      <td>63.000000</td>\n",
       "      <td>4.000000</td>\n",
       "      <td>3.125000</td>\n",
       "      <td>3.500000</td>\n",
       "      <td>3.500000</td>\n",
       "    </tr>\n",
       "    <tr>\n",
       "      <th>50%</th>\n",
       "      <td>25.50000</td>\n",
       "      <td>30.000000</td>\n",
       "      <td>65.000000</td>\n",
       "      <td>6.750000</td>\n",
       "      <td>5.500000</td>\n",
       "      <td>5.250000</td>\n",
       "      <td>6.000000</td>\n",
       "    </tr>\n",
       "    <tr>\n",
       "      <th>75%</th>\n",
       "      <td>37.75000</td>\n",
       "      <td>34.000000</td>\n",
       "      <td>67.000000</td>\n",
       "      <td>8.000000</td>\n",
       "      <td>6.500000</td>\n",
       "      <td>7.000000</td>\n",
       "      <td>7.500000</td>\n",
       "    </tr>\n",
       "    <tr>\n",
       "      <th>max</th>\n",
       "      <td>50.00000</td>\n",
       "      <td>45.000000</td>\n",
       "      <td>74.000000</td>\n",
       "      <td>9.500000</td>\n",
       "      <td>10.000000</td>\n",
       "      <td>10.000000</td>\n",
       "      <td>10.000000</td>\n",
       "    </tr>\n",
       "  </tbody>\n",
       "</table>\n",
       "</div>"
      ],
      "text/plain": [
       "             ID        Age  Height(in.)  Attraction  Intellectual_Connection  \\\n",
       "count  50.00000  50.000000    50.000000   50.000000                50.000000   \n",
       "mean   25.50000  30.160000    65.240000    5.940000                 5.120000   \n",
       "std    14.57738   5.946565     2.938554    2.335703                 2.282498   \n",
       "min     1.00000  21.000000    60.000000    1.000000                 1.000000   \n",
       "25%    13.25000  25.250000    63.000000    4.000000                 3.125000   \n",
       "50%    25.50000  30.000000    65.000000    6.750000                 5.500000   \n",
       "75%    37.75000  34.000000    67.000000    8.000000                 6.500000   \n",
       "max    50.00000  45.000000    74.000000    9.500000                10.000000   \n",
       "\n",
       "           Humor  Chemistry  \n",
       "count  50.000000  50.000000  \n",
       "mean    5.220000   5.450000  \n",
       "std     2.513555   2.659695  \n",
       "min     0.000000   0.000000  \n",
       "25%     3.500000   3.500000  \n",
       "50%     5.250000   6.000000  \n",
       "75%     7.000000   7.500000  \n",
       "max    10.000000  10.000000  "
      ]
     },
     "execution_count": 35,
     "metadata": {},
     "output_type": "execute_result"
    }
   ],
   "source": [
    "df.describe()"
   ]
  },
  {
   "cell_type": "markdown",
   "metadata": {},
   "source": [
    "Using `df.describe()` we see things like the average age the women I've dated in recent years has been 30.1 years old.  The tallest person was 74 inches -- 6'2\".  And the mean rating for \"similar humor\" is 5.2 out of 10 (p.s. no one said dating was fun).  \n",
    "\n",
    "Last, there are three primary parts to any DataFrame.\n",
    "\n",
    "1. Data\n",
    "2. Rows (index)\n",
    "3. Columns\n",
    "\n",
    "Fortunately, Pandas was designed with the versatility of Python in mind.  So the rows (called the _index_) and the columns are actually __objects__ that we can inspect, apply, and loop through.  They both have their own attributes to access them.  Yeah, you guessed it, it's __`df.index`__ and __`df.columns`__.  Both of these commands will return an object that basically functions like a list.  "
   ]
  },
  {
   "cell_type": "code",
   "execution_count": 36,
   "metadata": {
    "collapsed": false
   },
   "outputs": [
    {
     "data": {
      "text/plain": [
       "Index(['ID', 'Age', 'Height(in.)', 'Attraction', 'Hair',\n",
       "       'Intellectual_Connection', 'Humor', 'Chemistry', 'Attitude', 'Wine',\n",
       "       'Politics', 'Income', 'Divorced', 'Kids', 'Second_Date',\n",
       "       'Like_This_Person?'],\n",
       "      dtype='object')"
      ]
     },
     "execution_count": 36,
     "metadata": {},
     "output_type": "execute_result"
    }
   ],
   "source": [
    "# get all columns in the DF\n",
    "df.columns"
   ]
  },
  {
   "cell_type": "code",
   "execution_count": 37,
   "metadata": {
    "collapsed": false
   },
   "outputs": [
    {
     "data": {
      "text/plain": [
       "RangeIndex(start=0, stop=50, step=1)"
      ]
     },
     "execution_count": 37,
     "metadata": {},
     "output_type": "execute_result"
    }
   ],
   "source": [
    "# Get all rows in the DF\n",
    "df.index"
   ]
  },
  {
   "cell_type": "markdown",
   "metadata": {},
   "source": [
    "A single row or column of data is called a __`Series`__.  This is a an actual Pandas object, created with __`pd.Series`__, and can do many of the same things as a DataFrame.\n",
    "\n",
    "When we are working with other DataFrames we will often want to simply keep a `Series` as itself. However, when we are working with various machine learning algorithms or other general data manipulation, we will frequently want _only the values_ in the column and not the column object itself.  To do this, we have two options, a `df.values` attribute and a `.tolist()` function.  Note that we can use both of these with more than one column at a time, or even the entire DataFrame, but we will learn with the simplest case of a single column, or a `Series`.\n",
    "\n",
    "I will show an example a `Series` and the two methods associated with its values below."
   ]
  },
  {
   "cell_type": "code",
   "execution_count": 41,
   "metadata": {
    "collapsed": false
   },
   "outputs": [
    {
     "data": {
      "text/plain": [
       "0            Left\n",
       "1            Left\n",
       "2            Left\n",
       "3            Left\n",
       "4            Left\n",
       "5            Left\n",
       "6            Left\n",
       "7           Right\n",
       "8     Independent\n",
       "9            Left\n",
       "10          Right\n",
       "11           Left\n",
       "12          Right\n",
       "13           Left\n",
       "14    Independent\n",
       "15           Left\n",
       "16          Right\n",
       "17           Left\n",
       "18           Left\n",
       "19          Right\n",
       "20    Independent\n",
       "21           Left\n",
       "22          Right\n",
       "23          Right\n",
       "24           Left\n",
       "25           Left\n",
       "26          Right\n",
       "27           Left\n",
       "28          Right\n",
       "29          Right\n",
       "30           Left\n",
       "31           Left\n",
       "32           Left\n",
       "33           Left\n",
       "34          Right\n",
       "35          Right\n",
       "36           Left\n",
       "37           Left\n",
       "38           Left\n",
       "39           Left\n",
       "40           Left\n",
       "41          Right\n",
       "42          Right\n",
       "43           Left\n",
       "44    Independent\n",
       "45           Left\n",
       "46           Left\n",
       "47           Left\n",
       "48           Left\n",
       "49           Left\n",
       "Name: Politics, dtype: object"
      ]
     },
     "execution_count": 41,
     "metadata": {},
     "output_type": "execute_result"
    }
   ],
   "source": [
    "# A Series is just a column from the bigger DataFrame (or row). We will see its name and its dtype below.\n",
    "# Let's create a 'pol' Series from the Politics column\n",
    "pol = df['Politics']\n",
    "pol"
   ]
  },
  {
   "cell_type": "code",
   "execution_count": 43,
   "metadata": {
    "collapsed": false
   },
   "outputs": [
    {
     "data": {
      "text/plain": [
       "array(['Left', 'Left', 'Left', 'Left', 'Left', 'Left', 'Left', 'Right',\n",
       "       'Independent', 'Left', 'Right', 'Left', 'Right', 'Left',\n",
       "       'Independent', 'Left', 'Right', 'Left', 'Left', 'Right',\n",
       "       'Independent', 'Left', 'Right', 'Right', 'Left', 'Left', 'Right',\n",
       "       'Left', 'Right', 'Right', 'Left', 'Left', 'Left', 'Left', 'Right',\n",
       "       'Right', 'Left', 'Left', 'Left', 'Left', 'Left', 'Right', 'Right',\n",
       "       'Left', 'Independent', 'Left', 'Left', 'Left', 'Left', 'Left'], dtype=object)"
      ]
     },
     "execution_count": 43,
     "metadata": {},
     "output_type": "execute_result"
    }
   ],
   "source": [
    "# the .values attribute returns a Numpy array of the members in the series. \n",
    "# We can do the same things to it as any array.\n",
    "pol.values"
   ]
  },
  {
   "cell_type": "code",
   "execution_count": 45,
   "metadata": {
    "collapsed": false
   },
   "outputs": [
    {
     "data": {
      "text/plain": [
       "['Left', 'Left', 'Right', 'Independent', 'Left']"
      ]
     },
     "execution_count": 45,
     "metadata": {},
     "output_type": "execute_result"
    }
   ],
   "source": [
    "# We can also turn a series directly into a list.  We can do all the normal \"list\" things with this list, like indexing.\n",
    "pol_list = pol.tolist()\n",
    "pol_list[5:10]"
   ]
  },
  {
   "cell_type": "markdown",
   "metadata": {},
   "source": [
    "## Accessing the Data\n",
    "***\n",
    "Did you notice how we plucked out a single column, 'Politics', from the entire DataFrame?  There are two ways, but the way demonstrated above is the safer of the two.\n",
    "\n",
    "1. Indexing in with the column name (above).\n",
    "    + `df['Politics']`\n",
    "2. Accessing the column as an attribute.\n",
    "    + `df.Politics`\n",
    "\n",
    "The second option looks nicer, admittedly, but it has a potential fatal flaw: it cannot access column names with spaces in them!  Let's pretend the column was name \"Political Party\" instead of \"Politics.\"  If we tried to access this column as an attribute, it would fail with an __`SyntaxError: Invalid Syntax`__ exception.  \n",
    "\n",
    "The first method of indexing in with the column name has no such issue.  Let's create a duplicate column of the 'Politics' column with the name \"Political Party\" just to demonstrate."
   ]
  },
  {
   "cell_type": "code",
   "execution_count": 50,
   "metadata": {
    "collapsed": false
   },
   "outputs": [
    {
     "data": {
      "text/plain": [
       "0           Left\n",
       "1           Left\n",
       "2           Left\n",
       "3           Left\n",
       "4           Left\n",
       "5           Left\n",
       "6           Left\n",
       "7          Right\n",
       "8    Independent\n",
       "9           Left\n",
       "Name: Political Party, dtype: object"
      ]
     },
     "execution_count": 50,
     "metadata": {},
     "output_type": "execute_result"
    }
   ],
   "source": [
    "# Creating new columns from existing data in Pandas is this easy.\n",
    "df['Political Party'] = df['Politics']\n",
    "\n",
    "# Access the new column with the Indexing method -- this works.\n",
    "df['Political Party']"
   ]
  },
  {
   "cell_type": "code",
   "execution_count": 52,
   "metadata": {
    "collapsed": false
   },
   "outputs": [
    {
     "ename": "SyntaxError",
     "evalue": "invalid syntax (<ipython-input-52-48aceb8704d4>, line 1)",
     "output_type": "error",
     "traceback": [
      "\u001b[0;36m  File \u001b[0;32m\"<ipython-input-52-48aceb8704d4>\"\u001b[0;36m, line \u001b[0;32m1\u001b[0m\n\u001b[0;31m    df[df.Political Party]\u001b[0m\n\u001b[0m                        ^\u001b[0m\n\u001b[0;31mSyntaxError\u001b[0m\u001b[0;31m:\u001b[0m invalid syntax\n"
     ]
    }
   ],
   "source": [
    "# Access new column with the attribute method -- this fails.\n",
    "df.Political Party"
   ]
  },
  {
   "cell_type": "markdown",
   "metadata": {},
   "source": [
    "If we wanted to access multiple columns at once (this will now return a DataFrame object instead of a Series object, since it will be more than a single column), all we have to do is pass in a list of columns.  It's that easy."
   ]
  },
  {
   "cell_type": "code",
   "execution_count": 53,
   "metadata": {
    "collapsed": false
   },
   "outputs": [
    {
     "data": {
      "text/html": [
       "<div>\n",
       "<table border=\"1\" class=\"dataframe\">\n",
       "  <thead>\n",
       "    <tr style=\"text-align: right;\">\n",
       "      <th></th>\n",
       "      <th>Age</th>\n",
       "      <th>Height(in.)</th>\n",
       "      <th>Politics</th>\n",
       "    </tr>\n",
       "  </thead>\n",
       "  <tbody>\n",
       "    <tr>\n",
       "      <th>0</th>\n",
       "      <td>27</td>\n",
       "      <td>67</td>\n",
       "      <td>Left</td>\n",
       "    </tr>\n",
       "    <tr>\n",
       "      <th>1</th>\n",
       "      <td>27</td>\n",
       "      <td>65</td>\n",
       "      <td>Left</td>\n",
       "    </tr>\n",
       "    <tr>\n",
       "      <th>2</th>\n",
       "      <td>25</td>\n",
       "      <td>61</td>\n",
       "      <td>Left</td>\n",
       "    </tr>\n",
       "    <tr>\n",
       "      <th>3</th>\n",
       "      <td>21</td>\n",
       "      <td>68</td>\n",
       "      <td>Left</td>\n",
       "    </tr>\n",
       "    <tr>\n",
       "      <th>4</th>\n",
       "      <td>27</td>\n",
       "      <td>65</td>\n",
       "      <td>Left</td>\n",
       "    </tr>\n",
       "    <tr>\n",
       "      <th>5</th>\n",
       "      <td>31</td>\n",
       "      <td>67</td>\n",
       "      <td>Left</td>\n",
       "    </tr>\n",
       "    <tr>\n",
       "      <th>6</th>\n",
       "      <td>37</td>\n",
       "      <td>65</td>\n",
       "      <td>Left</td>\n",
       "    </tr>\n",
       "    <tr>\n",
       "      <th>7</th>\n",
       "      <td>23</td>\n",
       "      <td>68</td>\n",
       "      <td>Right</td>\n",
       "    </tr>\n",
       "    <tr>\n",
       "      <th>8</th>\n",
       "      <td>34</td>\n",
       "      <td>61</td>\n",
       "      <td>Independent</td>\n",
       "    </tr>\n",
       "    <tr>\n",
       "      <th>9</th>\n",
       "      <td>26</td>\n",
       "      <td>63</td>\n",
       "      <td>Left</td>\n",
       "    </tr>\n",
       "    <tr>\n",
       "      <th>10</th>\n",
       "      <td>36</td>\n",
       "      <td>62</td>\n",
       "      <td>Right</td>\n",
       "    </tr>\n",
       "    <tr>\n",
       "      <th>11</th>\n",
       "      <td>45</td>\n",
       "      <td>66</td>\n",
       "      <td>Left</td>\n",
       "    </tr>\n",
       "    <tr>\n",
       "      <th>12</th>\n",
       "      <td>22</td>\n",
       "      <td>66</td>\n",
       "      <td>Right</td>\n",
       "    </tr>\n",
       "    <tr>\n",
       "      <th>13</th>\n",
       "      <td>21</td>\n",
       "      <td>65</td>\n",
       "      <td>Left</td>\n",
       "    </tr>\n",
       "    <tr>\n",
       "      <th>14</th>\n",
       "      <td>21</td>\n",
       "      <td>62</td>\n",
       "      <td>Independent</td>\n",
       "    </tr>\n",
       "    <tr>\n",
       "      <th>15</th>\n",
       "      <td>21</td>\n",
       "      <td>67</td>\n",
       "      <td>Left</td>\n",
       "    </tr>\n",
       "    <tr>\n",
       "      <th>16</th>\n",
       "      <td>39</td>\n",
       "      <td>67</td>\n",
       "      <td>Right</td>\n",
       "    </tr>\n",
       "    <tr>\n",
       "      <th>17</th>\n",
       "      <td>32</td>\n",
       "      <td>60</td>\n",
       "      <td>Left</td>\n",
       "    </tr>\n",
       "    <tr>\n",
       "      <th>18</th>\n",
       "      <td>25</td>\n",
       "      <td>64</td>\n",
       "      <td>Left</td>\n",
       "    </tr>\n",
       "    <tr>\n",
       "      <th>19</th>\n",
       "      <td>27</td>\n",
       "      <td>63</td>\n",
       "      <td>Right</td>\n",
       "    </tr>\n",
       "    <tr>\n",
       "      <th>20</th>\n",
       "      <td>35</td>\n",
       "      <td>62</td>\n",
       "      <td>Independent</td>\n",
       "    </tr>\n",
       "    <tr>\n",
       "      <th>21</th>\n",
       "      <td>23</td>\n",
       "      <td>69</td>\n",
       "      <td>Left</td>\n",
       "    </tr>\n",
       "    <tr>\n",
       "      <th>22</th>\n",
       "      <td>25</td>\n",
       "      <td>69</td>\n",
       "      <td>Right</td>\n",
       "    </tr>\n",
       "    <tr>\n",
       "      <th>23</th>\n",
       "      <td>25</td>\n",
       "      <td>64</td>\n",
       "      <td>Right</td>\n",
       "    </tr>\n",
       "    <tr>\n",
       "      <th>24</th>\n",
       "      <td>33</td>\n",
       "      <td>70</td>\n",
       "      <td>Left</td>\n",
       "    </tr>\n",
       "    <tr>\n",
       "      <th>25</th>\n",
       "      <td>38</td>\n",
       "      <td>68</td>\n",
       "      <td>Left</td>\n",
       "    </tr>\n",
       "    <tr>\n",
       "      <th>26</th>\n",
       "      <td>34</td>\n",
       "      <td>62</td>\n",
       "      <td>Right</td>\n",
       "    </tr>\n",
       "    <tr>\n",
       "      <th>27</th>\n",
       "      <td>28</td>\n",
       "      <td>65</td>\n",
       "      <td>Left</td>\n",
       "    </tr>\n",
       "    <tr>\n",
       "      <th>28</th>\n",
       "      <td>33</td>\n",
       "      <td>62</td>\n",
       "      <td>Right</td>\n",
       "    </tr>\n",
       "    <tr>\n",
       "      <th>29</th>\n",
       "      <td>37</td>\n",
       "      <td>62</td>\n",
       "      <td>Right</td>\n",
       "    </tr>\n",
       "    <tr>\n",
       "      <th>30</th>\n",
       "      <td>29</td>\n",
       "      <td>64</td>\n",
       "      <td>Left</td>\n",
       "    </tr>\n",
       "    <tr>\n",
       "      <th>31</th>\n",
       "      <td>34</td>\n",
       "      <td>62</td>\n",
       "      <td>Left</td>\n",
       "    </tr>\n",
       "    <tr>\n",
       "      <th>32</th>\n",
       "      <td>39</td>\n",
       "      <td>65</td>\n",
       "      <td>Left</td>\n",
       "    </tr>\n",
       "    <tr>\n",
       "      <th>33</th>\n",
       "      <td>34</td>\n",
       "      <td>68</td>\n",
       "      <td>Left</td>\n",
       "    </tr>\n",
       "    <tr>\n",
       "      <th>34</th>\n",
       "      <td>23</td>\n",
       "      <td>63</td>\n",
       "      <td>Right</td>\n",
       "    </tr>\n",
       "    <tr>\n",
       "      <th>35</th>\n",
       "      <td>26</td>\n",
       "      <td>65</td>\n",
       "      <td>Right</td>\n",
       "    </tr>\n",
       "    <tr>\n",
       "      <th>36</th>\n",
       "      <td>28</td>\n",
       "      <td>66</td>\n",
       "      <td>Left</td>\n",
       "    </tr>\n",
       "    <tr>\n",
       "      <th>37</th>\n",
       "      <td>33</td>\n",
       "      <td>63</td>\n",
       "      <td>Left</td>\n",
       "    </tr>\n",
       "    <tr>\n",
       "      <th>38</th>\n",
       "      <td>30</td>\n",
       "      <td>64</td>\n",
       "      <td>Left</td>\n",
       "    </tr>\n",
       "    <tr>\n",
       "      <th>39</th>\n",
       "      <td>30</td>\n",
       "      <td>62</td>\n",
       "      <td>Left</td>\n",
       "    </tr>\n",
       "    <tr>\n",
       "      <th>40</th>\n",
       "      <td>23</td>\n",
       "      <td>67</td>\n",
       "      <td>Left</td>\n",
       "    </tr>\n",
       "    <tr>\n",
       "      <th>41</th>\n",
       "      <td>30</td>\n",
       "      <td>74</td>\n",
       "      <td>Right</td>\n",
       "    </tr>\n",
       "    <tr>\n",
       "      <th>42</th>\n",
       "      <td>27</td>\n",
       "      <td>67</td>\n",
       "      <td>Right</td>\n",
       "    </tr>\n",
       "    <tr>\n",
       "      <th>43</th>\n",
       "      <td>40</td>\n",
       "      <td>70</td>\n",
       "      <td>Left</td>\n",
       "    </tr>\n",
       "    <tr>\n",
       "      <th>44</th>\n",
       "      <td>30</td>\n",
       "      <td>71</td>\n",
       "      <td>Independent</td>\n",
       "    </tr>\n",
       "    <tr>\n",
       "      <th>45</th>\n",
       "      <td>32</td>\n",
       "      <td>65</td>\n",
       "      <td>Left</td>\n",
       "    </tr>\n",
       "    <tr>\n",
       "      <th>46</th>\n",
       "      <td>36</td>\n",
       "      <td>66</td>\n",
       "      <td>Left</td>\n",
       "    </tr>\n",
       "    <tr>\n",
       "      <th>47</th>\n",
       "      <td>33</td>\n",
       "      <td>63</td>\n",
       "      <td>Left</td>\n",
       "    </tr>\n",
       "    <tr>\n",
       "      <th>48</th>\n",
       "      <td>40</td>\n",
       "      <td>68</td>\n",
       "      <td>Left</td>\n",
       "    </tr>\n",
       "    <tr>\n",
       "      <th>49</th>\n",
       "      <td>33</td>\n",
       "      <td>64</td>\n",
       "      <td>Left</td>\n",
       "    </tr>\n",
       "  </tbody>\n",
       "</table>\n",
       "</div>"
      ],
      "text/plain": [
       "    Age  Height(in.)     Politics\n",
       "0    27           67         Left\n",
       "1    27           65         Left\n",
       "2    25           61         Left\n",
       "3    21           68         Left\n",
       "4    27           65         Left\n",
       "5    31           67         Left\n",
       "6    37           65         Left\n",
       "7    23           68        Right\n",
       "8    34           61  Independent\n",
       "9    26           63         Left\n",
       "10   36           62        Right\n",
       "11   45           66         Left\n",
       "12   22           66        Right\n",
       "13   21           65         Left\n",
       "14   21           62  Independent\n",
       "15   21           67         Left\n",
       "16   39           67        Right\n",
       "17   32           60         Left\n",
       "18   25           64         Left\n",
       "19   27           63        Right\n",
       "20   35           62  Independent\n",
       "21   23           69         Left\n",
       "22   25           69        Right\n",
       "23   25           64        Right\n",
       "24   33           70         Left\n",
       "25   38           68         Left\n",
       "26   34           62        Right\n",
       "27   28           65         Left\n",
       "28   33           62        Right\n",
       "29   37           62        Right\n",
       "30   29           64         Left\n",
       "31   34           62         Left\n",
       "32   39           65         Left\n",
       "33   34           68         Left\n",
       "34   23           63        Right\n",
       "35   26           65        Right\n",
       "36   28           66         Left\n",
       "37   33           63         Left\n",
       "38   30           64         Left\n",
       "39   30           62         Left\n",
       "40   23           67         Left\n",
       "41   30           74        Right\n",
       "42   27           67        Right\n",
       "43   40           70         Left\n",
       "44   30           71  Independent\n",
       "45   32           65         Left\n",
       "46   36           66         Left\n",
       "47   33           63         Left\n",
       "48   40           68         Left\n",
       "49   33           64         Left"
      ]
     },
     "execution_count": 53,
     "metadata": {},
     "output_type": "execute_result"
    }
   ],
   "source": [
    "# Access multiple columns at once by passing in a list of desired cols.\n",
    "columns_we_want = ['Age', 'Height(in.)', 'Politics']\n",
    "df[columns_we_want]"
   ]
  },
  {
   "cell_type": "markdown",
   "metadata": {},
   "source": [
    "For this reason, it is good habit to use the Indexing method to access data in your Pandas DataFrames.  You will see both in the wild, and it isn't necessarily \"bad\" to use the other method, but if you have to learn one you might as well learn the one that has no problems associated with it.  Which leads us to our next point...\n",
    "\n",
    "It is always best to have no spaces in column headers.  One of the first things I always do is rename headers to remove spaces.  In MS Excel, this is a huge time sink.  In Python and Pandas, it's a breeze.\n"
   ]
  },
  {
   "cell_type": "code",
   "execution_count": 54,
   "metadata": {
    "collapsed": true
   },
   "outputs": [],
   "source": [
    "# create a list of all column names\n",
    "cols = df.columns.tolist()\n",
    "\n",
    "# Use list comprehension to replace all spaces with underscores\n",
    "cols = [col.replace(' ', '_') for col in cols]\n",
    "\n",
    "# assign the fixed names to be the actual column names in the DF\n",
    "df.columns = cols"
   ]
  },
  {
   "cell_type": "markdown",
   "metadata": {},
   "source": [
    "We just learned how to access an entire column -- a very common task -- in Pandas.  Great!  But what about accessing specific rows?  Or subsets of certain rows or columns?  What about a particular, single cell in the DataFrame?  Well, good news.  There are three ways to do that and they're pretty logical.  Examples follow below.\n",
    "\n",
    "#### 1. `.loc`\n",
    "This is the most commonly used method. It indexes into a DF using row and column __names__.  If you pass in a name that doesn't exist in the DF, you'll get an error.\n",
    "Example: `df.loc['row_5', 'col_3']`\n",
    "\n",
    "#### 2. `.iloc`\n",
    "This is __integer__ indexing.  We pass in the number of the row or column we want, very similar to how we index into a list.  It doesn't matter that the names are.  A DF's rows and columns are indexed from 0 just like lists in Python.  If you pass in a value that doesn't exist, you'll get an error.\n",
    "Example: `df.iloc[5, 3]`   -- this will give you the cell at the 5th row and 3rd column.\n",
    "\n",
    "#### 3. `.ix`\n",
    "This is a vestige of early versions of Pandas.  It can handle both integers and names.  Sounds great, right?  Well, there's a catch.  If your index (or columns, but usually it's the index) is named as a list of integers, such as 1, 2, 3, ... etc. for each row, then using `.ix` can give you unexpected (and undesired) results to your queries.  Say you use `df.ix[5, 3]` and your index (rows) are named as ascending integers, 1, 2, ....  Does your command mean you want the acutal 5th row, or the row named '5'?  If they happen to be the same row, great.  But if they aren't, which one did you mean?  So, it is strongly recommended to use either `.loc` or `.iloc`.  It follows one of the core principles of Pythonic programming: __Explicit Over Implicit__.  \n",
    "\n",
    "Let's look at some quck examples below using our dating database."
   ]
  },
  {
   "cell_type": "code",
   "execution_count": 55,
   "metadata": {
    "collapsed": false
   },
   "outputs": [
    {
     "data": {
      "text/plain": [
       "'Red'"
      ]
     },
     "execution_count": 55,
     "metadata": {},
     "output_type": "execute_result"
    }
   ],
   "source": [
    "# Let's look at the wine preference for the person in the row named '3' and the column named 'wine'.\n",
    "df.loc[3, 'Wine']"
   ]
  },
  {
   "cell_type": "code",
   "execution_count": 61,
   "metadata": {
    "collapsed": false
   },
   "outputs": [
    {
     "data": {
      "text/plain": [
       "'White'"
      ]
     },
     "execution_count": 61,
     "metadata": {},
     "output_type": "execute_result"
    }
   ],
   "source": [
    "# Wine is the 9th column\n",
    "# Now let's look at the same thing for the 3rd row and 9th column (Wine)\n",
    "df.iloc[3, 9]"
   ]
  },
  {
   "cell_type": "markdown",
   "metadata": {},
   "source": [
    "Whoa, Nelly!  What happened?  We got \"red\" from the first query and \"white\" from the second.  Well, this example is to help drive the point home of how these indexing methods work.  In the first one we used `.loc`, which says \"give me the row named '3'.  In the second we used `.iloc` which says \"give me the 3rd overall row.\"  So remember, in Pandas just like in Python, lists (arrays) are 0-indexed, which means the first entry has an index of 0.  Let's use the `.index` attribute we learned earlier to look at the first five rows of the index and see the explanation."
   ]
  },
  {
   "cell_type": "code",
   "execution_count": 65,
   "metadata": {
    "collapsed": false
   },
   "outputs": [
    {
     "data": {
      "text/plain": [
       "array([0, 1, 2, 3, 4])"
      ]
     },
     "execution_count": 65,
     "metadata": {},
     "output_type": "execute_result"
    }
   ],
   "source": [
    "df.index[:5].values"
   ]
  },
  {
   "cell_type": "markdown",
   "metadata": {},
   "source": [
    "These are the _names_ of each row!  Yes, they're integers.  And yes, they're the same as a normal index, but these are the actual names of each row.  So, the 3rd row itself has a name of 2 (0, 1, 2 = third row).  But there is also a row with the _name_ of 3 (which, as usual in an index, is actually the fourth row overall).  Thus, using `.loc[3]` gives us the row named 3, which is the fourth overall, and using `.iloc[3]` gives us the 3rd overall row, regardless of name.  "
   ]
  },
  {
   "cell_type": "code",
   "execution_count": 74,
   "metadata": {
    "collapsed": false
   },
   "outputs": [
    {
     "data": {
      "text/html": [
       "<div>\n",
       "<table border=\"1\" class=\"dataframe\">\n",
       "  <thead>\n",
       "    <tr style=\"text-align: right;\">\n",
       "      <th></th>\n",
       "      <th>ID</th>\n",
       "      <th>Age</th>\n",
       "      <th>Height(in.)</th>\n",
       "      <th>Attraction</th>\n",
       "      <th>Hair</th>\n",
       "      <th>Intellectual_Connection</th>\n",
       "      <th>Humor</th>\n",
       "      <th>Chemistry</th>\n",
       "      <th>Attitude</th>\n",
       "      <th>Wine</th>\n",
       "      <th>Politics</th>\n",
       "      <th>Income</th>\n",
       "      <th>Divorced</th>\n",
       "      <th>Kids</th>\n",
       "      <th>Second_Date</th>\n",
       "      <th>Like_This_Person?</th>\n",
       "      <th>Political_Party</th>\n",
       "    </tr>\n",
       "  </thead>\n",
       "  <tbody>\n",
       "    <tr>\n",
       "      <th>Marie_Curie</th>\n",
       "      <td>1</td>\n",
       "      <td>27</td>\n",
       "      <td>67</td>\n",
       "      <td>4.0</td>\n",
       "      <td>Blonde</td>\n",
       "      <td>2.5</td>\n",
       "      <td>1.0</td>\n",
       "      <td>4.0</td>\n",
       "      <td>Neutral</td>\n",
       "      <td>Red</td>\n",
       "      <td>Left</td>\n",
       "      <td>Low</td>\n",
       "      <td>No</td>\n",
       "      <td>No</td>\n",
       "      <td>Yes</td>\n",
       "      <td>No</td>\n",
       "      <td>Left</td>\n",
       "    </tr>\n",
       "    <tr>\n",
       "      <th>Rosalind_Franklin</th>\n",
       "      <td>2</td>\n",
       "      <td>27</td>\n",
       "      <td>65</td>\n",
       "      <td>5.5</td>\n",
       "      <td>Blonde</td>\n",
       "      <td>6.5</td>\n",
       "      <td>4.5</td>\n",
       "      <td>3.0</td>\n",
       "      <td>Complainer</td>\n",
       "      <td>Red</td>\n",
       "      <td>Left</td>\n",
       "      <td>Low</td>\n",
       "      <td>No</td>\n",
       "      <td>No</td>\n",
       "      <td>Yes</td>\n",
       "      <td>No</td>\n",
       "      <td>Left</td>\n",
       "    </tr>\n",
       "    <tr>\n",
       "      <th>Sally_Ride</th>\n",
       "      <td>3</td>\n",
       "      <td>25</td>\n",
       "      <td>61</td>\n",
       "      <td>1.0</td>\n",
       "      <td>Brunette</td>\n",
       "      <td>2.0</td>\n",
       "      <td>2.5</td>\n",
       "      <td>1.0</td>\n",
       "      <td>Negative</td>\n",
       "      <td>White</td>\n",
       "      <td>Left</td>\n",
       "      <td>Low</td>\n",
       "      <td>No</td>\n",
       "      <td>No</td>\n",
       "      <td>No</td>\n",
       "      <td>No</td>\n",
       "      <td>Left</td>\n",
       "    </tr>\n",
       "    <tr>\n",
       "      <th>Joan_d'Arc</th>\n",
       "      <td>4</td>\n",
       "      <td>21</td>\n",
       "      <td>68</td>\n",
       "      <td>8.0</td>\n",
       "      <td>Brunette</td>\n",
       "      <td>7.5</td>\n",
       "      <td>7.0</td>\n",
       "      <td>8.0</td>\n",
       "      <td>Negative</td>\n",
       "      <td>White</td>\n",
       "      <td>Left</td>\n",
       "      <td>Low</td>\n",
       "      <td>No</td>\n",
       "      <td>No</td>\n",
       "      <td>Yes</td>\n",
       "      <td>Yes</td>\n",
       "      <td>Left</td>\n",
       "    </tr>\n",
       "    <tr>\n",
       "      <th>My_Ex-Wife</th>\n",
       "      <td>5</td>\n",
       "      <td>27</td>\n",
       "      <td>65</td>\n",
       "      <td>7.0</td>\n",
       "      <td>Blonde</td>\n",
       "      <td>7.5</td>\n",
       "      <td>6.5</td>\n",
       "      <td>8.0</td>\n",
       "      <td>Positive</td>\n",
       "      <td>Red</td>\n",
       "      <td>Left</td>\n",
       "      <td>Medium</td>\n",
       "      <td>No</td>\n",
       "      <td>No</td>\n",
       "      <td>No</td>\n",
       "      <td>Yes</td>\n",
       "      <td>Left</td>\n",
       "    </tr>\n",
       "  </tbody>\n",
       "</table>\n",
       "</div>"
      ],
      "text/plain": [
       "                   ID  Age  Height(in.)  Attraction      Hair  \\\n",
       "Marie_Curie         1   27           67         4.0    Blonde   \n",
       "Rosalind_Franklin   2   27           65         5.5    Blonde   \n",
       "Sally_Ride          3   25           61         1.0  Brunette   \n",
       "Joan_d'Arc          4   21           68         8.0  Brunette   \n",
       "My_Ex-Wife          5   27           65         7.0    Blonde   \n",
       "\n",
       "                   Intellectual_Connection  Humor  Chemistry    Attitude  \\\n",
       "Marie_Curie                            2.5    1.0        4.0     Neutral   \n",
       "Rosalind_Franklin                      6.5    4.5        3.0  Complainer   \n",
       "Sally_Ride                             2.0    2.5        1.0    Negative   \n",
       "Joan_d'Arc                             7.5    7.0        8.0    Negative   \n",
       "My_Ex-Wife                             7.5    6.5        8.0    Positive   \n",
       "\n",
       "                    Wine Politics  Income Divorced Kids Second_Date  \\\n",
       "Marie_Curie          Red     Left     Low       No   No         Yes   \n",
       "Rosalind_Franklin    Red     Left     Low       No   No         Yes   \n",
       "Sally_Ride         White     Left     Low       No   No          No   \n",
       "Joan_d'Arc         White     Left     Low       No   No         Yes   \n",
       "My_Ex-Wife           Red     Left  Medium       No   No          No   \n",
       "\n",
       "                  Like_This_Person? Political_Party  \n",
       "Marie_Curie                      No            Left  \n",
       "Rosalind_Franklin                No            Left  \n",
       "Sally_Ride                       No            Left  \n",
       "Joan_d'Arc                      Yes            Left  \n",
       "My_Ex-Wife                      Yes            Left  "
      ]
     },
     "execution_count": 74,
     "metadata": {},
     "output_type": "execute_result"
    }
   ],
   "source": [
    "# create a temporary, dummy DF with the new names just for this demo\n",
    "df_names = df.rename(index={0: 'Marie_Curie', 1: 'Rosalind_Franklin', 2: 'Sally_Ride', 3: \"Joan_d'Arc\", 4: 'My_Ex-Wife'})\n",
    "df_names.iloc[:5, :]"
   ]
  },
  {
   "cell_type": "markdown",
   "metadata": {},
   "source": [
    "Now let's try our indexing again."
   ]
  },
  {
   "cell_type": "code",
   "execution_count": 78,
   "metadata": {
    "collapsed": false
   },
   "outputs": [
    {
     "data": {
      "text/plain": [
       "'White'"
      ]
     },
     "execution_count": 78,
     "metadata": {},
     "output_type": "execute_result"
    }
   ],
   "source": [
    "# Get Joan's wine pref.\n",
    "df_names.loc[\"Joan_d'Arc\", 'Wine']"
   ]
  },
  {
   "cell_type": "code",
   "execution_count": 80,
   "metadata": {
    "collapsed": false
   },
   "outputs": [
    {
     "data": {
      "text/plain": [
       "'Red'"
      ]
     },
     "execution_count": 80,
     "metadata": {},
     "output_type": "execute_result"
    }
   ],
   "source": [
    "df_names.iloc[0, 9]"
   ]
  },
  {
   "cell_type": "code",
   "execution_count": 81,
   "metadata": {
    "collapsed": false
   },
   "outputs": [
    {
     "ename": "KeyError",
     "evalue": "'the label [3] is not in the [index]'",
     "output_type": "error",
     "traceback": [
      "\u001b[0;31m---------------------------------------------------------------------------\u001b[0m",
      "\u001b[0;31mKeyError\u001b[0m                                  Traceback (most recent call last)",
      "\u001b[0;32m/Users/jpw/anaconda/lib/python3.6/site-packages/pandas/core/indexing.py\u001b[0m in \u001b[0;36m_has_valid_type\u001b[0;34m(self, key, axis)\u001b[0m\n\u001b[1;32m   1410\u001b[0m                 \u001b[0;32mif\u001b[0m \u001b[0mkey\u001b[0m \u001b[0;32mnot\u001b[0m \u001b[0;32min\u001b[0m \u001b[0max\u001b[0m\u001b[0;34m:\u001b[0m\u001b[0;34m\u001b[0m\u001b[0m\n\u001b[0;32m-> 1411\u001b[0;31m                     \u001b[0merror\u001b[0m\u001b[0;34m(\u001b[0m\u001b[0;34m)\u001b[0m\u001b[0;34m\u001b[0m\u001b[0m\n\u001b[0m\u001b[1;32m   1412\u001b[0m             \u001b[0;32mexcept\u001b[0m \u001b[0mTypeError\u001b[0m \u001b[0;32mas\u001b[0m \u001b[0me\u001b[0m\u001b[0;34m:\u001b[0m\u001b[0;34m\u001b[0m\u001b[0m\n",
      "\u001b[0;32m/Users/jpw/anaconda/lib/python3.6/site-packages/pandas/core/indexing.py\u001b[0m in \u001b[0;36merror\u001b[0;34m()\u001b[0m\n\u001b[1;32m   1405\u001b[0m                 raise KeyError(\"the label [%s] is not in the [%s]\" %\n\u001b[0;32m-> 1406\u001b[0;31m                                (key, self.obj._get_axis_name(axis)))\n\u001b[0m\u001b[1;32m   1407\u001b[0m \u001b[0;34m\u001b[0m\u001b[0m\n",
      "\u001b[0;31mKeyError\u001b[0m: 'the label [3] is not in the [index]'",
      "\nDuring handling of the above exception, another exception occurred:\n",
      "\u001b[0;31mKeyError\u001b[0m                                  Traceback (most recent call last)",
      "\u001b[0;32m<ipython-input-81-6c9f006f4924>\u001b[0m in \u001b[0;36m<module>\u001b[0;34m()\u001b[0m\n\u001b[0;32m----> 1\u001b[0;31m \u001b[0mdf_names\u001b[0m\u001b[0;34m.\u001b[0m\u001b[0mloc\u001b[0m\u001b[0;34m[\u001b[0m\u001b[0;36m3\u001b[0m\u001b[0;34m,\u001b[0m \u001b[0;34m'Wine'\u001b[0m\u001b[0;34m]\u001b[0m\u001b[0;34m\u001b[0m\u001b[0m\n\u001b[0m",
      "\u001b[0;32m/Users/jpw/anaconda/lib/python3.6/site-packages/pandas/core/indexing.py\u001b[0m in \u001b[0;36m__getitem__\u001b[0;34m(self, key)\u001b[0m\n\u001b[1;32m   1308\u001b[0m \u001b[0;34m\u001b[0m\u001b[0m\n\u001b[1;32m   1309\u001b[0m         \u001b[0;32mif\u001b[0m \u001b[0mtype\u001b[0m\u001b[0;34m(\u001b[0m\u001b[0mkey\u001b[0m\u001b[0;34m)\u001b[0m \u001b[0;32mis\u001b[0m \u001b[0mtuple\u001b[0m\u001b[0;34m:\u001b[0m\u001b[0;34m\u001b[0m\u001b[0m\n\u001b[0;32m-> 1310\u001b[0;31m             \u001b[0;32mreturn\u001b[0m \u001b[0mself\u001b[0m\u001b[0;34m.\u001b[0m\u001b[0m_getitem_tuple\u001b[0m\u001b[0;34m(\u001b[0m\u001b[0mkey\u001b[0m\u001b[0;34m)\u001b[0m\u001b[0;34m\u001b[0m\u001b[0m\n\u001b[0m\u001b[1;32m   1311\u001b[0m         \u001b[0;32melse\u001b[0m\u001b[0;34m:\u001b[0m\u001b[0;34m\u001b[0m\u001b[0m\n\u001b[1;32m   1312\u001b[0m             \u001b[0;32mreturn\u001b[0m \u001b[0mself\u001b[0m\u001b[0;34m.\u001b[0m\u001b[0m_getitem_axis\u001b[0m\u001b[0;34m(\u001b[0m\u001b[0mkey\u001b[0m\u001b[0;34m,\u001b[0m \u001b[0maxis\u001b[0m\u001b[0;34m=\u001b[0m\u001b[0;36m0\u001b[0m\u001b[0;34m)\u001b[0m\u001b[0;34m\u001b[0m\u001b[0m\n",
      "\u001b[0;32m/Users/jpw/anaconda/lib/python3.6/site-packages/pandas/core/indexing.py\u001b[0m in \u001b[0;36m_getitem_tuple\u001b[0;34m(self, tup)\u001b[0m\n\u001b[1;32m    794\u001b[0m     \u001b[0;32mdef\u001b[0m \u001b[0m_getitem_tuple\u001b[0m\u001b[0;34m(\u001b[0m\u001b[0mself\u001b[0m\u001b[0;34m,\u001b[0m \u001b[0mtup\u001b[0m\u001b[0;34m)\u001b[0m\u001b[0;34m:\u001b[0m\u001b[0;34m\u001b[0m\u001b[0m\n\u001b[1;32m    795\u001b[0m         \u001b[0;32mtry\u001b[0m\u001b[0;34m:\u001b[0m\u001b[0;34m\u001b[0m\u001b[0m\n\u001b[0;32m--> 796\u001b[0;31m             \u001b[0;32mreturn\u001b[0m \u001b[0mself\u001b[0m\u001b[0;34m.\u001b[0m\u001b[0m_getitem_lowerdim\u001b[0m\u001b[0;34m(\u001b[0m\u001b[0mtup\u001b[0m\u001b[0;34m)\u001b[0m\u001b[0;34m\u001b[0m\u001b[0m\n\u001b[0m\u001b[1;32m    797\u001b[0m         \u001b[0;32mexcept\u001b[0m \u001b[0mIndexingError\u001b[0m\u001b[0;34m:\u001b[0m\u001b[0;34m\u001b[0m\u001b[0m\n\u001b[1;32m    798\u001b[0m             \u001b[0;32mpass\u001b[0m\u001b[0;34m\u001b[0m\u001b[0m\n",
      "\u001b[0;32m/Users/jpw/anaconda/lib/python3.6/site-packages/pandas/core/indexing.py\u001b[0m in \u001b[0;36m_getitem_lowerdim\u001b[0;34m(self, tup)\u001b[0m\n\u001b[1;32m    920\u001b[0m         \u001b[0;32mfor\u001b[0m \u001b[0mi\u001b[0m\u001b[0;34m,\u001b[0m \u001b[0mkey\u001b[0m \u001b[0;32min\u001b[0m \u001b[0menumerate\u001b[0m\u001b[0;34m(\u001b[0m\u001b[0mtup\u001b[0m\u001b[0;34m)\u001b[0m\u001b[0;34m:\u001b[0m\u001b[0;34m\u001b[0m\u001b[0m\n\u001b[1;32m    921\u001b[0m             \u001b[0;32mif\u001b[0m \u001b[0mis_label_like\u001b[0m\u001b[0;34m(\u001b[0m\u001b[0mkey\u001b[0m\u001b[0;34m)\u001b[0m \u001b[0;32mor\u001b[0m \u001b[0misinstance\u001b[0m\u001b[0;34m(\u001b[0m\u001b[0mkey\u001b[0m\u001b[0;34m,\u001b[0m \u001b[0mtuple\u001b[0m\u001b[0;34m)\u001b[0m\u001b[0;34m:\u001b[0m\u001b[0;34m\u001b[0m\u001b[0m\n\u001b[0;32m--> 922\u001b[0;31m                 \u001b[0msection\u001b[0m \u001b[0;34m=\u001b[0m \u001b[0mself\u001b[0m\u001b[0;34m.\u001b[0m\u001b[0m_getitem_axis\u001b[0m\u001b[0;34m(\u001b[0m\u001b[0mkey\u001b[0m\u001b[0;34m,\u001b[0m \u001b[0maxis\u001b[0m\u001b[0;34m=\u001b[0m\u001b[0mi\u001b[0m\u001b[0;34m)\u001b[0m\u001b[0;34m\u001b[0m\u001b[0m\n\u001b[0m\u001b[1;32m    923\u001b[0m \u001b[0;34m\u001b[0m\u001b[0m\n\u001b[1;32m    924\u001b[0m                 \u001b[0;31m# we have yielded a scalar ?\u001b[0m\u001b[0;34m\u001b[0m\u001b[0;34m\u001b[0m\u001b[0m\n",
      "\u001b[0;32m/Users/jpw/anaconda/lib/python3.6/site-packages/pandas/core/indexing.py\u001b[0m in \u001b[0;36m_getitem_axis\u001b[0;34m(self, key, axis)\u001b[0m\n\u001b[1;32m   1480\u001b[0m \u001b[0;34m\u001b[0m\u001b[0m\n\u001b[1;32m   1481\u001b[0m         \u001b[0;31m# fall thru to straight lookup\u001b[0m\u001b[0;34m\u001b[0m\u001b[0;34m\u001b[0m\u001b[0m\n\u001b[0;32m-> 1482\u001b[0;31m         \u001b[0mself\u001b[0m\u001b[0;34m.\u001b[0m\u001b[0m_has_valid_type\u001b[0m\u001b[0;34m(\u001b[0m\u001b[0mkey\u001b[0m\u001b[0;34m,\u001b[0m \u001b[0maxis\u001b[0m\u001b[0;34m)\u001b[0m\u001b[0;34m\u001b[0m\u001b[0m\n\u001b[0m\u001b[1;32m   1483\u001b[0m         \u001b[0;32mreturn\u001b[0m \u001b[0mself\u001b[0m\u001b[0;34m.\u001b[0m\u001b[0m_get_label\u001b[0m\u001b[0;34m(\u001b[0m\u001b[0mkey\u001b[0m\u001b[0;34m,\u001b[0m \u001b[0maxis\u001b[0m\u001b[0;34m=\u001b[0m\u001b[0maxis\u001b[0m\u001b[0;34m)\u001b[0m\u001b[0;34m\u001b[0m\u001b[0m\n\u001b[1;32m   1484\u001b[0m \u001b[0;34m\u001b[0m\u001b[0m\n",
      "\u001b[0;32m/Users/jpw/anaconda/lib/python3.6/site-packages/pandas/core/indexing.py\u001b[0m in \u001b[0;36m_has_valid_type\u001b[0;34m(self, key, axis)\u001b[0m\n\u001b[1;32m   1417\u001b[0m                 \u001b[0;32mraise\u001b[0m\u001b[0;34m\u001b[0m\u001b[0m\n\u001b[1;32m   1418\u001b[0m             \u001b[0;32mexcept\u001b[0m\u001b[0;34m:\u001b[0m\u001b[0;34m\u001b[0m\u001b[0m\n\u001b[0;32m-> 1419\u001b[0;31m                 \u001b[0merror\u001b[0m\u001b[0;34m(\u001b[0m\u001b[0;34m)\u001b[0m\u001b[0;34m\u001b[0m\u001b[0m\n\u001b[0m\u001b[1;32m   1420\u001b[0m \u001b[0;34m\u001b[0m\u001b[0m\n\u001b[1;32m   1421\u001b[0m         \u001b[0;32mreturn\u001b[0m \u001b[0;32mTrue\u001b[0m\u001b[0;34m\u001b[0m\u001b[0m\n",
      "\u001b[0;32m/Users/jpw/anaconda/lib/python3.6/site-packages/pandas/core/indexing.py\u001b[0m in \u001b[0;36merror\u001b[0;34m()\u001b[0m\n\u001b[1;32m   1404\u001b[0m                                     \"key\")\n\u001b[1;32m   1405\u001b[0m                 raise KeyError(\"the label [%s] is not in the [%s]\" %\n\u001b[0;32m-> 1406\u001b[0;31m                                (key, self.obj._get_axis_name(axis)))\n\u001b[0m\u001b[1;32m   1407\u001b[0m \u001b[0;34m\u001b[0m\u001b[0m\n\u001b[1;32m   1408\u001b[0m             \u001b[0;32mtry\u001b[0m\u001b[0;34m:\u001b[0m\u001b[0;34m\u001b[0m\u001b[0m\n",
      "\u001b[0;31mKeyError\u001b[0m: 'the label [3] is not in the [index]'"
     ]
    }
   ],
   "source": [
    "# this worked above but will fail now that we've renamed the rows -- there is no row named '3' anymore.\n",
    "df_names.loc[3, 'Wine']"
   ]
  },
  {
   "cell_type": "markdown",
   "metadata": {},
   "source": [
    "Last, if we want, we can do broad indexing into a DF just like a list in order to select rows:"
   ]
  },
  {
   "cell_type": "code",
   "execution_count": 96,
   "metadata": {
    "collapsed": false
   },
   "outputs": [
    {
     "data": {
      "text/html": [
       "<div>\n",
       "<table border=\"1\" class=\"dataframe\">\n",
       "  <thead>\n",
       "    <tr style=\"text-align: right;\">\n",
       "      <th></th>\n",
       "      <th>ID</th>\n",
       "      <th>Age</th>\n",
       "      <th>Height(in.)</th>\n",
       "      <th>Attraction</th>\n",
       "      <th>Hair</th>\n",
       "      <th>Intellectual_Connection</th>\n",
       "      <th>Humor</th>\n",
       "      <th>Chemistry</th>\n",
       "      <th>Attitude</th>\n",
       "      <th>Wine</th>\n",
       "      <th>Politics</th>\n",
       "      <th>Income</th>\n",
       "      <th>Divorced</th>\n",
       "      <th>Kids</th>\n",
       "      <th>Second_Date</th>\n",
       "      <th>Like_This_Person?</th>\n",
       "      <th>Political_Party</th>\n",
       "    </tr>\n",
       "  </thead>\n",
       "  <tbody>\n",
       "    <tr>\n",
       "      <th>4</th>\n",
       "      <td>5</td>\n",
       "      <td>27</td>\n",
       "      <td>65</td>\n",
       "      <td>7.0</td>\n",
       "      <td>Blonde</td>\n",
       "      <td>7.5</td>\n",
       "      <td>6.5</td>\n",
       "      <td>8.0</td>\n",
       "      <td>Positive</td>\n",
       "      <td>Red</td>\n",
       "      <td>Left</td>\n",
       "      <td>Medium</td>\n",
       "      <td>No</td>\n",
       "      <td>No</td>\n",
       "      <td>No</td>\n",
       "      <td>Yes</td>\n",
       "      <td>Left</td>\n",
       "    </tr>\n",
       "    <tr>\n",
       "      <th>5</th>\n",
       "      <td>6</td>\n",
       "      <td>31</td>\n",
       "      <td>67</td>\n",
       "      <td>2.5</td>\n",
       "      <td>Brunette</td>\n",
       "      <td>3.5</td>\n",
       "      <td>3.5</td>\n",
       "      <td>2.0</td>\n",
       "      <td>Complainer</td>\n",
       "      <td>Red</td>\n",
       "      <td>Left</td>\n",
       "      <td>Low</td>\n",
       "      <td>No</td>\n",
       "      <td>No</td>\n",
       "      <td>Yes</td>\n",
       "      <td>No</td>\n",
       "      <td>Left</td>\n",
       "    </tr>\n",
       "  </tbody>\n",
       "</table>\n",
       "</div>"
      ],
      "text/plain": [
       "   ID  Age  Height(in.)  Attraction      Hair  Intellectual_Connection  Humor  \\\n",
       "4   5   27           65         7.0    Blonde                      7.5    6.5   \n",
       "5   6   31           67         2.5  Brunette                      3.5    3.5   \n",
       "\n",
       "   Chemistry    Attitude Wine Politics  Income Divorced Kids Second_Date  \\\n",
       "4        8.0    Positive  Red     Left  Medium       No   No          No   \n",
       "5        2.0  Complainer  Red     Left     Low       No   No         Yes   \n",
       "\n",
       "  Like_This_Person? Political_Party  \n",
       "4               Yes            Left  \n",
       "5                No            Left  "
      ]
     },
     "execution_count": 96,
     "metadata": {},
     "output_type": "execute_result"
    }
   ],
   "source": [
    "# This is almost the same as .loc, but doesn't include the endpoint\n",
    "df[4:6]"
   ]
  },
  {
   "cell_type": "code",
   "execution_count": 95,
   "metadata": {
    "collapsed": false
   },
   "outputs": [
    {
     "data": {
      "text/html": [
       "<div>\n",
       "<table border=\"1\" class=\"dataframe\">\n",
       "  <thead>\n",
       "    <tr style=\"text-align: right;\">\n",
       "      <th></th>\n",
       "      <th>ID</th>\n",
       "      <th>Age</th>\n",
       "      <th>Height(in.)</th>\n",
       "      <th>Attraction</th>\n",
       "      <th>Hair</th>\n",
       "      <th>Intellectual_Connection</th>\n",
       "      <th>Humor</th>\n",
       "      <th>Chemistry</th>\n",
       "      <th>Attitude</th>\n",
       "      <th>Wine</th>\n",
       "      <th>Politics</th>\n",
       "      <th>Income</th>\n",
       "      <th>Divorced</th>\n",
       "      <th>Kids</th>\n",
       "      <th>Second_Date</th>\n",
       "      <th>Like_This_Person?</th>\n",
       "      <th>Political_Party</th>\n",
       "    </tr>\n",
       "  </thead>\n",
       "  <tbody>\n",
       "    <tr>\n",
       "      <th>4</th>\n",
       "      <td>5</td>\n",
       "      <td>27</td>\n",
       "      <td>65</td>\n",
       "      <td>7.0</td>\n",
       "      <td>Blonde</td>\n",
       "      <td>7.5</td>\n",
       "      <td>6.5</td>\n",
       "      <td>8.0</td>\n",
       "      <td>Positive</td>\n",
       "      <td>Red</td>\n",
       "      <td>Left</td>\n",
       "      <td>Medium</td>\n",
       "      <td>No</td>\n",
       "      <td>No</td>\n",
       "      <td>No</td>\n",
       "      <td>Yes</td>\n",
       "      <td>Left</td>\n",
       "    </tr>\n",
       "    <tr>\n",
       "      <th>5</th>\n",
       "      <td>6</td>\n",
       "      <td>31</td>\n",
       "      <td>67</td>\n",
       "      <td>2.5</td>\n",
       "      <td>Brunette</td>\n",
       "      <td>3.5</td>\n",
       "      <td>3.5</td>\n",
       "      <td>2.0</td>\n",
       "      <td>Complainer</td>\n",
       "      <td>Red</td>\n",
       "      <td>Left</td>\n",
       "      <td>Low</td>\n",
       "      <td>No</td>\n",
       "      <td>No</td>\n",
       "      <td>Yes</td>\n",
       "      <td>No</td>\n",
       "      <td>Left</td>\n",
       "    </tr>\n",
       "    <tr>\n",
       "      <th>6</th>\n",
       "      <td>7</td>\n",
       "      <td>37</td>\n",
       "      <td>65</td>\n",
       "      <td>7.0</td>\n",
       "      <td>Brunette</td>\n",
       "      <td>2.5</td>\n",
       "      <td>4.5</td>\n",
       "      <td>5.0</td>\n",
       "      <td>Neutral</td>\n",
       "      <td>Red</td>\n",
       "      <td>Left</td>\n",
       "      <td>Low</td>\n",
       "      <td>Yes</td>\n",
       "      <td>Yes</td>\n",
       "      <td>No</td>\n",
       "      <td>No</td>\n",
       "      <td>Left</td>\n",
       "    </tr>\n",
       "  </tbody>\n",
       "</table>\n",
       "</div>"
      ],
      "text/plain": [
       "   ID  Age  Height(in.)  Attraction      Hair  Intellectual_Connection  Humor  \\\n",
       "4   5   27           65         7.0    Blonde                      7.5    6.5   \n",
       "5   6   31           67         2.5  Brunette                      3.5    3.5   \n",
       "6   7   37           65         7.0  Brunette                      2.5    4.5   \n",
       "\n",
       "   Chemistry    Attitude Wine Politics  Income Divorced Kids Second_Date  \\\n",
       "4        8.0    Positive  Red     Left  Medium       No   No          No   \n",
       "5        2.0  Complainer  Red     Left     Low       No   No         Yes   \n",
       "6        5.0     Neutral  Red     Left     Low      Yes  Yes          No   \n",
       "\n",
       "  Like_This_Person? Political_Party  \n",
       "4               Yes            Left  \n",
       "5                No            Left  \n",
       "6                No            Left  "
      ]
     },
     "execution_count": 95,
     "metadata": {},
     "output_type": "execute_result"
    }
   ],
   "source": [
    "# .loc includes the endpoint of row 5 when used this way\n",
    "df.loc[4:6]"
   ]
  },
  {
   "cell_type": "markdown",
   "metadata": {},
   "source": [
    "And again, we can select multiple rows or columns together by passing in a list as we did before."
   ]
  },
  {
   "cell_type": "code",
   "execution_count": 91,
   "metadata": {
    "collapsed": false
   },
   "outputs": [
    {
     "data": {
      "text/html": [
       "<div>\n",
       "<table border=\"1\" class=\"dataframe\">\n",
       "  <thead>\n",
       "    <tr style=\"text-align: right;\">\n",
       "      <th></th>\n",
       "      <th>Age</th>\n",
       "      <th>Hair</th>\n",
       "      <th>Kids</th>\n",
       "    </tr>\n",
       "  </thead>\n",
       "  <tbody>\n",
       "    <tr>\n",
       "      <th>4</th>\n",
       "      <td>27</td>\n",
       "      <td>Blonde</td>\n",
       "      <td>No</td>\n",
       "    </tr>\n",
       "    <tr>\n",
       "      <th>5</th>\n",
       "      <td>31</td>\n",
       "      <td>Brunette</td>\n",
       "      <td>No</td>\n",
       "    </tr>\n",
       "    <tr>\n",
       "      <th>6</th>\n",
       "      <td>37</td>\n",
       "      <td>Brunette</td>\n",
       "      <td>Yes</td>\n",
       "    </tr>\n",
       "  </tbody>\n",
       "</table>\n",
       "</div>"
      ],
      "text/plain": [
       "   Age      Hair Kids\n",
       "4   27    Blonde   No\n",
       "5   31  Brunette   No\n",
       "6   37  Brunette  Yes"
      ]
     },
     "execution_count": 91,
     "metadata": {},
     "output_type": "execute_result"
    }
   ],
   "source": [
    "# Multiple rows and columns by name \n",
    "df.loc[4:6, ['Age', 'Hair', 'Kids']]"
   ]
  },
  {
   "cell_type": "code",
   "execution_count": 97,
   "metadata": {
    "collapsed": false
   },
   "outputs": [
    {
     "data": {
      "text/html": [
       "<div>\n",
       "<table border=\"1\" class=\"dataframe\">\n",
       "  <thead>\n",
       "    <tr style=\"text-align: right;\">\n",
       "      <th></th>\n",
       "      <th>ID</th>\n",
       "      <th>Age</th>\n",
       "      <th>Height(in.)</th>\n",
       "      <th>Attraction</th>\n",
       "      <th>Hair</th>\n",
       "      <th>Intellectual_Connection</th>\n",
       "      <th>Humor</th>\n",
       "      <th>Chemistry</th>\n",
       "      <th>Attitude</th>\n",
       "      <th>Wine</th>\n",
       "      <th>Politics</th>\n",
       "      <th>Income</th>\n",
       "      <th>Divorced</th>\n",
       "      <th>Kids</th>\n",
       "      <th>Second_Date</th>\n",
       "      <th>Like_This_Person?</th>\n",
       "      <th>Political_Party</th>\n",
       "    </tr>\n",
       "  </thead>\n",
       "  <tbody>\n",
       "    <tr>\n",
       "      <th>4</th>\n",
       "      <td>5</td>\n",
       "      <td>27</td>\n",
       "      <td>65</td>\n",
       "      <td>7.0</td>\n",
       "      <td>Blonde</td>\n",
       "      <td>7.5</td>\n",
       "      <td>6.5</td>\n",
       "      <td>8.0</td>\n",
       "      <td>Positive</td>\n",
       "      <td>Red</td>\n",
       "      <td>Left</td>\n",
       "      <td>Medium</td>\n",
       "      <td>No</td>\n",
       "      <td>No</td>\n",
       "      <td>No</td>\n",
       "      <td>Yes</td>\n",
       "      <td>Left</td>\n",
       "    </tr>\n",
       "    <tr>\n",
       "      <th>5</th>\n",
       "      <td>6</td>\n",
       "      <td>31</td>\n",
       "      <td>67</td>\n",
       "      <td>2.5</td>\n",
       "      <td>Brunette</td>\n",
       "      <td>3.5</td>\n",
       "      <td>3.5</td>\n",
       "      <td>2.0</td>\n",
       "      <td>Complainer</td>\n",
       "      <td>Red</td>\n",
       "      <td>Left</td>\n",
       "      <td>Low</td>\n",
       "      <td>No</td>\n",
       "      <td>No</td>\n",
       "      <td>Yes</td>\n",
       "      <td>No</td>\n",
       "      <td>Left</td>\n",
       "    </tr>\n",
       "  </tbody>\n",
       "</table>\n",
       "</div>"
      ],
      "text/plain": [
       "   ID  Age  Height(in.)  Attraction      Hair  Intellectual_Connection  Humor  \\\n",
       "4   5   27           65         7.0    Blonde                      7.5    6.5   \n",
       "5   6   31           67         2.5  Brunette                      3.5    3.5   \n",
       "\n",
       "   Chemistry    Attitude Wine Politics  Income Divorced Kids Second_Date  \\\n",
       "4        8.0    Positive  Red     Left  Medium       No   No          No   \n",
       "5        2.0  Complainer  Red     Left     Low       No   No         Yes   \n",
       "\n",
       "  Like_This_Person? Political_Party  \n",
       "4               Yes            Left  \n",
       "5                No            Left  "
      ]
     },
     "execution_count": 97,
     "metadata": {},
     "output_type": "execute_result"
    }
   ],
   "source": [
    "# By integer - doesn't include endpoint, just like normal python integer indexing\n",
    "df.iloc[4:6]"
   ]
  },
  {
   "cell_type": "code",
   "execution_count": 102,
   "metadata": {
    "collapsed": false
   },
   "outputs": [
    {
     "data": {
      "text/html": [
       "<div>\n",
       "<table border=\"1\" class=\"dataframe\">\n",
       "  <thead>\n",
       "    <tr style=\"text-align: right;\">\n",
       "      <th></th>\n",
       "      <th>Age</th>\n",
       "      <th>Hair</th>\n",
       "      <th>Kids</th>\n",
       "    </tr>\n",
       "  </thead>\n",
       "  <tbody>\n",
       "    <tr>\n",
       "      <th>4</th>\n",
       "      <td>27</td>\n",
       "      <td>Blonde</td>\n",
       "      <td>No</td>\n",
       "    </tr>\n",
       "    <tr>\n",
       "      <th>5</th>\n",
       "      <td>31</td>\n",
       "      <td>Brunette</td>\n",
       "      <td>No</td>\n",
       "    </tr>\n",
       "  </tbody>\n",
       "</table>\n",
       "</div>"
      ],
      "text/plain": [
       "   Age      Hair Kids\n",
       "4   27    Blonde   No\n",
       "5   31  Brunette   No"
      ]
     },
     "execution_count": 102,
     "metadata": {},
     "output_type": "execute_result"
    }
   ],
   "source": [
    "# Multiple columns and rows by int -- same exact columns as above, just by their index number instead of name\n",
    "df.iloc[4:6, [1,4,13]]"
   ]
  },
  {
   "cell_type": "markdown",
   "metadata": {},
   "source": [
    "## [Masking the Data](https://www.youtube.com/watch?v=6sJqTDaOrTg)\n",
    "***\n",
    "You'll want to click that link above.  Very explanatory stuff about Pandas.  You can think of masking as how we make 'sub-queries' within our DataFrame.  If you want to show only rows that meet certain criteria -- which you will want to do, many, many times -- this is how you do it.  There are a couple variations. We will start with the more general and continue to the more specific."
   ]
  },
  {
   "cell_type": "code",
   "execution_count": 106,
   "metadata": {
    "collapsed": false
   },
   "outputs": [
    {
     "data": {
      "text/plain": [
       "0     False\n",
       "1     False\n",
       "2     False\n",
       "3     False\n",
       "4     False\n",
       "5     False\n",
       "6      True\n",
       "7     False\n",
       "8     False\n",
       "9     False\n",
       "10     True\n",
       "11     True\n",
       "12    False\n",
       "13    False\n",
       "14    False\n",
       "15    False\n",
       "16     True\n",
       "17    False\n",
       "18    False\n",
       "19    False\n",
       "20    False\n",
       "21    False\n",
       "22    False\n",
       "23    False\n",
       "24    False\n",
       "25     True\n",
       "26    False\n",
       "27    False\n",
       "28    False\n",
       "29     True\n",
       "30    False\n",
       "31    False\n",
       "32     True\n",
       "33    False\n",
       "34    False\n",
       "35    False\n",
       "36    False\n",
       "37    False\n",
       "38    False\n",
       "39    False\n",
       "40    False\n",
       "41    False\n",
       "42    False\n",
       "43     True\n",
       "44    False\n",
       "45    False\n",
       "46     True\n",
       "47    False\n",
       "48     True\n",
       "49    False\n",
       "Name: Age, dtype: bool"
      ]
     },
     "execution_count": 106,
     "metadata": {},
     "output_type": "execute_result"
    }
   ],
   "source": [
    "# Under the hood, a mask is simply a series of \"Yes\" or \"No\" responses to whatever our search criteria is. \n",
    "# Did this data point meet our critera? Yes, okay let's include it.  No, let's exclude it.  \n",
    "# One question we might want to know in our data is who is over 35 years old.  Our result below shows us \n",
    "# whether each person is above 35 years of age or not.\n",
    "df['Age'] > 35"
   ]
  },
  {
   "cell_type": "markdown",
   "metadata": {},
   "source": [
    "That's the under the hood look.  Now we want to actually _use_ the mask to return those rows that meet our criterion.  In order to do this we simply index into our DF with the mask we have just created.  All we're doing is telling our DF to return us the rows which are `True`, that meet our criteria."
   ]
  },
  {
   "cell_type": "code",
   "execution_count": 107,
   "metadata": {
    "collapsed": false
   },
   "outputs": [
    {
     "data": {
      "text/html": [
       "<div>\n",
       "<table border=\"1\" class=\"dataframe\">\n",
       "  <thead>\n",
       "    <tr style=\"text-align: right;\">\n",
       "      <th></th>\n",
       "      <th>ID</th>\n",
       "      <th>Age</th>\n",
       "      <th>Height(in.)</th>\n",
       "      <th>Attraction</th>\n",
       "      <th>Hair</th>\n",
       "      <th>Intellectual_Connection</th>\n",
       "      <th>Humor</th>\n",
       "      <th>Chemistry</th>\n",
       "      <th>Attitude</th>\n",
       "      <th>Wine</th>\n",
       "      <th>Politics</th>\n",
       "      <th>Income</th>\n",
       "      <th>Divorced</th>\n",
       "      <th>Kids</th>\n",
       "      <th>Second_Date</th>\n",
       "      <th>Like_This_Person?</th>\n",
       "      <th>Political_Party</th>\n",
       "    </tr>\n",
       "  </thead>\n",
       "  <tbody>\n",
       "    <tr>\n",
       "      <th>6</th>\n",
       "      <td>7</td>\n",
       "      <td>37</td>\n",
       "      <td>65</td>\n",
       "      <td>7.0</td>\n",
       "      <td>Brunette</td>\n",
       "      <td>2.5</td>\n",
       "      <td>4.5</td>\n",
       "      <td>5.0</td>\n",
       "      <td>Neutral</td>\n",
       "      <td>Red</td>\n",
       "      <td>Left</td>\n",
       "      <td>Low</td>\n",
       "      <td>Yes</td>\n",
       "      <td>Yes</td>\n",
       "      <td>No</td>\n",
       "      <td>No</td>\n",
       "      <td>Left</td>\n",
       "    </tr>\n",
       "    <tr>\n",
       "      <th>10</th>\n",
       "      <td>11</td>\n",
       "      <td>36</td>\n",
       "      <td>62</td>\n",
       "      <td>8.5</td>\n",
       "      <td>Blonde</td>\n",
       "      <td>2.0</td>\n",
       "      <td>3.5</td>\n",
       "      <td>6.5</td>\n",
       "      <td>Negative</td>\n",
       "      <td>Red</td>\n",
       "      <td>Right</td>\n",
       "      <td>Low</td>\n",
       "      <td>Yes</td>\n",
       "      <td>Yes</td>\n",
       "      <td>Yes</td>\n",
       "      <td>No</td>\n",
       "      <td>Right</td>\n",
       "    </tr>\n",
       "    <tr>\n",
       "      <th>11</th>\n",
       "      <td>12</td>\n",
       "      <td>45</td>\n",
       "      <td>66</td>\n",
       "      <td>1.5</td>\n",
       "      <td>Brunette</td>\n",
       "      <td>2.5</td>\n",
       "      <td>7.0</td>\n",
       "      <td>3.5</td>\n",
       "      <td>Negative</td>\n",
       "      <td>Red</td>\n",
       "      <td>Left</td>\n",
       "      <td>Low</td>\n",
       "      <td>Yes</td>\n",
       "      <td>No</td>\n",
       "      <td>No</td>\n",
       "      <td>No</td>\n",
       "      <td>Left</td>\n",
       "    </tr>\n",
       "    <tr>\n",
       "      <th>16</th>\n",
       "      <td>17</td>\n",
       "      <td>39</td>\n",
       "      <td>67</td>\n",
       "      <td>2.0</td>\n",
       "      <td>Brunette</td>\n",
       "      <td>2.5</td>\n",
       "      <td>2.0</td>\n",
       "      <td>4.5</td>\n",
       "      <td>Negative</td>\n",
       "      <td>White</td>\n",
       "      <td>Right</td>\n",
       "      <td>Low</td>\n",
       "      <td>Yes</td>\n",
       "      <td>Yes</td>\n",
       "      <td>No</td>\n",
       "      <td>No</td>\n",
       "      <td>Right</td>\n",
       "    </tr>\n",
       "    <tr>\n",
       "      <th>25</th>\n",
       "      <td>26</td>\n",
       "      <td>38</td>\n",
       "      <td>68</td>\n",
       "      <td>5.0</td>\n",
       "      <td>Brunette</td>\n",
       "      <td>3.5</td>\n",
       "      <td>3.5</td>\n",
       "      <td>3.5</td>\n",
       "      <td>Neutral</td>\n",
       "      <td>Red</td>\n",
       "      <td>Left</td>\n",
       "      <td>Low</td>\n",
       "      <td>Yes</td>\n",
       "      <td>Yes</td>\n",
       "      <td>Yes</td>\n",
       "      <td>No</td>\n",
       "      <td>Left</td>\n",
       "    </tr>\n",
       "    <tr>\n",
       "      <th>29</th>\n",
       "      <td>30</td>\n",
       "      <td>37</td>\n",
       "      <td>62</td>\n",
       "      <td>6.5</td>\n",
       "      <td>Brunette</td>\n",
       "      <td>6.0</td>\n",
       "      <td>8.5</td>\n",
       "      <td>6.5</td>\n",
       "      <td>Negative</td>\n",
       "      <td>Red</td>\n",
       "      <td>Right</td>\n",
       "      <td>Medium</td>\n",
       "      <td>Yes</td>\n",
       "      <td>Yes</td>\n",
       "      <td>Yes</td>\n",
       "      <td>Yes</td>\n",
       "      <td>Right</td>\n",
       "    </tr>\n",
       "    <tr>\n",
       "      <th>32</th>\n",
       "      <td>33</td>\n",
       "      <td>39</td>\n",
       "      <td>65</td>\n",
       "      <td>3.5</td>\n",
       "      <td>Blonde</td>\n",
       "      <td>4.5</td>\n",
       "      <td>6.5</td>\n",
       "      <td>2.0</td>\n",
       "      <td>Neutral</td>\n",
       "      <td>Red</td>\n",
       "      <td>Left</td>\n",
       "      <td>Low</td>\n",
       "      <td>No</td>\n",
       "      <td>No</td>\n",
       "      <td>No</td>\n",
       "      <td>No</td>\n",
       "      <td>Left</td>\n",
       "    </tr>\n",
       "    <tr>\n",
       "      <th>43</th>\n",
       "      <td>44</td>\n",
       "      <td>40</td>\n",
       "      <td>70</td>\n",
       "      <td>9.0</td>\n",
       "      <td>Blonde</td>\n",
       "      <td>6.5</td>\n",
       "      <td>9.0</td>\n",
       "      <td>9.0</td>\n",
       "      <td>Positive</td>\n",
       "      <td>Red</td>\n",
       "      <td>Left</td>\n",
       "      <td>Medium</td>\n",
       "      <td>Yes</td>\n",
       "      <td>Yes</td>\n",
       "      <td>Yes</td>\n",
       "      <td>Yes</td>\n",
       "      <td>Left</td>\n",
       "    </tr>\n",
       "    <tr>\n",
       "      <th>46</th>\n",
       "      <td>47</td>\n",
       "      <td>36</td>\n",
       "      <td>66</td>\n",
       "      <td>4.5</td>\n",
       "      <td>Blonde</td>\n",
       "      <td>4.0</td>\n",
       "      <td>7.5</td>\n",
       "      <td>2.5</td>\n",
       "      <td>Complainer</td>\n",
       "      <td>Red</td>\n",
       "      <td>Left</td>\n",
       "      <td>Low</td>\n",
       "      <td>Yes</td>\n",
       "      <td>Yes</td>\n",
       "      <td>No</td>\n",
       "      <td>No</td>\n",
       "      <td>Left</td>\n",
       "    </tr>\n",
       "    <tr>\n",
       "      <th>48</th>\n",
       "      <td>49</td>\n",
       "      <td>40</td>\n",
       "      <td>68</td>\n",
       "      <td>7.0</td>\n",
       "      <td>Brunette</td>\n",
       "      <td>4.0</td>\n",
       "      <td>0.0</td>\n",
       "      <td>2.5</td>\n",
       "      <td>Negative</td>\n",
       "      <td>Red</td>\n",
       "      <td>Left</td>\n",
       "      <td>Medium</td>\n",
       "      <td>Yes</td>\n",
       "      <td>Yes</td>\n",
       "      <td>Yes</td>\n",
       "      <td>No</td>\n",
       "      <td>Left</td>\n",
       "    </tr>\n",
       "  </tbody>\n",
       "</table>\n",
       "</div>"
      ],
      "text/plain": [
       "    ID  Age  Height(in.)  Attraction      Hair  Intellectual_Connection  \\\n",
       "6    7   37           65         7.0  Brunette                      2.5   \n",
       "10  11   36           62         8.5    Blonde                      2.0   \n",
       "11  12   45           66         1.5  Brunette                      2.5   \n",
       "16  17   39           67         2.0  Brunette                      2.5   \n",
       "25  26   38           68         5.0  Brunette                      3.5   \n",
       "29  30   37           62         6.5  Brunette                      6.0   \n",
       "32  33   39           65         3.5    Blonde                      4.5   \n",
       "43  44   40           70         9.0    Blonde                      6.5   \n",
       "46  47   36           66         4.5    Blonde                      4.0   \n",
       "48  49   40           68         7.0  Brunette                      4.0   \n",
       "\n",
       "    Humor  Chemistry    Attitude   Wine Politics  Income Divorced Kids  \\\n",
       "6     4.5        5.0     Neutral    Red     Left     Low      Yes  Yes   \n",
       "10    3.5        6.5    Negative    Red    Right     Low      Yes  Yes   \n",
       "11    7.0        3.5    Negative    Red     Left     Low      Yes   No   \n",
       "16    2.0        4.5    Negative  White    Right     Low      Yes  Yes   \n",
       "25    3.5        3.5     Neutral    Red     Left     Low      Yes  Yes   \n",
       "29    8.5        6.5    Negative    Red    Right  Medium      Yes  Yes   \n",
       "32    6.5        2.0     Neutral    Red     Left     Low       No   No   \n",
       "43    9.0        9.0    Positive    Red     Left  Medium      Yes  Yes   \n",
       "46    7.5        2.5  Complainer    Red     Left     Low      Yes  Yes   \n",
       "48    0.0        2.5    Negative    Red     Left  Medium      Yes  Yes   \n",
       "\n",
       "   Second_Date Like_This_Person? Political_Party  \n",
       "6           No                No            Left  \n",
       "10         Yes                No           Right  \n",
       "11          No                No            Left  \n",
       "16          No                No           Right  \n",
       "25         Yes                No            Left  \n",
       "29         Yes               Yes           Right  \n",
       "32          No                No            Left  \n",
       "43         Yes               Yes            Left  \n",
       "46          No                No            Left  \n",
       "48         Yes                No            Left  "
      ]
     },
     "execution_count": 107,
     "metadata": {},
     "output_type": "execute_result"
    }
   ],
   "source": [
    "# do exact same as above but assign it to an object called 'mask' for illustrative purposes.  \n",
    "# Create a temporary DF called 'df_35' with only people over 35.\n",
    "mask = df['Age'] > 35\n",
    "df_35 = df[mask]\n",
    "df_35"
   ]
  },
  {
   "cell_type": "markdown",
   "metadata": {},
   "source": [
    "Boom. Done.  It's that easy.  Now we are seeing only the people who are over 35 years of age.  Let's do a quick count check.  We will simply use `.shape` to look at how many rows (people) there are in this result."
   ]
  },
  {
   "cell_type": "code",
   "execution_count": 109,
   "metadata": {
    "collapsed": false
   },
   "outputs": [
    {
     "data": {
      "text/plain": [
       "(10, 17)"
      ]
     },
     "execution_count": 109,
     "metadata": {},
     "output_type": "execute_result"
    }
   ],
   "source": [
    "# 10 rows and 17 columns; we have 10 people over 35, but we get _all_ the columns for each person.\n",
    "df_35.shape"
   ]
  },
  {
   "cell_type": "markdown",
   "metadata": {},
   "source": [
    "What if we want to add more conditions to our mask?  Say, only people over 35 who had blonde hair?  We can simply add it to our mask assignment.  \n",
    "\n",
    "__Important Note__:  \n",
    "Unlike standard Python, to use multiple conditional statements in Pandas we __have__ to enclose each one in parenthesis.  Also, in Pandas the Python keywords of __`and`__ and __`or`__ are represented by the ampersand (__`&`__) and pipe (__`|`__) characters.  Traditional __`and`__ and __`or`__ keywords will cause an error."
   ]
  },
  {
   "cell_type": "code",
   "execution_count": 111,
   "metadata": {
    "collapsed": false
   },
   "outputs": [
    {
     "data": {
      "text/html": [
       "<div>\n",
       "<table border=\"1\" class=\"dataframe\">\n",
       "  <thead>\n",
       "    <tr style=\"text-align: right;\">\n",
       "      <th></th>\n",
       "      <th>ID</th>\n",
       "      <th>Age</th>\n",
       "      <th>Height(in.)</th>\n",
       "      <th>Attraction</th>\n",
       "      <th>Hair</th>\n",
       "      <th>Intellectual_Connection</th>\n",
       "      <th>Humor</th>\n",
       "      <th>Chemistry</th>\n",
       "      <th>Attitude</th>\n",
       "      <th>Wine</th>\n",
       "      <th>Politics</th>\n",
       "      <th>Income</th>\n",
       "      <th>Divorced</th>\n",
       "      <th>Kids</th>\n",
       "      <th>Second_Date</th>\n",
       "      <th>Like_This_Person?</th>\n",
       "      <th>Political_Party</th>\n",
       "    </tr>\n",
       "  </thead>\n",
       "  <tbody>\n",
       "    <tr>\n",
       "      <th>10</th>\n",
       "      <td>11</td>\n",
       "      <td>36</td>\n",
       "      <td>62</td>\n",
       "      <td>8.5</td>\n",
       "      <td>Blonde</td>\n",
       "      <td>2.0</td>\n",
       "      <td>3.5</td>\n",
       "      <td>6.5</td>\n",
       "      <td>Negative</td>\n",
       "      <td>Red</td>\n",
       "      <td>Right</td>\n",
       "      <td>Low</td>\n",
       "      <td>Yes</td>\n",
       "      <td>Yes</td>\n",
       "      <td>Yes</td>\n",
       "      <td>No</td>\n",
       "      <td>Right</td>\n",
       "    </tr>\n",
       "    <tr>\n",
       "      <th>32</th>\n",
       "      <td>33</td>\n",
       "      <td>39</td>\n",
       "      <td>65</td>\n",
       "      <td>3.5</td>\n",
       "      <td>Blonde</td>\n",
       "      <td>4.5</td>\n",
       "      <td>6.5</td>\n",
       "      <td>2.0</td>\n",
       "      <td>Neutral</td>\n",
       "      <td>Red</td>\n",
       "      <td>Left</td>\n",
       "      <td>Low</td>\n",
       "      <td>No</td>\n",
       "      <td>No</td>\n",
       "      <td>No</td>\n",
       "      <td>No</td>\n",
       "      <td>Left</td>\n",
       "    </tr>\n",
       "    <tr>\n",
       "      <th>43</th>\n",
       "      <td>44</td>\n",
       "      <td>40</td>\n",
       "      <td>70</td>\n",
       "      <td>9.0</td>\n",
       "      <td>Blonde</td>\n",
       "      <td>6.5</td>\n",
       "      <td>9.0</td>\n",
       "      <td>9.0</td>\n",
       "      <td>Positive</td>\n",
       "      <td>Red</td>\n",
       "      <td>Left</td>\n",
       "      <td>Medium</td>\n",
       "      <td>Yes</td>\n",
       "      <td>Yes</td>\n",
       "      <td>Yes</td>\n",
       "      <td>Yes</td>\n",
       "      <td>Left</td>\n",
       "    </tr>\n",
       "    <tr>\n",
       "      <th>46</th>\n",
       "      <td>47</td>\n",
       "      <td>36</td>\n",
       "      <td>66</td>\n",
       "      <td>4.5</td>\n",
       "      <td>Blonde</td>\n",
       "      <td>4.0</td>\n",
       "      <td>7.5</td>\n",
       "      <td>2.5</td>\n",
       "      <td>Complainer</td>\n",
       "      <td>Red</td>\n",
       "      <td>Left</td>\n",
       "      <td>Low</td>\n",
       "      <td>Yes</td>\n",
       "      <td>Yes</td>\n",
       "      <td>No</td>\n",
       "      <td>No</td>\n",
       "      <td>Left</td>\n",
       "    </tr>\n",
       "  </tbody>\n",
       "</table>\n",
       "</div>"
      ],
      "text/plain": [
       "    ID  Age  Height(in.)  Attraction    Hair  Intellectual_Connection  Humor  \\\n",
       "10  11   36           62         8.5  Blonde                      2.0    3.5   \n",
       "32  33   39           65         3.5  Blonde                      4.5    6.5   \n",
       "43  44   40           70         9.0  Blonde                      6.5    9.0   \n",
       "46  47   36           66         4.5  Blonde                      4.0    7.5   \n",
       "\n",
       "    Chemistry    Attitude Wine Politics  Income Divorced Kids Second_Date  \\\n",
       "10        6.5    Negative  Red    Right     Low      Yes  Yes         Yes   \n",
       "32        2.0     Neutral  Red     Left     Low       No   No          No   \n",
       "43        9.0    Positive  Red     Left  Medium      Yes  Yes         Yes   \n",
       "46        2.5  Complainer  Red     Left     Low      Yes  Yes          No   \n",
       "\n",
       "   Like_This_Person? Political_Party  \n",
       "10                No           Right  \n",
       "32                No            Left  \n",
       "43               Yes            Left  \n",
       "46                No            Left  "
      ]
     },
     "execution_count": 111,
     "metadata": {},
     "output_type": "execute_result"
    }
   ],
   "source": [
    "# two conditions, both enclosed in parentheses and joined with an ampersand\n",
    "mask = (df['Age'] > 35) & (df['Hair'] == 'Blonde')\n",
    "df_35_blonde = df[mask]\n",
    "df_35_blonde"
   ]
  },
  {
   "cell_type": "markdown",
   "metadata": {},
   "source": [
    "Technically speaking, it _is_ possible to use these keywords in a query using the __`df.query()`__ method.  I personally never use it, but if you want to then please feel free.  You enclose all arguments in a single string.  It looks better, but it has a shortcoming that the masking method doesn't, which is interchangability is more difficult.  \n",
    "\n",
    "We can use the `.format()` string evaluation method to insert variables into the query string, but at that point we have lost the advantage of its smooth readability.  For this reason, and partly from habit, I always use the mask method when making sub-queries like above.  As far as ultimate functionality, I think it's pretty much a user-preference.\n",
    "\n",
    "Here's an example."
   ]
  },
  {
   "cell_type": "code",
   "execution_count": 113,
   "metadata": {
    "collapsed": false
   },
   "outputs": [
    {
     "data": {
      "text/html": [
       "<div>\n",
       "<table border=\"1\" class=\"dataframe\">\n",
       "  <thead>\n",
       "    <tr style=\"text-align: right;\">\n",
       "      <th></th>\n",
       "      <th>ID</th>\n",
       "      <th>Age</th>\n",
       "      <th>Height(in.)</th>\n",
       "      <th>Attraction</th>\n",
       "      <th>Hair</th>\n",
       "      <th>Intellectual_Connection</th>\n",
       "      <th>Humor</th>\n",
       "      <th>Chemistry</th>\n",
       "      <th>Attitude</th>\n",
       "      <th>Wine</th>\n",
       "      <th>Politics</th>\n",
       "      <th>Income</th>\n",
       "      <th>Divorced</th>\n",
       "      <th>Kids</th>\n",
       "      <th>Second_Date</th>\n",
       "      <th>Like_This_Person?</th>\n",
       "      <th>Political_Party</th>\n",
       "    </tr>\n",
       "  </thead>\n",
       "  <tbody>\n",
       "    <tr>\n",
       "      <th>10</th>\n",
       "      <td>11</td>\n",
       "      <td>36</td>\n",
       "      <td>62</td>\n",
       "      <td>8.5</td>\n",
       "      <td>Blonde</td>\n",
       "      <td>2.0</td>\n",
       "      <td>3.5</td>\n",
       "      <td>6.5</td>\n",
       "      <td>Negative</td>\n",
       "      <td>Red</td>\n",
       "      <td>Right</td>\n",
       "      <td>Low</td>\n",
       "      <td>Yes</td>\n",
       "      <td>Yes</td>\n",
       "      <td>Yes</td>\n",
       "      <td>No</td>\n",
       "      <td>Right</td>\n",
       "    </tr>\n",
       "    <tr>\n",
       "      <th>32</th>\n",
       "      <td>33</td>\n",
       "      <td>39</td>\n",
       "      <td>65</td>\n",
       "      <td>3.5</td>\n",
       "      <td>Blonde</td>\n",
       "      <td>4.5</td>\n",
       "      <td>6.5</td>\n",
       "      <td>2.0</td>\n",
       "      <td>Neutral</td>\n",
       "      <td>Red</td>\n",
       "      <td>Left</td>\n",
       "      <td>Low</td>\n",
       "      <td>No</td>\n",
       "      <td>No</td>\n",
       "      <td>No</td>\n",
       "      <td>No</td>\n",
       "      <td>Left</td>\n",
       "    </tr>\n",
       "    <tr>\n",
       "      <th>43</th>\n",
       "      <td>44</td>\n",
       "      <td>40</td>\n",
       "      <td>70</td>\n",
       "      <td>9.0</td>\n",
       "      <td>Blonde</td>\n",
       "      <td>6.5</td>\n",
       "      <td>9.0</td>\n",
       "      <td>9.0</td>\n",
       "      <td>Positive</td>\n",
       "      <td>Red</td>\n",
       "      <td>Left</td>\n",
       "      <td>Medium</td>\n",
       "      <td>Yes</td>\n",
       "      <td>Yes</td>\n",
       "      <td>Yes</td>\n",
       "      <td>Yes</td>\n",
       "      <td>Left</td>\n",
       "    </tr>\n",
       "    <tr>\n",
       "      <th>46</th>\n",
       "      <td>47</td>\n",
       "      <td>36</td>\n",
       "      <td>66</td>\n",
       "      <td>4.5</td>\n",
       "      <td>Blonde</td>\n",
       "      <td>4.0</td>\n",
       "      <td>7.5</td>\n",
       "      <td>2.5</td>\n",
       "      <td>Complainer</td>\n",
       "      <td>Red</td>\n",
       "      <td>Left</td>\n",
       "      <td>Low</td>\n",
       "      <td>Yes</td>\n",
       "      <td>Yes</td>\n",
       "      <td>No</td>\n",
       "      <td>No</td>\n",
       "      <td>Left</td>\n",
       "    </tr>\n",
       "  </tbody>\n",
       "</table>\n",
       "</div>"
      ],
      "text/plain": [
       "    ID  Age  Height(in.)  Attraction    Hair  Intellectual_Connection  Humor  \\\n",
       "10  11   36           62         8.5  Blonde                      2.0    3.5   \n",
       "32  33   39           65         3.5  Blonde                      4.5    6.5   \n",
       "43  44   40           70         9.0  Blonde                      6.5    9.0   \n",
       "46  47   36           66         4.5  Blonde                      4.0    7.5   \n",
       "\n",
       "    Chemistry    Attitude Wine Politics  Income Divorced Kids Second_Date  \\\n",
       "10        6.5    Negative  Red    Right     Low      Yes  Yes         Yes   \n",
       "32        2.0     Neutral  Red     Left     Low       No   No          No   \n",
       "43        9.0    Positive  Red     Left  Medium      Yes  Yes         Yes   \n",
       "46        2.5  Complainer  Red     Left     Low      Yes  Yes          No   \n",
       "\n",
       "   Like_This_Person? Political_Party  \n",
       "10                No           Right  \n",
       "32                No            Left  \n",
       "43               Yes            Left  \n",
       "46                No            Left  "
      ]
     },
     "execution_count": 113,
     "metadata": {},
     "output_type": "execute_result"
    }
   ],
   "source": [
    "df.query('Age > 35 and Hair == \"Blonde\"')"
   ]
  },
  {
   "cell_type": "markdown",
   "metadata": {},
   "source": [
    "As a final example, I want to show that you can use any column any number of times in a single query/mask.  Let's find all the people between the age of 31 and 35."
   ]
  },
  {
   "cell_type": "code",
   "execution_count": 114,
   "metadata": {
    "collapsed": false
   },
   "outputs": [
    {
     "data": {
      "text/html": [
       "<div>\n",
       "<table border=\"1\" class=\"dataframe\">\n",
       "  <thead>\n",
       "    <tr style=\"text-align: right;\">\n",
       "      <th></th>\n",
       "      <th>ID</th>\n",
       "      <th>Age</th>\n",
       "      <th>Height(in.)</th>\n",
       "      <th>Attraction</th>\n",
       "      <th>Hair</th>\n",
       "      <th>Intellectual_Connection</th>\n",
       "      <th>Humor</th>\n",
       "      <th>Chemistry</th>\n",
       "      <th>Attitude</th>\n",
       "      <th>Wine</th>\n",
       "      <th>Politics</th>\n",
       "      <th>Income</th>\n",
       "      <th>Divorced</th>\n",
       "      <th>Kids</th>\n",
       "      <th>Second_Date</th>\n",
       "      <th>Like_This_Person?</th>\n",
       "      <th>Political_Party</th>\n",
       "    </tr>\n",
       "  </thead>\n",
       "  <tbody>\n",
       "    <tr>\n",
       "      <th>8</th>\n",
       "      <td>9</td>\n",
       "      <td>34</td>\n",
       "      <td>61</td>\n",
       "      <td>3.0</td>\n",
       "      <td>Brunette</td>\n",
       "      <td>10.0</td>\n",
       "      <td>10.0</td>\n",
       "      <td>6.0</td>\n",
       "      <td>Positive</td>\n",
       "      <td>Red</td>\n",
       "      <td>Independent</td>\n",
       "      <td>High</td>\n",
       "      <td>Yes</td>\n",
       "      <td>No</td>\n",
       "      <td>Yes</td>\n",
       "      <td>Yes</td>\n",
       "      <td>Independent</td>\n",
       "    </tr>\n",
       "    <tr>\n",
       "      <th>17</th>\n",
       "      <td>18</td>\n",
       "      <td>32</td>\n",
       "      <td>60</td>\n",
       "      <td>7.0</td>\n",
       "      <td>Blonde</td>\n",
       "      <td>6.0</td>\n",
       "      <td>5.5</td>\n",
       "      <td>7.5</td>\n",
       "      <td>Positive</td>\n",
       "      <td>White</td>\n",
       "      <td>Left</td>\n",
       "      <td>High</td>\n",
       "      <td>No</td>\n",
       "      <td>No</td>\n",
       "      <td>No</td>\n",
       "      <td>No</td>\n",
       "      <td>Left</td>\n",
       "    </tr>\n",
       "    <tr>\n",
       "      <th>24</th>\n",
       "      <td>25</td>\n",
       "      <td>33</td>\n",
       "      <td>70</td>\n",
       "      <td>7.5</td>\n",
       "      <td>Brunette</td>\n",
       "      <td>6.5</td>\n",
       "      <td>6.5</td>\n",
       "      <td>7.5</td>\n",
       "      <td>Neutral</td>\n",
       "      <td>Red</td>\n",
       "      <td>Left</td>\n",
       "      <td>Medium</td>\n",
       "      <td>No</td>\n",
       "      <td>Yes</td>\n",
       "      <td>Yes</td>\n",
       "      <td>No</td>\n",
       "      <td>Left</td>\n",
       "    </tr>\n",
       "    <tr>\n",
       "      <th>26</th>\n",
       "      <td>27</td>\n",
       "      <td>34</td>\n",
       "      <td>62</td>\n",
       "      <td>8.5</td>\n",
       "      <td>Blonde</td>\n",
       "      <td>6.0</td>\n",
       "      <td>4.0</td>\n",
       "      <td>5.0</td>\n",
       "      <td>Positive</td>\n",
       "      <td>White</td>\n",
       "      <td>Right</td>\n",
       "      <td>High</td>\n",
       "      <td>No</td>\n",
       "      <td>No</td>\n",
       "      <td>No</td>\n",
       "      <td>Yes</td>\n",
       "      <td>Right</td>\n",
       "    </tr>\n",
       "    <tr>\n",
       "      <th>28</th>\n",
       "      <td>29</td>\n",
       "      <td>33</td>\n",
       "      <td>62</td>\n",
       "      <td>8.0</td>\n",
       "      <td>Brunette</td>\n",
       "      <td>6.5</td>\n",
       "      <td>7.0</td>\n",
       "      <td>8.5</td>\n",
       "      <td>Neutral</td>\n",
       "      <td>Red</td>\n",
       "      <td>Right</td>\n",
       "      <td>High</td>\n",
       "      <td>Yes</td>\n",
       "      <td>Yes</td>\n",
       "      <td>Yes</td>\n",
       "      <td>Yes</td>\n",
       "      <td>Right</td>\n",
       "    </tr>\n",
       "    <tr>\n",
       "      <th>31</th>\n",
       "      <td>32</td>\n",
       "      <td>34</td>\n",
       "      <td>62</td>\n",
       "      <td>6.5</td>\n",
       "      <td>Blonde</td>\n",
       "      <td>3.5</td>\n",
       "      <td>4.0</td>\n",
       "      <td>2.0</td>\n",
       "      <td>Positive</td>\n",
       "      <td>Red</td>\n",
       "      <td>Left</td>\n",
       "      <td>Medium</td>\n",
       "      <td>Yes</td>\n",
       "      <td>Yes</td>\n",
       "      <td>No</td>\n",
       "      <td>No</td>\n",
       "      <td>Left</td>\n",
       "    </tr>\n",
       "    <tr>\n",
       "      <th>33</th>\n",
       "      <td>34</td>\n",
       "      <td>34</td>\n",
       "      <td>68</td>\n",
       "      <td>1.5</td>\n",
       "      <td>Blonde</td>\n",
       "      <td>1.5</td>\n",
       "      <td>1.0</td>\n",
       "      <td>0.0</td>\n",
       "      <td>Negative</td>\n",
       "      <td>White</td>\n",
       "      <td>Left</td>\n",
       "      <td>Low</td>\n",
       "      <td>No</td>\n",
       "      <td>No</td>\n",
       "      <td>No</td>\n",
       "      <td>No</td>\n",
       "      <td>Left</td>\n",
       "    </tr>\n",
       "    <tr>\n",
       "      <th>37</th>\n",
       "      <td>38</td>\n",
       "      <td>33</td>\n",
       "      <td>63</td>\n",
       "      <td>8.0</td>\n",
       "      <td>Brunette</td>\n",
       "      <td>6.5</td>\n",
       "      <td>3.0</td>\n",
       "      <td>7.0</td>\n",
       "      <td>Negative</td>\n",
       "      <td>Red</td>\n",
       "      <td>Left</td>\n",
       "      <td>Low</td>\n",
       "      <td>No</td>\n",
       "      <td>No</td>\n",
       "      <td>No</td>\n",
       "      <td>Yes</td>\n",
       "      <td>Left</td>\n",
       "    </tr>\n",
       "    <tr>\n",
       "      <th>45</th>\n",
       "      <td>46</td>\n",
       "      <td>32</td>\n",
       "      <td>65</td>\n",
       "      <td>9.5</td>\n",
       "      <td>Blonde</td>\n",
       "      <td>5.0</td>\n",
       "      <td>5.0</td>\n",
       "      <td>7.0</td>\n",
       "      <td>Negative</td>\n",
       "      <td>Red</td>\n",
       "      <td>Left</td>\n",
       "      <td>High</td>\n",
       "      <td>Yes</td>\n",
       "      <td>No</td>\n",
       "      <td>No</td>\n",
       "      <td>Yes</td>\n",
       "      <td>Left</td>\n",
       "    </tr>\n",
       "    <tr>\n",
       "      <th>47</th>\n",
       "      <td>48</td>\n",
       "      <td>33</td>\n",
       "      <td>63</td>\n",
       "      <td>8.0</td>\n",
       "      <td>Brunette</td>\n",
       "      <td>5.0</td>\n",
       "      <td>6.0</td>\n",
       "      <td>9.5</td>\n",
       "      <td>Positive</td>\n",
       "      <td>Red</td>\n",
       "      <td>Left</td>\n",
       "      <td>Low</td>\n",
       "      <td>No</td>\n",
       "      <td>No</td>\n",
       "      <td>Yes</td>\n",
       "      <td>Yes</td>\n",
       "      <td>Left</td>\n",
       "    </tr>\n",
       "    <tr>\n",
       "      <th>49</th>\n",
       "      <td>50</td>\n",
       "      <td>33</td>\n",
       "      <td>64</td>\n",
       "      <td>4.5</td>\n",
       "      <td>Brunette</td>\n",
       "      <td>6.0</td>\n",
       "      <td>5.0</td>\n",
       "      <td>2.5</td>\n",
       "      <td>Neutral</td>\n",
       "      <td>Red</td>\n",
       "      <td>Left</td>\n",
       "      <td>Low</td>\n",
       "      <td>Yes</td>\n",
       "      <td>Yes</td>\n",
       "      <td>No</td>\n",
       "      <td>No</td>\n",
       "      <td>Left</td>\n",
       "    </tr>\n",
       "  </tbody>\n",
       "</table>\n",
       "</div>"
      ],
      "text/plain": [
       "    ID  Age  Height(in.)  Attraction      Hair  Intellectual_Connection  \\\n",
       "8    9   34           61         3.0  Brunette                     10.0   \n",
       "17  18   32           60         7.0    Blonde                      6.0   \n",
       "24  25   33           70         7.5  Brunette                      6.5   \n",
       "26  27   34           62         8.5    Blonde                      6.0   \n",
       "28  29   33           62         8.0  Brunette                      6.5   \n",
       "31  32   34           62         6.5    Blonde                      3.5   \n",
       "33  34   34           68         1.5    Blonde                      1.5   \n",
       "37  38   33           63         8.0  Brunette                      6.5   \n",
       "45  46   32           65         9.5    Blonde                      5.0   \n",
       "47  48   33           63         8.0  Brunette                      5.0   \n",
       "49  50   33           64         4.5  Brunette                      6.0   \n",
       "\n",
       "    Humor  Chemistry  Attitude   Wine     Politics  Income Divorced Kids  \\\n",
       "8    10.0        6.0  Positive    Red  Independent    High      Yes   No   \n",
       "17    5.5        7.5  Positive  White         Left    High       No   No   \n",
       "24    6.5        7.5   Neutral    Red         Left  Medium       No  Yes   \n",
       "26    4.0        5.0  Positive  White        Right    High       No   No   \n",
       "28    7.0        8.5   Neutral    Red        Right    High      Yes  Yes   \n",
       "31    4.0        2.0  Positive    Red         Left  Medium      Yes  Yes   \n",
       "33    1.0        0.0  Negative  White         Left     Low       No   No   \n",
       "37    3.0        7.0  Negative    Red         Left     Low       No   No   \n",
       "45    5.0        7.0  Negative    Red         Left    High      Yes   No   \n",
       "47    6.0        9.5  Positive    Red         Left     Low       No   No   \n",
       "49    5.0        2.5   Neutral    Red         Left     Low      Yes  Yes   \n",
       "\n",
       "   Second_Date Like_This_Person? Political_Party  \n",
       "8          Yes               Yes     Independent  \n",
       "17          No                No            Left  \n",
       "24         Yes                No            Left  \n",
       "26          No               Yes           Right  \n",
       "28         Yes               Yes           Right  \n",
       "31          No                No            Left  \n",
       "33          No                No            Left  \n",
       "37          No               Yes            Left  \n",
       "45          No               Yes            Left  \n",
       "47         Yes               Yes            Left  \n",
       "49          No                No            Left  "
      ]
     },
     "execution_count": 114,
     "metadata": {},
     "output_type": "execute_result"
    }
   ],
   "source": [
    "# We can use any column as many times as needed in our query\n",
    "mask = (df['Age'] > 31) & (df['Age'] < 35)\n",
    "df[mask]"
   ]
  },
  {
   "cell_type": "markdown",
   "metadata": {},
   "source": [
    "## Aggregation Techniques\n",
    "Now we get to have some fun!  This is one spot where Pandas really starts to differentiate itself from spreadsheet programs like Excel.\n",
    "\n",
    "A common task when using a database is to ask questions based on groups.  For example, we might want to know what the average number of orders from clients on the west coast are, or how many people have a certain type of health insurance based on whether they live in a city or in a rural area.  Pandas makes handling these tasks easy and offers a good amount of flexibility and power in how you can approach them.\n",
    "\n",
    "To use aggregation techniques requires two steps.\n",
    "\n",
    "#### 1. Name the column whose entries we are interesting in grouping.\n",
    "The command itself is __`df.groupby()`__, where we name the column whose data we are grouping inside the parenthesis.\n",
    "Ex: __`df.groupby('Age')`__\n",
    "\n",
    "#### 2. Choose the type of function we are going apply to the groups.\n",
    "Once we have these groups, such as customers grouped into \"west coast\" and \"east coast\", we have to choose what type of value we want to know about those groups.  Examples include __`.mean()`__, __`.median()`__, __`.count()`__, __`.sum()`__, and __`.apply()`__ which will take a `lambda` function (basically, a simple customized mini-function we write in one line).  Last, there is also the __`.agg()`__ method which lets you specify a separate aggregation function for each column you want returned (this can be very convenient).  If we use just the standard functions, such as __`.mean()`__, we will apply that one operation to the entire DF.\n",
    "\n",
    "We will use our dating database to ask some of these 'grouped' questions.\n",
    "\n",
    "#### Ex. 1: Which group has had a higher average attraction value, blondes or brunettes?"
   ]
  },
  {
   "cell_type": "code",
   "execution_count": 149,
   "metadata": {
    "collapsed": false
   },
   "outputs": [
    {
     "data": {
      "text/plain": [
       "Hair\n",
       "Blonde      6.130435\n",
       "Brunette    5.884615\n",
       "Red         3.000000\n",
       "Name: Attraction, dtype: float64"
      ]
     },
     "execution_count": 149,
     "metadata": {},
     "output_type": "execute_result"
    }
   ],
   "source": [
    "# First, groupby the column with the data we want to group: 'Hair'.  \n",
    "# Second, we want the average attraction value, so we will use the '.mean()' aggregation function.\n",
    "\n",
    "# Assign the grouped df to a new object name\n",
    "df_grouped_hair = df.groupby('Hair').mean()\n",
    "\n",
    "# Index into the grouped DF to find the column we want\n",
    "df_grouped_hair['Attraction']"
   ]
  },
  {
   "cell_type": "markdown",
   "metadata": {},
   "source": [
    "Well! It looks like though technically slightly higher by one-quarter of a point, blondes and brunettes are about equally attractive to me.  Nice to know.  The Redheads sure are getting short shrift, however.  I wonder why?  Let's find out by seeing what the sample sizes are for each category using `.value_counts()`."
   ]
  },
  {
   "cell_type": "code",
   "execution_count": 150,
   "metadata": {
    "collapsed": false
   },
   "outputs": [
    {
     "data": {
      "text/plain": [
       "Brunette    26\n",
       "Blonde      23\n",
       "Red          1\n",
       "Name: Hair, dtype: int64"
      ]
     },
     "execution_count": 150,
     "metadata": {},
     "output_type": "execute_result"
    }
   ],
   "source": [
    "# value_counts is a very conventient function that returns the counts of all entries in a column\n",
    "df['Hair'].value_counts()"
   ]
  },
  {
   "cell_type": "markdown",
   "metadata": {},
   "source": [
    "Now we see why the Red 'Hair' category only had a low value of three -- there was only one person to begin with and apparently the level of attraction wasn't as strong for that one person.  Neat.  So, after this initial look, it would be fair to say that I have not historically shown a preference for dark or light hair, and haven't met enough red headed partners to have a fair sample for them. \n",
    "\n",
    "Let's follow up on that bit about red headed sample size very quickly.  There are exactly 50 people in this database, and one has red hair.  That's exactly 2% of the total database.  According to a quick Google search, the estimate for the general population that has red hair is ...one to two percent!  \n",
    "\n",
    "The funny thing is that I would have _always_ answered \"dark hair\" for my personal preference.  But the data pretty clearly shows that this is more psychological than anything.  Neat!\n",
    "\n",
    "Now, let's ask another grouped question.\n",
    "\n",
    "#### Ex. 2:  Which group has a higher median humor connection with me, Republicans or Democrats?"
   ]
  },
  {
   "cell_type": "code",
   "execution_count": 151,
   "metadata": {
    "collapsed": false
   },
   "outputs": [
    {
     "data": {
      "text/plain": [
       "Politics\n",
       "Independent    9.5\n",
       "Left           5.0\n",
       "Right          4.5\n",
       "Name: Humor, dtype: float64"
      ]
     },
     "execution_count": 151,
     "metadata": {},
     "output_type": "execute_result"
    }
   ],
   "source": [
    "df_grouped_politics = df.groupby('Politics').median()\n",
    "df_grouped_politics['Humor']"
   ]
  },
  {
   "cell_type": "markdown",
   "metadata": {},
   "source": [
    "Now _there's_ some real difference.  Before we get too excited, let's check our counts to make sure the sample sizes are fair."
   ]
  },
  {
   "cell_type": "code",
   "execution_count": 152,
   "metadata": {
    "collapsed": false
   },
   "outputs": [
    {
     "data": {
      "text/plain": [
       "Left           32\n",
       "Right          14\n",
       "Independent     4\n",
       "Name: Politics, dtype: int64"
      ]
     },
     "execution_count": 152,
     "metadata": {},
     "output_type": "execute_result"
    }
   ],
   "source": [
    "df['Politics'].value_counts()"
   ]
  },
  {
   "cell_type": "markdown",
   "metadata": {},
   "source": [
    "I guess living in and around Boulder for years should make these counts unsurprising, of course, but it also casts some doubt on any conclusion we could make statistically about my prevalence to match humor with Independent-minded voters.  That said, we can say that averaging 9.5 out of the maximum score 10 is pretty difficult to do, even for only four people.  \n",
    "\n",
    "Regarding the effect of a liberal or conservative mindset on my humor connection with a given person, it appears to be a draw.  In the end, maybe political leanings have no real correlation with 'humor' anyway.  Maybe the concept of having matching senses of humor is just wholly unrelated to someone's political views.  (For what it's worth, I believe this to be largely true.  It's nice to see it in the data, as well).\n",
    "\n",
    "On to another example -- let's plumb this data for all it's worth.\n",
    "\n",
    "#### Ex. 3:  Does someone's attitude correlate with their income?\n",
    "Attitude and Income are both _categorical_ variables in this dataset, so we can't find their 'mean'.  Instead we will want to see their `count`, or how many of them there are.  There are various ways to handle this, but since we are not building a machine learning model and are instead only curious about the raw category counts we can group by __two__ columns.  This example is meant to show the flexibility and power of the __`.groupby()`__ method."
   ]
  },
  {
   "cell_type": "code",
   "execution_count": 156,
   "metadata": {
    "collapsed": false
   },
   "outputs": [
    {
     "data": {
      "text/html": [
       "<div>\n",
       "<table border=\"1\" class=\"dataframe\">\n",
       "  <thead>\n",
       "    <tr style=\"text-align: right;\">\n",
       "      <th></th>\n",
       "      <th></th>\n",
       "      <th>ID</th>\n",
       "      <th>Age</th>\n",
       "      <th>Height(in.)</th>\n",
       "      <th>Attraction</th>\n",
       "      <th>Hair</th>\n",
       "      <th>Intellectual_Connection</th>\n",
       "      <th>Humor</th>\n",
       "      <th>Chemistry</th>\n",
       "      <th>Wine</th>\n",
       "      <th>Politics</th>\n",
       "      <th>Divorced</th>\n",
       "      <th>Kids</th>\n",
       "      <th>Second_Date</th>\n",
       "      <th>Like_This_Person?</th>\n",
       "      <th>Political_Party</th>\n",
       "      <th>poli_counts</th>\n",
       "      <th>Humor_Poli_Avg</th>\n",
       "    </tr>\n",
       "    <tr>\n",
       "      <th>Attitude</th>\n",
       "      <th>Income</th>\n",
       "      <th></th>\n",
       "      <th></th>\n",
       "      <th></th>\n",
       "      <th></th>\n",
       "      <th></th>\n",
       "      <th></th>\n",
       "      <th></th>\n",
       "      <th></th>\n",
       "      <th></th>\n",
       "      <th></th>\n",
       "      <th></th>\n",
       "      <th></th>\n",
       "      <th></th>\n",
       "      <th></th>\n",
       "      <th></th>\n",
       "      <th></th>\n",
       "      <th></th>\n",
       "    </tr>\n",
       "  </thead>\n",
       "  <tbody>\n",
       "    <tr>\n",
       "      <th rowspan=\"2\" valign=\"top\">Complainer</th>\n",
       "      <th>Low</th>\n",
       "      <td>8</td>\n",
       "      <td>8</td>\n",
       "      <td>8</td>\n",
       "      <td>8</td>\n",
       "      <td>8</td>\n",
       "      <td>8</td>\n",
       "      <td>8</td>\n",
       "      <td>8</td>\n",
       "      <td>8</td>\n",
       "      <td>8</td>\n",
       "      <td>8</td>\n",
       "      <td>8</td>\n",
       "      <td>8</td>\n",
       "      <td>8</td>\n",
       "      <td>8</td>\n",
       "      <td>8</td>\n",
       "      <td>0</td>\n",
       "    </tr>\n",
       "    <tr>\n",
       "      <th>Medium</th>\n",
       "      <td>1</td>\n",
       "      <td>1</td>\n",
       "      <td>1</td>\n",
       "      <td>1</td>\n",
       "      <td>1</td>\n",
       "      <td>1</td>\n",
       "      <td>1</td>\n",
       "      <td>1</td>\n",
       "      <td>1</td>\n",
       "      <td>1</td>\n",
       "      <td>1</td>\n",
       "      <td>1</td>\n",
       "      <td>1</td>\n",
       "      <td>1</td>\n",
       "      <td>1</td>\n",
       "      <td>1</td>\n",
       "      <td>0</td>\n",
       "    </tr>\n",
       "    <tr>\n",
       "      <th rowspan=\"3\" valign=\"top\">Negative</th>\n",
       "      <th>High</th>\n",
       "      <td>1</td>\n",
       "      <td>1</td>\n",
       "      <td>1</td>\n",
       "      <td>1</td>\n",
       "      <td>1</td>\n",
       "      <td>1</td>\n",
       "      <td>1</td>\n",
       "      <td>1</td>\n",
       "      <td>1</td>\n",
       "      <td>1</td>\n",
       "      <td>1</td>\n",
       "      <td>1</td>\n",
       "      <td>1</td>\n",
       "      <td>1</td>\n",
       "      <td>1</td>\n",
       "      <td>1</td>\n",
       "      <td>0</td>\n",
       "    </tr>\n",
       "    <tr>\n",
       "      <th>Low</th>\n",
       "      <td>9</td>\n",
       "      <td>9</td>\n",
       "      <td>9</td>\n",
       "      <td>9</td>\n",
       "      <td>9</td>\n",
       "      <td>9</td>\n",
       "      <td>9</td>\n",
       "      <td>9</td>\n",
       "      <td>9</td>\n",
       "      <td>9</td>\n",
       "      <td>9</td>\n",
       "      <td>9</td>\n",
       "      <td>9</td>\n",
       "      <td>9</td>\n",
       "      <td>9</td>\n",
       "      <td>9</td>\n",
       "      <td>0</td>\n",
       "    </tr>\n",
       "    <tr>\n",
       "      <th>Medium</th>\n",
       "      <td>3</td>\n",
       "      <td>3</td>\n",
       "      <td>3</td>\n",
       "      <td>3</td>\n",
       "      <td>3</td>\n",
       "      <td>3</td>\n",
       "      <td>3</td>\n",
       "      <td>3</td>\n",
       "      <td>3</td>\n",
       "      <td>3</td>\n",
       "      <td>3</td>\n",
       "      <td>3</td>\n",
       "      <td>3</td>\n",
       "      <td>3</td>\n",
       "      <td>3</td>\n",
       "      <td>3</td>\n",
       "      <td>0</td>\n",
       "    </tr>\n",
       "    <tr>\n",
       "      <th rowspan=\"3\" valign=\"top\">Neutral</th>\n",
       "      <th>High</th>\n",
       "      <td>1</td>\n",
       "      <td>1</td>\n",
       "      <td>1</td>\n",
       "      <td>1</td>\n",
       "      <td>1</td>\n",
       "      <td>1</td>\n",
       "      <td>1</td>\n",
       "      <td>1</td>\n",
       "      <td>1</td>\n",
       "      <td>1</td>\n",
       "      <td>1</td>\n",
       "      <td>1</td>\n",
       "      <td>1</td>\n",
       "      <td>1</td>\n",
       "      <td>1</td>\n",
       "      <td>1</td>\n",
       "      <td>0</td>\n",
       "    </tr>\n",
       "    <tr>\n",
       "      <th>Low</th>\n",
       "      <td>8</td>\n",
       "      <td>8</td>\n",
       "      <td>8</td>\n",
       "      <td>8</td>\n",
       "      <td>8</td>\n",
       "      <td>8</td>\n",
       "      <td>8</td>\n",
       "      <td>8</td>\n",
       "      <td>8</td>\n",
       "      <td>8</td>\n",
       "      <td>8</td>\n",
       "      <td>8</td>\n",
       "      <td>8</td>\n",
       "      <td>8</td>\n",
       "      <td>8</td>\n",
       "      <td>8</td>\n",
       "      <td>0</td>\n",
       "    </tr>\n",
       "    <tr>\n",
       "      <th>Medium</th>\n",
       "      <td>3</td>\n",
       "      <td>3</td>\n",
       "      <td>3</td>\n",
       "      <td>3</td>\n",
       "      <td>3</td>\n",
       "      <td>3</td>\n",
       "      <td>3</td>\n",
       "      <td>3</td>\n",
       "      <td>3</td>\n",
       "      <td>3</td>\n",
       "      <td>3</td>\n",
       "      <td>3</td>\n",
       "      <td>3</td>\n",
       "      <td>3</td>\n",
       "      <td>3</td>\n",
       "      <td>3</td>\n",
       "      <td>0</td>\n",
       "    </tr>\n",
       "    <tr>\n",
       "      <th rowspan=\"3\" valign=\"top\">Positive</th>\n",
       "      <th>High</th>\n",
       "      <td>3</td>\n",
       "      <td>3</td>\n",
       "      <td>3</td>\n",
       "      <td>3</td>\n",
       "      <td>3</td>\n",
       "      <td>3</td>\n",
       "      <td>3</td>\n",
       "      <td>3</td>\n",
       "      <td>3</td>\n",
       "      <td>3</td>\n",
       "      <td>3</td>\n",
       "      <td>3</td>\n",
       "      <td>3</td>\n",
       "      <td>3</td>\n",
       "      <td>3</td>\n",
       "      <td>3</td>\n",
       "      <td>0</td>\n",
       "    </tr>\n",
       "    <tr>\n",
       "      <th>Low</th>\n",
       "      <td>8</td>\n",
       "      <td>8</td>\n",
       "      <td>8</td>\n",
       "      <td>8</td>\n",
       "      <td>8</td>\n",
       "      <td>8</td>\n",
       "      <td>8</td>\n",
       "      <td>8</td>\n",
       "      <td>8</td>\n",
       "      <td>8</td>\n",
       "      <td>8</td>\n",
       "      <td>8</td>\n",
       "      <td>8</td>\n",
       "      <td>8</td>\n",
       "      <td>8</td>\n",
       "      <td>8</td>\n",
       "      <td>0</td>\n",
       "    </tr>\n",
       "    <tr>\n",
       "      <th>Medium</th>\n",
       "      <td>5</td>\n",
       "      <td>5</td>\n",
       "      <td>5</td>\n",
       "      <td>5</td>\n",
       "      <td>5</td>\n",
       "      <td>5</td>\n",
       "      <td>5</td>\n",
       "      <td>5</td>\n",
       "      <td>5</td>\n",
       "      <td>5</td>\n",
       "      <td>5</td>\n",
       "      <td>5</td>\n",
       "      <td>5</td>\n",
       "      <td>5</td>\n",
       "      <td>5</td>\n",
       "      <td>5</td>\n",
       "      <td>0</td>\n",
       "    </tr>\n",
       "  </tbody>\n",
       "</table>\n",
       "</div>"
      ],
      "text/plain": [
       "                   ID  Age  Height(in.)  Attraction  Hair  \\\n",
       "Attitude   Income                                           \n",
       "Complainer Low      8    8            8           8     8   \n",
       "           Medium   1    1            1           1     1   \n",
       "Negative   High     1    1            1           1     1   \n",
       "           Low      9    9            9           9     9   \n",
       "           Medium   3    3            3           3     3   \n",
       "Neutral    High     1    1            1           1     1   \n",
       "           Low      8    8            8           8     8   \n",
       "           Medium   3    3            3           3     3   \n",
       "Positive   High     3    3            3           3     3   \n",
       "           Low      8    8            8           8     8   \n",
       "           Medium   5    5            5           5     5   \n",
       "\n",
       "                   Intellectual_Connection  Humor  Chemistry  Wine  Politics  \\\n",
       "Attitude   Income                                                              \n",
       "Complainer Low                           8      8          8     8         8   \n",
       "           Medium                        1      1          1     1         1   \n",
       "Negative   High                          1      1          1     1         1   \n",
       "           Low                           9      9          9     9         9   \n",
       "           Medium                        3      3          3     3         3   \n",
       "Neutral    High                          1      1          1     1         1   \n",
       "           Low                           8      8          8     8         8   \n",
       "           Medium                        3      3          3     3         3   \n",
       "Positive   High                          3      3          3     3         3   \n",
       "           Low                           8      8          8     8         8   \n",
       "           Medium                        5      5          5     5         5   \n",
       "\n",
       "                   Divorced  Kids  Second_Date  Like_This_Person?  \\\n",
       "Attitude   Income                                                   \n",
       "Complainer Low            8     8            8                  8   \n",
       "           Medium         1     1            1                  1   \n",
       "Negative   High           1     1            1                  1   \n",
       "           Low            9     9            9                  9   \n",
       "           Medium         3     3            3                  3   \n",
       "Neutral    High           1     1            1                  1   \n",
       "           Low            8     8            8                  8   \n",
       "           Medium         3     3            3                  3   \n",
       "Positive   High           3     3            3                  3   \n",
       "           Low            8     8            8                  8   \n",
       "           Medium         5     5            5                  5   \n",
       "\n",
       "                   Political_Party  poli_counts  Humor_Poli_Avg  \n",
       "Attitude   Income                                                \n",
       "Complainer Low                   8            8               0  \n",
       "           Medium                1            1               0  \n",
       "Negative   High                  1            1               0  \n",
       "           Low                   9            9               0  \n",
       "           Medium                3            3               0  \n",
       "Neutral    High                  1            1               0  \n",
       "           Low                   8            8               0  \n",
       "           Medium                3            3               0  \n",
       "Positive   High                  3            3               0  \n",
       "           Low                   8            8               0  \n",
       "           Medium                5            5               0  "
      ]
     },
     "execution_count": 156,
     "metadata": {},
     "output_type": "execute_result"
    }
   ],
   "source": [
    "# To group by multiple columns, we simply pass in a list of the columns _IN ORDER_ that we want to group by.\n",
    "df_grouped_attitude = df.groupby(['Attitude', 'Income']).count()\n",
    "df_grouped_attitude"
   ]
  },
  {
   "cell_type": "markdown",
   "metadata": {},
   "source": [
    "We got the entire DF back this time, which is fine.  Every column has the same counts because every column has been grouped and counted the same way.  To reduce the clutter we will index in to a column -- we can use any column that we did not group by -- to return a single series of the counts."
   ]
  },
  {
   "cell_type": "code",
   "execution_count": 171,
   "metadata": {
    "collapsed": false
   },
   "outputs": [
    {
     "data": {
      "text/plain": [
       "Attitude    Income\n",
       "Complainer  Low       8\n",
       "            Medium    1\n",
       "Negative    High      1\n",
       "            Low       9\n",
       "            Medium    3\n",
       "Neutral     High      1\n",
       "            Low       8\n",
       "            Medium    3\n",
       "Positive    High      3\n",
       "            Low       8\n",
       "            Medium    5\n",
       "Name: ID, dtype: int64"
      ]
     },
     "execution_count": 171,
     "metadata": {},
     "output_type": "execute_result"
    }
   ],
   "source": [
    "dfa = df_grouped_attitude[\"ID\"]\n",
    "dfa"
   ]
  },
  {
   "cell_type": "markdown",
   "metadata": {},
   "source": [
    "Very interesting results.  But there are a lot of categories and it can be hard to see just how they relate.  Let's try visualizing them with Pandas built-in plotting tools.\n",
    "\n",
    "## Visualization\n",
    "***"
   ]
  },
  {
   "cell_type": "code",
   "execution_count": 177,
   "metadata": {
    "collapsed": false
   },
   "outputs": [],
   "source": [
    "plot_dict = dict()\n",
    "for outter, inner in dfa.index:\n",
    "    plot_dict[\"{out}_{inn}\".format(out=outter, inn=inner)] = dfa.loc[outter, inner]\n",
    "    "
   ]
  },
  {
   "cell_type": "code",
   "execution_count": 178,
   "metadata": {
    "collapsed": false
   },
   "outputs": [
    {
     "data": {
      "text/plain": [
       "{'Complainer_Low': 8,\n",
       " 'Complainer_Medium': 1,\n",
       " 'Negative_High': 1,\n",
       " 'Negative_Low': 9,\n",
       " 'Negative_Medium': 3,\n",
       " 'Neutral_High': 1,\n",
       " 'Neutral_Low': 8,\n",
       " 'Neutral_Medium': 3,\n",
       " 'Positive_High': 3,\n",
       " 'Positive_Low': 8,\n",
       " 'Positive_Medium': 5}"
      ]
     },
     "execution_count": 178,
     "metadata": {},
     "output_type": "execute_result"
    }
   ],
   "source": [
    "plot_dict"
   ]
  },
  {
   "cell_type": "code",
   "execution_count": 203,
   "metadata": {
    "collapsed": false
   },
   "outputs": [
    {
     "data": {
      "text/plain": [
       "<matplotlib.legend.Legend at 0x113c96080>"
      ]
     },
     "execution_count": 203,
     "metadata": {},
     "output_type": "execute_result"
    },
    {
     "data": {
      "image/png": "[encoded data removed]",
      "text/plain": [
       "<matplotlib.figure.Figure at 0x1136e3d68>"
      ]
     },
     "metadata": {},
     "output_type": "display_data"
    }
   ],
   "source": [
    "l, m, h = 0, 6, 12\n",
    "fig = plt.figure(figsize=(10, 10))\n",
    "# for lmh in ['Low', 'Medium', 'High']:\n",
    "#     delta += 1 \n",
    "plt.bar(np.array([l, m, h]), [plot_dict.get('Complainer_Low', 0), plot_dict.get('Complainer_Medium', 0), plot_dict.get('Complainer_High', 0)], alpha=.5, label='Complainer')\n",
    "plt.bar(np.array([l, m, h])+1, [plot_dict.get('Negative_Low', 0), plot_dict.get('Negative_Medium', 0), plot_dict.get('Negative_High', 0)], alpha=.5, label='Negative')\n",
    "plt.bar(np.array([l, m, h])+2, [plot_dict.get('Neutral_Low', 0), plot_dict.get('Neutral_Medium', 0), plot_dict.get('Neutral_High', 0)], alpha=.5, label='Neutral')\n",
    "plt.bar(np.array([l, m, h])+3, [plot_dict.get('Positive_Low', 0), plot_dict.get('Positive_Medium', 0), plot_dict.get('Positive_High', 0)], alpha=.5, label='Positive')\n",
    "plt.xticks([1.5, 8, 14], ['Low', 'Med', 'High'])\n",
    "plt.title(\"Income Grouped by Attitude\")\n",
    "plt.ylabel(\"Number of People\")\n",
    "\n",
    "plt.legend(loc='upper right')"
   ]
  },
  {
   "cell_type": "code",
   "execution_count": null,
   "metadata": {
    "collapsed": true
   },
   "outputs": [],
   "source": []
  },
  {
   "cell_type": "code",
   "execution_count": null,
   "metadata": {
    "collapsed": true
   },
   "outputs": [],
   "source": []
  },
  {
   "cell_type": "code",
   "execution_count": null,
   "metadata": {
    "collapsed": true
   },
   "outputs": [],
   "source": []
  },
  {
   "cell_type": "code",
   "execution_count": null,
   "metadata": {
    "collapsed": true
   },
   "outputs": [],
   "source": []
  }
 ],
 "metadata": {
  "kernelspec": {
   "display_name": "Python 3",
   "language": "python",
   "name": "python3"
  },
  "language_info": {
   "codemirror_mode": {
    "name": "ipython",
    "version": 3
   },
   "file_extension": ".py",
   "mimetype": "text/x-python",
   "name": "python",
   "nbconvert_exporter": "python",
   "pygments_lexer": "ipython3",
   "version": "3.6.0"
  }
 },
 "nbformat": 4,
 "nbformat_minor": 2
}
